{
  "cells": [
    {
      "attachments": {},
      "cell_type": "markdown",
      "metadata": {
        "id": "8rG0LrLjZ3gX"
      },
      "source": [
        "# Task 3 - Modeling\n",
        "\n",
        "\n",
        "## Section 1 - Setup\n"
      ]
    },
    {
      "cell_type": "markdown",
      "metadata": {
        "id": "hMs_id3AaP9X"
      },
      "source": [
        "We want to use dataframes once again to store and manipulate the data."
      ]
    },
    {
      "cell_type": "code",
      "execution_count": 1,
      "metadata": {
        "id": "nenrhey1aYiD"
      },
      "outputs": [],
      "source": [
        "import numpy as np\n",
        "import pandas as pd"
      ]
    },
    {
      "cell_type": "code",
      "execution_count": 2,
      "metadata": {},
      "outputs": [],
      "source": [
        "import seaborn as sns\n",
        "import matplotlib.pyplot as plt"
      ]
    },
    {
      "cell_type": "markdown",
      "metadata": {
        "id": "ncPFYiD_abg4"
      },
      "source": [
        "---\n",
        "\n",
        "## Section 2 - Data loading\n",
        "\n",
        "Let's load our data for the 3 datasets provided. Be sure to upload the datasets into the destination file, so that you can access them here."
      ]
    },
    {
      "cell_type": "code",
      "execution_count": 3,
      "metadata": {
        "colab": {
          "base_uri": "https://localhost:8080/",
          "height": 250
        },
        "id": "hPJPVY2IaZdy",
        "outputId": "16a7f02a-cd42-468b-9c3b-473abb64e60e"
      },
      "outputs": [
        {
          "data": {
            "text/html": [
              "<div>\n",
              "<style scoped>\n",
              "    .dataframe tbody tr th:only-of-type {\n",
              "        vertical-align: middle;\n",
              "    }\n",
              "\n",
              "    .dataframe tbody tr th {\n",
              "        vertical-align: top;\n",
              "    }\n",
              "\n",
              "    .dataframe thead th {\n",
              "        text-align: right;\n",
              "    }\n",
              "</style>\n",
              "<table border=\"1\" class=\"dataframe\">\n",
              "  <thead>\n",
              "    <tr style=\"text-align: right;\">\n",
              "      <th></th>\n",
              "      <th>transaction_id</th>\n",
              "      <th>timestamp</th>\n",
              "      <th>product_id</th>\n",
              "      <th>category</th>\n",
              "      <th>customer_type</th>\n",
              "      <th>unit_price</th>\n",
              "      <th>quantity</th>\n",
              "      <th>total</th>\n",
              "      <th>payment_type</th>\n",
              "    </tr>\n",
              "  </thead>\n",
              "  <tbody>\n",
              "    <tr>\n",
              "      <th>0</th>\n",
              "      <td>a1c82654-c52c-45b3-8ce8-4c2a1efe63ed</td>\n",
              "      <td>2022-03-02 09:51:38</td>\n",
              "      <td>3bc6c1ea-0198-46de-9ffd-514ae3338713</td>\n",
              "      <td>fruit</td>\n",
              "      <td>gold</td>\n",
              "      <td>3.99</td>\n",
              "      <td>2</td>\n",
              "      <td>7.98</td>\n",
              "      <td>e-wallet</td>\n",
              "    </tr>\n",
              "    <tr>\n",
              "      <th>1</th>\n",
              "      <td>931ad550-09e8-4da6-beaa-8c9d17be9c60</td>\n",
              "      <td>2022-03-06 10:33:59</td>\n",
              "      <td>ad81b46c-bf38-41cf-9b54-5fe7f5eba93e</td>\n",
              "      <td>fruit</td>\n",
              "      <td>standard</td>\n",
              "      <td>3.99</td>\n",
              "      <td>1</td>\n",
              "      <td>3.99</td>\n",
              "      <td>e-wallet</td>\n",
              "    </tr>\n",
              "    <tr>\n",
              "      <th>2</th>\n",
              "      <td>ae133534-6f61-4cd6-b6b8-d1c1d8d90aea</td>\n",
              "      <td>2022-03-04 17:20:21</td>\n",
              "      <td>7c55cbd4-f306-4c04-a030-628cbe7867c1</td>\n",
              "      <td>fruit</td>\n",
              "      <td>premium</td>\n",
              "      <td>0.19</td>\n",
              "      <td>2</td>\n",
              "      <td>0.38</td>\n",
              "      <td>e-wallet</td>\n",
              "    </tr>\n",
              "    <tr>\n",
              "      <th>3</th>\n",
              "      <td>157cebd9-aaf0-475d-8a11-7c8e0f5b76e4</td>\n",
              "      <td>2022-03-02 17:23:58</td>\n",
              "      <td>80da8348-1707-403f-8be7-9e6deeccc883</td>\n",
              "      <td>fruit</td>\n",
              "      <td>gold</td>\n",
              "      <td>0.19</td>\n",
              "      <td>4</td>\n",
              "      <td>0.76</td>\n",
              "      <td>e-wallet</td>\n",
              "    </tr>\n",
              "    <tr>\n",
              "      <th>4</th>\n",
              "      <td>a81a6cd3-5e0c-44a2-826c-aea43e46c514</td>\n",
              "      <td>2022-03-05 14:32:43</td>\n",
              "      <td>7f5e86e6-f06f-45f6-bf44-27b095c9ad1d</td>\n",
              "      <td>fruit</td>\n",
              "      <td>basic</td>\n",
              "      <td>4.49</td>\n",
              "      <td>2</td>\n",
              "      <td>8.98</td>\n",
              "      <td>debit card</td>\n",
              "    </tr>\n",
              "  </tbody>\n",
              "</table>\n",
              "</div>"
            ],
            "text/plain": [
              "                         transaction_id            timestamp  \\\n",
              "0  a1c82654-c52c-45b3-8ce8-4c2a1efe63ed  2022-03-02 09:51:38   \n",
              "1  931ad550-09e8-4da6-beaa-8c9d17be9c60  2022-03-06 10:33:59   \n",
              "2  ae133534-6f61-4cd6-b6b8-d1c1d8d90aea  2022-03-04 17:20:21   \n",
              "3  157cebd9-aaf0-475d-8a11-7c8e0f5b76e4  2022-03-02 17:23:58   \n",
              "4  a81a6cd3-5e0c-44a2-826c-aea43e46c514  2022-03-05 14:32:43   \n",
              "\n",
              "                             product_id category customer_type  unit_price  \\\n",
              "0  3bc6c1ea-0198-46de-9ffd-514ae3338713    fruit          gold        3.99   \n",
              "1  ad81b46c-bf38-41cf-9b54-5fe7f5eba93e    fruit      standard        3.99   \n",
              "2  7c55cbd4-f306-4c04-a030-628cbe7867c1    fruit       premium        0.19   \n",
              "3  80da8348-1707-403f-8be7-9e6deeccc883    fruit          gold        0.19   \n",
              "4  7f5e86e6-f06f-45f6-bf44-27b095c9ad1d    fruit         basic        4.49   \n",
              "\n",
              "   quantity  total payment_type  \n",
              "0         2   7.98     e-wallet  \n",
              "1         1   3.99     e-wallet  \n",
              "2         2   0.38     e-wallet  \n",
              "3         4   0.76     e-wallet  \n",
              "4         2   8.98   debit card  "
            ]
          },
          "execution_count": 3,
          "metadata": {},
          "output_type": "execute_result"
        }
      ],
      "source": [
        "sales_df = pd.read_csv(\"sales.csv\")\n",
        "sales_df.drop(columns=[\"Unnamed: 0\"], inplace=True, errors='ignore')\n",
        "sales_df.head()"
      ]
    },
    {
      "cell_type": "code",
      "execution_count": 4,
      "metadata": {
        "colab": {
          "base_uri": "https://localhost:8080/",
          "height": 206
        },
        "id": "BmrEgGsRawiS",
        "outputId": "cba7168d-c75e-4650-a479-174ad886b22a"
      },
      "outputs": [
        {
          "data": {
            "text/html": [
              "<div>\n",
              "<style scoped>\n",
              "    .dataframe tbody tr th:only-of-type {\n",
              "        vertical-align: middle;\n",
              "    }\n",
              "\n",
              "    .dataframe tbody tr th {\n",
              "        vertical-align: top;\n",
              "    }\n",
              "\n",
              "    .dataframe thead th {\n",
              "        text-align: right;\n",
              "    }\n",
              "</style>\n",
              "<table border=\"1\" class=\"dataframe\">\n",
              "  <thead>\n",
              "    <tr style=\"text-align: right;\">\n",
              "      <th></th>\n",
              "      <th>id</th>\n",
              "      <th>timestamp</th>\n",
              "      <th>product_id</th>\n",
              "      <th>estimated_stock_pct</th>\n",
              "    </tr>\n",
              "  </thead>\n",
              "  <tbody>\n",
              "    <tr>\n",
              "      <th>0</th>\n",
              "      <td>4220e505-c247-478d-9831-6b9f87a4488a</td>\n",
              "      <td>2022-03-07 12:13:02</td>\n",
              "      <td>f658605e-75f3-4fed-a655-c0903f344427</td>\n",
              "      <td>0.75</td>\n",
              "    </tr>\n",
              "    <tr>\n",
              "      <th>1</th>\n",
              "      <td>f2612b26-fc82-49ea-8940-0751fdd4d9ef</td>\n",
              "      <td>2022-03-07 16:39:46</td>\n",
              "      <td>de06083a-f5c0-451d-b2f4-9ab88b52609d</td>\n",
              "      <td>0.48</td>\n",
              "    </tr>\n",
              "    <tr>\n",
              "      <th>2</th>\n",
              "      <td>989a287f-67e6-4478-aa49-c3a35dac0e2e</td>\n",
              "      <td>2022-03-01 18:17:43</td>\n",
              "      <td>ce8f3a04-d1a4-43b1-a7c2-fa1b8e7674c8</td>\n",
              "      <td>0.58</td>\n",
              "    </tr>\n",
              "    <tr>\n",
              "      <th>3</th>\n",
              "      <td>af8e5683-d247-46ac-9909-1a77bdebefb2</td>\n",
              "      <td>2022-03-02 14:29:09</td>\n",
              "      <td>c21e3ba9-92a3-4745-92c2-6faef73223f7</td>\n",
              "      <td>0.79</td>\n",
              "    </tr>\n",
              "    <tr>\n",
              "      <th>4</th>\n",
              "      <td>08a32247-3f44-4002-85fb-c198434dd4bb</td>\n",
              "      <td>2022-03-02 13:46:18</td>\n",
              "      <td>7f478817-aa5b-44e9-9059-8045228c9eb0</td>\n",
              "      <td>0.22</td>\n",
              "    </tr>\n",
              "  </tbody>\n",
              "</table>\n",
              "</div>"
            ],
            "text/plain": [
              "                                     id            timestamp  \\\n",
              "0  4220e505-c247-478d-9831-6b9f87a4488a  2022-03-07 12:13:02   \n",
              "1  f2612b26-fc82-49ea-8940-0751fdd4d9ef  2022-03-07 16:39:46   \n",
              "2  989a287f-67e6-4478-aa49-c3a35dac0e2e  2022-03-01 18:17:43   \n",
              "3  af8e5683-d247-46ac-9909-1a77bdebefb2  2022-03-02 14:29:09   \n",
              "4  08a32247-3f44-4002-85fb-c198434dd4bb  2022-03-02 13:46:18   \n",
              "\n",
              "                             product_id  estimated_stock_pct  \n",
              "0  f658605e-75f3-4fed-a655-c0903f344427                 0.75  \n",
              "1  de06083a-f5c0-451d-b2f4-9ab88b52609d                 0.48  \n",
              "2  ce8f3a04-d1a4-43b1-a7c2-fa1b8e7674c8                 0.58  \n",
              "3  c21e3ba9-92a3-4745-92c2-6faef73223f7                 0.79  \n",
              "4  7f478817-aa5b-44e9-9059-8045228c9eb0                 0.22  "
            ]
          },
          "execution_count": 4,
          "metadata": {},
          "output_type": "execute_result"
        }
      ],
      "source": [
        "stock_df = pd.read_csv(\"sensor_stock_levels.csv\")\n",
        "stock_df.drop(columns=[\"Unnamed: 0\"], inplace=True, errors='ignore')\n",
        "stock_df.head()"
      ]
    },
    {
      "cell_type": "code",
      "execution_count": 5,
      "metadata": {
        "colab": {
          "base_uri": "https://localhost:8080/",
          "height": 206
        },
        "id": "qDJ9PrbZa5Ro",
        "outputId": "5589a683-dacb-448a-866f-053677ba4f7c"
      },
      "outputs": [
        {
          "data": {
            "text/html": [
              "<div>\n",
              "<style scoped>\n",
              "    .dataframe tbody tr th:only-of-type {\n",
              "        vertical-align: middle;\n",
              "    }\n",
              "\n",
              "    .dataframe tbody tr th {\n",
              "        vertical-align: top;\n",
              "    }\n",
              "\n",
              "    .dataframe thead th {\n",
              "        text-align: right;\n",
              "    }\n",
              "</style>\n",
              "<table border=\"1\" class=\"dataframe\">\n",
              "  <thead>\n",
              "    <tr style=\"text-align: right;\">\n",
              "      <th></th>\n",
              "      <th>id</th>\n",
              "      <th>timestamp</th>\n",
              "      <th>temperature</th>\n",
              "    </tr>\n",
              "  </thead>\n",
              "  <tbody>\n",
              "    <tr>\n",
              "      <th>0</th>\n",
              "      <td>d1ca1ef8-0eac-42fc-af80-97106efc7b13</td>\n",
              "      <td>2022-03-07 15:55:20</td>\n",
              "      <td>2.96</td>\n",
              "    </tr>\n",
              "    <tr>\n",
              "      <th>1</th>\n",
              "      <td>4b8a66c4-0f3a-4f16-826f-8cf9397e9d18</td>\n",
              "      <td>2022-03-01 09:18:22</td>\n",
              "      <td>1.88</td>\n",
              "    </tr>\n",
              "    <tr>\n",
              "      <th>2</th>\n",
              "      <td>3d47a0c7-1e72-4512-812f-b6b5d8428cf3</td>\n",
              "      <td>2022-03-04 15:12:26</td>\n",
              "      <td>1.78</td>\n",
              "    </tr>\n",
              "    <tr>\n",
              "      <th>3</th>\n",
              "      <td>9500357b-ce15-424a-837a-7677b386f471</td>\n",
              "      <td>2022-03-02 12:30:42</td>\n",
              "      <td>2.18</td>\n",
              "    </tr>\n",
              "    <tr>\n",
              "      <th>4</th>\n",
              "      <td>c4b61fec-99c2-4c6d-8e5d-4edd8c9632fa</td>\n",
              "      <td>2022-03-05 09:09:33</td>\n",
              "      <td>1.38</td>\n",
              "    </tr>\n",
              "  </tbody>\n",
              "</table>\n",
              "</div>"
            ],
            "text/plain": [
              "                                     id            timestamp  temperature\n",
              "0  d1ca1ef8-0eac-42fc-af80-97106efc7b13  2022-03-07 15:55:20         2.96\n",
              "1  4b8a66c4-0f3a-4f16-826f-8cf9397e9d18  2022-03-01 09:18:22         1.88\n",
              "2  3d47a0c7-1e72-4512-812f-b6b5d8428cf3  2022-03-04 15:12:26         1.78\n",
              "3  9500357b-ce15-424a-837a-7677b386f471  2022-03-02 12:30:42         2.18\n",
              "4  c4b61fec-99c2-4c6d-8e5d-4edd8c9632fa  2022-03-05 09:09:33         1.38"
            ]
          },
          "execution_count": 5,
          "metadata": {},
          "output_type": "execute_result"
        }
      ],
      "source": [
        "temp_df = pd.read_csv(\"sensor_storage_temperature.csv\")\n",
        "temp_df.drop(columns=[\"Unnamed: 0\"], inplace=True, errors='ignore')\n",
        "temp_df.head() "
      ]
    },
    {
      "cell_type": "code",
      "execution_count": 6,
      "metadata": {},
      "outputs": [
        {
          "name": "stdout",
          "output_type": "stream",
          "text": [
            "<class 'pandas.core.frame.DataFrame'>\n",
            "RangeIndex: 7829 entries, 0 to 7828\n",
            "Data columns (total 9 columns):\n",
            " #   Column          Non-Null Count  Dtype  \n",
            "---  ------          --------------  -----  \n",
            " 0   transaction_id  7829 non-null   object \n",
            " 1   timestamp       7829 non-null   object \n",
            " 2   product_id      7829 non-null   object \n",
            " 3   category        7829 non-null   object \n",
            " 4   customer_type   7829 non-null   object \n",
            " 5   unit_price      7829 non-null   float64\n",
            " 6   quantity        7829 non-null   int64  \n",
            " 7   total           7829 non-null   float64\n",
            " 8   payment_type    7829 non-null   object \n",
            "dtypes: float64(2), int64(1), object(6)\n",
            "memory usage: 550.6+ KB\n"
          ]
        }
      ],
      "source": [
        "sales_df.info()"
      ]
    },
    {
      "attachments": {},
      "cell_type": "markdown",
      "metadata": {},
      "source": [
        "## Section 3- Data preprocessing \n",
        "\n",
        "### Data visualisation for temperature "
      ]
    },
    {
      "cell_type": "code",
      "execution_count": 7,
      "metadata": {},
      "outputs": [],
      "source": [
        "#convert the timestamp to pandas datetime \n",
        "ts = []\n",
        "for t in sales_df['timestamp']:\n",
        "    t = pd.Timestamp(t)\n",
        "    ts.append(t)"
      ]
    },
    {
      "cell_type": "code",
      "execution_count": 8,
      "metadata": {},
      "outputs": [
        {
          "data": {
            "text/html": [
              "<div>\n",
              "<style scoped>\n",
              "    .dataframe tbody tr th:only-of-type {\n",
              "        vertical-align: middle;\n",
              "    }\n",
              "\n",
              "    .dataframe tbody tr th {\n",
              "        vertical-align: top;\n",
              "    }\n",
              "\n",
              "    .dataframe thead th {\n",
              "        text-align: right;\n",
              "    }\n",
              "</style>\n",
              "<table border=\"1\" class=\"dataframe\">\n",
              "  <thead>\n",
              "    <tr style=\"text-align: right;\">\n",
              "      <th></th>\n",
              "      <th>transaction_id</th>\n",
              "      <th>timestamp</th>\n",
              "      <th>product_id</th>\n",
              "      <th>category</th>\n",
              "      <th>customer_type</th>\n",
              "      <th>unit_price</th>\n",
              "      <th>quantity</th>\n",
              "      <th>total</th>\n",
              "      <th>payment_type</th>\n",
              "    </tr>\n",
              "  </thead>\n",
              "  <tbody>\n",
              "  </tbody>\n",
              "</table>\n",
              "</div>"
            ],
            "text/plain": [
              "Empty DataFrame\n",
              "Columns: [transaction_id, timestamp, product_id, category, customer_type, unit_price, quantity, total, payment_type]\n",
              "Index: []"
            ]
          },
          "execution_count": 8,
          "metadata": {},
          "output_type": "execute_result"
        }
      ],
      "source": [
        "sales_df.timestamp = ts\n",
        "sales_df.transaction_id = sales_df.transaction_id.astype('str')\n",
        "sales_df.product_id = sales_df.product_id.astype('str')\n",
        "#to check for hidden NaN values\n",
        "sales_df.loc[sales_df['unit_price']==0.0]"
      ]
    },
    {
      "cell_type": "code",
      "execution_count": 9,
      "metadata": {},
      "outputs": [
        {
          "data": {
            "text/plain": [
              "Index([], dtype='object')"
            ]
          },
          "execution_count": 9,
          "metadata": {},
          "output_type": "execute_result"
        }
      ],
      "source": [
        "sales_df.columns[sales_df.isnull().any()]"
      ]
    },
    {
      "cell_type": "code",
      "execution_count": 10,
      "metadata": {},
      "outputs": [],
      "source": [
        "#temperature \n",
        "ts1 = []\n",
        "for time in temp_df['timestamp']:\n",
        "    time = pd.Timestamp(time)\n",
        "    ts1.append(time)"
      ]
    },
    {
      "cell_type": "code",
      "execution_count": 11,
      "metadata": {},
      "outputs": [],
      "source": [
        "temp_df['timestamp'] = ts1"
      ]
    },
    {
      "cell_type": "code",
      "execution_count": 12,
      "metadata": {},
      "outputs": [
        {
          "name": "stdout",
          "output_type": "stream",
          "text": [
            "<class 'pandas.core.frame.DataFrame'>\n",
            "RangeIndex: 23890 entries, 0 to 23889\n",
            "Data columns (total 3 columns):\n",
            " #   Column       Non-Null Count  Dtype         \n",
            "---  ------       --------------  -----         \n",
            " 0   id           23890 non-null  object        \n",
            " 1   timestamp    23890 non-null  datetime64[ns]\n",
            " 2   temperature  23890 non-null  float64       \n",
            "dtypes: datetime64[ns](1), float64(1), object(1)\n",
            "memory usage: 560.0+ KB\n"
          ]
        }
      ],
      "source": [
        "temp_df.info()"
      ]
    },
    {
      "cell_type": "code",
      "execution_count": 13,
      "metadata": {},
      "outputs": [
        {
          "data": {
            "text/html": [
              "<div>\n",
              "<style scoped>\n",
              "    .dataframe tbody tr th:only-of-type {\n",
              "        vertical-align: middle;\n",
              "    }\n",
              "\n",
              "    .dataframe tbody tr th {\n",
              "        vertical-align: top;\n",
              "    }\n",
              "\n",
              "    .dataframe thead th {\n",
              "        text-align: right;\n",
              "    }\n",
              "</style>\n",
              "<table border=\"1\" class=\"dataframe\">\n",
              "  <thead>\n",
              "    <tr style=\"text-align: right;\">\n",
              "      <th></th>\n",
              "      <th>id</th>\n",
              "      <th>timestamp</th>\n",
              "      <th>temperature</th>\n",
              "    </tr>\n",
              "  </thead>\n",
              "  <tbody>\n",
              "    <tr>\n",
              "      <th>0</th>\n",
              "      <td>d1ca1ef8-0eac-42fc-af80-97106efc7b13</td>\n",
              "      <td>2022-03-07 15:55:20</td>\n",
              "      <td>2.96</td>\n",
              "    </tr>\n",
              "    <tr>\n",
              "      <th>1</th>\n",
              "      <td>4b8a66c4-0f3a-4f16-826f-8cf9397e9d18</td>\n",
              "      <td>2022-03-01 09:18:22</td>\n",
              "      <td>1.88</td>\n",
              "    </tr>\n",
              "    <tr>\n",
              "      <th>2</th>\n",
              "      <td>3d47a0c7-1e72-4512-812f-b6b5d8428cf3</td>\n",
              "      <td>2022-03-04 15:12:26</td>\n",
              "      <td>1.78</td>\n",
              "    </tr>\n",
              "    <tr>\n",
              "      <th>3</th>\n",
              "      <td>9500357b-ce15-424a-837a-7677b386f471</td>\n",
              "      <td>2022-03-02 12:30:42</td>\n",
              "      <td>2.18</td>\n",
              "    </tr>\n",
              "    <tr>\n",
              "      <th>4</th>\n",
              "      <td>c4b61fec-99c2-4c6d-8e5d-4edd8c9632fa</td>\n",
              "      <td>2022-03-05 09:09:33</td>\n",
              "      <td>1.38</td>\n",
              "    </tr>\n",
              "    <tr>\n",
              "      <th>...</th>\n",
              "      <td>...</td>\n",
              "      <td>...</td>\n",
              "      <td>...</td>\n",
              "    </tr>\n",
              "    <tr>\n",
              "      <th>23885</th>\n",
              "      <td>17bcff56-9965-4e9f-ad5f-107f0f3be93f</td>\n",
              "      <td>2022-03-01 10:40:43</td>\n",
              "      <td>-1.46</td>\n",
              "    </tr>\n",
              "    <tr>\n",
              "      <th>23886</th>\n",
              "      <td>51d4eb44-04bd-4d6a-b777-0653bc173303</td>\n",
              "      <td>2022-03-05 17:07:49</td>\n",
              "      <td>-19.37</td>\n",
              "    </tr>\n",
              "    <tr>\n",
              "      <th>23887</th>\n",
              "      <td>bbcacfc4-3b59-47ee-b9e1-7dd3bd588748</td>\n",
              "      <td>2022-03-01 16:15:41</td>\n",
              "      <td>-2.89</td>\n",
              "    </tr>\n",
              "    <tr>\n",
              "      <th>23888</th>\n",
              "      <td>5c4d567b-4bcf-4fcd-86b7-e2db5de6e439</td>\n",
              "      <td>2022-03-07 14:44:52</td>\n",
              "      <td>-2.56</td>\n",
              "    </tr>\n",
              "    <tr>\n",
              "      <th>23889</th>\n",
              "      <td>589c28e1-f1f3-4efb-af6d-9f194c4d7d5b</td>\n",
              "      <td>2022-03-01 16:33:41</td>\n",
              "      <td>0.13</td>\n",
              "    </tr>\n",
              "  </tbody>\n",
              "</table>\n",
              "<p>23890 rows × 3 columns</p>\n",
              "</div>"
            ],
            "text/plain": [
              "                                         id           timestamp  temperature\n",
              "0      d1ca1ef8-0eac-42fc-af80-97106efc7b13 2022-03-07 15:55:20         2.96\n",
              "1      4b8a66c4-0f3a-4f16-826f-8cf9397e9d18 2022-03-01 09:18:22         1.88\n",
              "2      3d47a0c7-1e72-4512-812f-b6b5d8428cf3 2022-03-04 15:12:26         1.78\n",
              "3      9500357b-ce15-424a-837a-7677b386f471 2022-03-02 12:30:42         2.18\n",
              "4      c4b61fec-99c2-4c6d-8e5d-4edd8c9632fa 2022-03-05 09:09:33         1.38\n",
              "...                                     ...                 ...          ...\n",
              "23885  17bcff56-9965-4e9f-ad5f-107f0f3be93f 2022-03-01 10:40:43        -1.46\n",
              "23886  51d4eb44-04bd-4d6a-b777-0653bc173303 2022-03-05 17:07:49       -19.37\n",
              "23887  bbcacfc4-3b59-47ee-b9e1-7dd3bd588748 2022-03-01 16:15:41        -2.89\n",
              "23888  5c4d567b-4bcf-4fcd-86b7-e2db5de6e439 2022-03-07 14:44:52        -2.56\n",
              "23889  589c28e1-f1f3-4efb-af6d-9f194c4d7d5b 2022-03-01 16:33:41         0.13\n",
              "\n",
              "[23890 rows x 3 columns]"
            ]
          },
          "execution_count": 13,
          "metadata": {},
          "output_type": "execute_result"
        }
      ],
      "source": [
        "temp_df"
      ]
    },
    {
      "cell_type": "code",
      "execution_count": 14,
      "metadata": {},
      "outputs": [],
      "source": [
        "temp_df.set_index('timestamp',inplace=True)"
      ]
    },
    {
      "cell_type": "code",
      "execution_count": 15,
      "metadata": {},
      "outputs": [],
      "source": [
        "#resample temperature timestamp to hourly\n",
        "hourly_temp = temp_df.resample('H').mean()\n"
      ]
    },
    {
      "cell_type": "code",
      "execution_count": 16,
      "metadata": {},
      "outputs": [
        {
          "data": {
            "text/html": [
              "<div>\n",
              "<style scoped>\n",
              "    .dataframe tbody tr th:only-of-type {\n",
              "        vertical-align: middle;\n",
              "    }\n",
              "\n",
              "    .dataframe tbody tr th {\n",
              "        vertical-align: top;\n",
              "    }\n",
              "\n",
              "    .dataframe thead th {\n",
              "        text-align: right;\n",
              "    }\n",
              "</style>\n",
              "<table border=\"1\" class=\"dataframe\">\n",
              "  <thead>\n",
              "    <tr style=\"text-align: right;\">\n",
              "      <th></th>\n",
              "      <th>temperature</th>\n",
              "    </tr>\n",
              "    <tr>\n",
              "      <th>timestamp</th>\n",
              "      <th></th>\n",
              "    </tr>\n",
              "  </thead>\n",
              "  <tbody>\n",
              "    <tr>\n",
              "      <th>2022-03-01 09:00:00</th>\n",
              "      <td>-0.028850</td>\n",
              "    </tr>\n",
              "    <tr>\n",
              "      <th>2022-03-01 10:00:00</th>\n",
              "      <td>1.284314</td>\n",
              "    </tr>\n",
              "    <tr>\n",
              "      <th>2022-03-01 11:00:00</th>\n",
              "      <td>-0.560000</td>\n",
              "    </tr>\n",
              "    <tr>\n",
              "      <th>2022-03-01 12:00:00</th>\n",
              "      <td>-0.537721</td>\n",
              "    </tr>\n",
              "    <tr>\n",
              "      <th>2022-03-01 13:00:00</th>\n",
              "      <td>-0.188734</td>\n",
              "    </tr>\n",
              "    <tr>\n",
              "      <th>...</th>\n",
              "      <td>...</td>\n",
              "    </tr>\n",
              "    <tr>\n",
              "      <th>2022-03-07 15:00:00</th>\n",
              "      <td>-0.943848</td>\n",
              "    </tr>\n",
              "    <tr>\n",
              "      <th>2022-03-07 16:00:00</th>\n",
              "      <td>-0.230631</td>\n",
              "    </tr>\n",
              "    <tr>\n",
              "      <th>2022-03-07 17:00:00</th>\n",
              "      <td>-0.003988</td>\n",
              "    </tr>\n",
              "    <tr>\n",
              "      <th>2022-03-07 18:00:00</th>\n",
              "      <td>0.409693</td>\n",
              "    </tr>\n",
              "    <tr>\n",
              "      <th>2022-03-07 19:00:00</th>\n",
              "      <td>-0.165077</td>\n",
              "    </tr>\n",
              "  </tbody>\n",
              "</table>\n",
              "<p>155 rows × 1 columns</p>\n",
              "</div>"
            ],
            "text/plain": [
              "                     temperature\n",
              "timestamp                       \n",
              "2022-03-01 09:00:00    -0.028850\n",
              "2022-03-01 10:00:00     1.284314\n",
              "2022-03-01 11:00:00    -0.560000\n",
              "2022-03-01 12:00:00    -0.537721\n",
              "2022-03-01 13:00:00    -0.188734\n",
              "...                          ...\n",
              "2022-03-07 15:00:00    -0.943848\n",
              "2022-03-07 16:00:00    -0.230631\n",
              "2022-03-07 17:00:00    -0.003988\n",
              "2022-03-07 18:00:00     0.409693\n",
              "2022-03-07 19:00:00    -0.165077\n",
              "\n",
              "[155 rows x 1 columns]"
            ]
          },
          "execution_count": 16,
          "metadata": {},
          "output_type": "execute_result"
        }
      ],
      "source": [
        "hourly_temp"
      ]
    },
    {
      "cell_type": "code",
      "execution_count": 17,
      "metadata": {},
      "outputs": [],
      "source": [
        "#sample visualisation of target date\n",
        "target_date = '2022-03-01'"
      ]
    },
    {
      "cell_type": "code",
      "execution_count": 18,
      "metadata": {},
      "outputs": [],
      "source": [
        "subset_df = temp_df[temp_df.index.date == pd.to_datetime(target_date).date()]"
      ]
    },
    {
      "cell_type": "code",
      "execution_count": 19,
      "metadata": {},
      "outputs": [
        {
          "data": {
            "text/html": [
              "<div>\n",
              "<style scoped>\n",
              "    .dataframe tbody tr th:only-of-type {\n",
              "        vertical-align: middle;\n",
              "    }\n",
              "\n",
              "    .dataframe tbody tr th {\n",
              "        vertical-align: top;\n",
              "    }\n",
              "\n",
              "    .dataframe thead th {\n",
              "        text-align: right;\n",
              "    }\n",
              "</style>\n",
              "<table border=\"1\" class=\"dataframe\">\n",
              "  <thead>\n",
              "    <tr style=\"text-align: right;\">\n",
              "      <th></th>\n",
              "      <th>temperature</th>\n",
              "    </tr>\n",
              "    <tr>\n",
              "      <th>timestamp</th>\n",
              "      <th></th>\n",
              "    </tr>\n",
              "  </thead>\n",
              "  <tbody>\n",
              "    <tr>\n",
              "      <th>2022-03-01 09:00:00</th>\n",
              "      <td>-0.028850</td>\n",
              "    </tr>\n",
              "    <tr>\n",
              "      <th>2022-03-01 10:00:00</th>\n",
              "      <td>1.284314</td>\n",
              "    </tr>\n",
              "    <tr>\n",
              "      <th>2022-03-01 11:00:00</th>\n",
              "      <td>-0.560000</td>\n",
              "    </tr>\n",
              "    <tr>\n",
              "      <th>2022-03-01 12:00:00</th>\n",
              "      <td>-0.537721</td>\n",
              "    </tr>\n",
              "    <tr>\n",
              "      <th>2022-03-01 13:00:00</th>\n",
              "      <td>-0.188734</td>\n",
              "    </tr>\n",
              "    <tr>\n",
              "      <th>2022-03-01 14:00:00</th>\n",
              "      <td>0.816969</td>\n",
              "    </tr>\n",
              "    <tr>\n",
              "      <th>2022-03-01 15:00:00</th>\n",
              "      <td>0.337059</td>\n",
              "    </tr>\n",
              "    <tr>\n",
              "      <th>2022-03-01 16:00:00</th>\n",
              "      <td>0.560063</td>\n",
              "    </tr>\n",
              "    <tr>\n",
              "      <th>2022-03-01 17:00:00</th>\n",
              "      <td>-0.376415</td>\n",
              "    </tr>\n",
              "    <tr>\n",
              "      <th>2022-03-01 18:00:00</th>\n",
              "      <td>-1.395743</td>\n",
              "    </tr>\n",
              "    <tr>\n",
              "      <th>2022-03-01 19:00:00</th>\n",
              "      <td>0.508333</td>\n",
              "    </tr>\n",
              "  </tbody>\n",
              "</table>\n",
              "</div>"
            ],
            "text/plain": [
              "                     temperature\n",
              "timestamp                       \n",
              "2022-03-01 09:00:00    -0.028850\n",
              "2022-03-01 10:00:00     1.284314\n",
              "2022-03-01 11:00:00    -0.560000\n",
              "2022-03-01 12:00:00    -0.537721\n",
              "2022-03-01 13:00:00    -0.188734\n",
              "2022-03-01 14:00:00     0.816969\n",
              "2022-03-01 15:00:00     0.337059\n",
              "2022-03-01 16:00:00     0.560063\n",
              "2022-03-01 17:00:00    -0.376415\n",
              "2022-03-01 18:00:00    -1.395743\n",
              "2022-03-01 19:00:00     0.508333"
            ]
          },
          "execution_count": 19,
          "metadata": {},
          "output_type": "execute_result"
        }
      ],
      "source": [
        "subset_df.resample('H').mean()"
      ]
    },
    {
      "cell_type": "code",
      "execution_count": 20,
      "metadata": {},
      "outputs": [],
      "source": [
        "target_dates = ['2022-03-01', '2022-03-02', '2022-03-03', '2022-03-04', '2022-03-05', '2022-03-06', '2022-03-07']\n"
      ]
    },
    {
      "cell_type": "code",
      "execution_count": 21,
      "metadata": {},
      "outputs": [],
      "source": [
        "#uploading list of dataframes with each target date\n",
        "subsets = []\n",
        "for date in target_dates:\n",
        "    subset_df = temp_df[temp_df.index.date == pd.to_datetime(date).date()]\n",
        "    subsets.append(subset_df)"
      ]
    },
    {
      "cell_type": "code",
      "execution_count": 22,
      "metadata": {},
      "outputs": [
        {
          "data": {
            "text/html": [
              "<div>\n",
              "<style scoped>\n",
              "    .dataframe tbody tr th:only-of-type {\n",
              "        vertical-align: middle;\n",
              "    }\n",
              "\n",
              "    .dataframe tbody tr th {\n",
              "        vertical-align: top;\n",
              "    }\n",
              "\n",
              "    .dataframe thead th {\n",
              "        text-align: right;\n",
              "    }\n",
              "</style>\n",
              "<table border=\"1\" class=\"dataframe\">\n",
              "  <thead>\n",
              "    <tr style=\"text-align: right;\">\n",
              "      <th></th>\n",
              "      <th>id</th>\n",
              "      <th>temperature</th>\n",
              "    </tr>\n",
              "    <tr>\n",
              "      <th>timestamp</th>\n",
              "      <th></th>\n",
              "      <th></th>\n",
              "    </tr>\n",
              "  </thead>\n",
              "  <tbody>\n",
              "    <tr>\n",
              "      <th>2022-03-04 15:12:26</th>\n",
              "      <td>3d47a0c7-1e72-4512-812f-b6b5d8428cf3</td>\n",
              "      <td>1.78</td>\n",
              "    </tr>\n",
              "    <tr>\n",
              "      <th>2022-03-04 15:18:25</th>\n",
              "      <td>04766f4f-a431-4853-92c9-a6b28b7f7abb</td>\n",
              "      <td>-3.03</td>\n",
              "    </tr>\n",
              "    <tr>\n",
              "      <th>2022-03-04 18:33:19</th>\n",
              "      <td>c91ffc9c-0e81-4ccb-81c3-dae394094820</td>\n",
              "      <td>1.65</td>\n",
              "    </tr>\n",
              "    <tr>\n",
              "      <th>2022-03-04 19:55:22</th>\n",
              "      <td>d5b561a8-50b9-482a-b1e0-b5d61e8d8030</td>\n",
              "      <td>-3.62</td>\n",
              "    </tr>\n",
              "    <tr>\n",
              "      <th>2022-03-04 18:56:26</th>\n",
              "      <td>16bd9151-9769-40be-a8f3-546bac34bdb4</td>\n",
              "      <td>27.85</td>\n",
              "    </tr>\n",
              "    <tr>\n",
              "      <th>...</th>\n",
              "      <td>...</td>\n",
              "      <td>...</td>\n",
              "    </tr>\n",
              "    <tr>\n",
              "      <th>2022-03-04 09:18:22</th>\n",
              "      <td>6609fb61-9fbe-4a7c-9081-b2f857e1a241</td>\n",
              "      <td>1.75</td>\n",
              "    </tr>\n",
              "    <tr>\n",
              "      <th>2022-03-04 15:27:57</th>\n",
              "      <td>f7a0db2a-8227-4174-9b2c-c1f7c25f174a</td>\n",
              "      <td>2.81</td>\n",
              "    </tr>\n",
              "    <tr>\n",
              "      <th>2022-03-04 09:52:53</th>\n",
              "      <td>825243d1-df5d-4ce4-a649-2874ee6f8fff</td>\n",
              "      <td>0.27</td>\n",
              "    </tr>\n",
              "    <tr>\n",
              "      <th>2022-03-04 19:59:06</th>\n",
              "      <td>32d6cf52-19fd-4ac0-ae41-2ba93fc64f64</td>\n",
              "      <td>0.91</td>\n",
              "    </tr>\n",
              "    <tr>\n",
              "      <th>2022-03-04 10:01:47</th>\n",
              "      <td>28072298-7430-4329-844a-b76a20ce910c</td>\n",
              "      <td>0.65</td>\n",
              "    </tr>\n",
              "  </tbody>\n",
              "</table>\n",
              "<p>3440 rows × 2 columns</p>\n",
              "</div>"
            ],
            "text/plain": [
              "                                                       id  temperature\n",
              "timestamp                                                             \n",
              "2022-03-04 15:12:26  3d47a0c7-1e72-4512-812f-b6b5d8428cf3         1.78\n",
              "2022-03-04 15:18:25  04766f4f-a431-4853-92c9-a6b28b7f7abb        -3.03\n",
              "2022-03-04 18:33:19  c91ffc9c-0e81-4ccb-81c3-dae394094820         1.65\n",
              "2022-03-04 19:55:22  d5b561a8-50b9-482a-b1e0-b5d61e8d8030        -3.62\n",
              "2022-03-04 18:56:26  16bd9151-9769-40be-a8f3-546bac34bdb4        27.85\n",
              "...                                                   ...          ...\n",
              "2022-03-04 09:18:22  6609fb61-9fbe-4a7c-9081-b2f857e1a241         1.75\n",
              "2022-03-04 15:27:57  f7a0db2a-8227-4174-9b2c-c1f7c25f174a         2.81\n",
              "2022-03-04 09:52:53  825243d1-df5d-4ce4-a649-2874ee6f8fff         0.27\n",
              "2022-03-04 19:59:06  32d6cf52-19fd-4ac0-ae41-2ba93fc64f64         0.91\n",
              "2022-03-04 10:01:47  28072298-7430-4329-844a-b76a20ce910c         0.65\n",
              "\n",
              "[3440 rows x 2 columns]"
            ]
          },
          "execution_count": 22,
          "metadata": {},
          "output_type": "execute_result"
        }
      ],
      "source": [
        "subsets[3]"
      ]
    },
    {
      "cell_type": "code",
      "execution_count": 23,
      "metadata": {},
      "outputs": [],
      "source": [
        "#function to upload the list with resampled timestamps \n",
        "def resample_subsets(subsets, freq='1H'):\n",
        "    resampled_subsets = []\n",
        "\n",
        "    for subset in subsets:\n",
        "        subset_resampled = subset.resample(freq).mean().reset_index()\n",
        "        resampled_subsets.append(subset_resampled)\n",
        "\n",
        "    return resampled_subsets"
      ]
    },
    {
      "cell_type": "code",
      "execution_count": 24,
      "metadata": {},
      "outputs": [],
      "source": [
        "re_sub = resample_subsets(subsets)"
      ]
    },
    {
      "cell_type": "code",
      "execution_count": 25,
      "metadata": {},
      "outputs": [],
      "source": [
        "hourly_temp.reset_index(inplace=True)"
      ]
    },
    {
      "cell_type": "code",
      "execution_count": 26,
      "metadata": {},
      "outputs": [],
      "source": [
        "days = hourly_temp['timestamp'].dt.date.unique()"
      ]
    },
    {
      "cell_type": "code",
      "execution_count": 27,
      "metadata": {},
      "outputs": [],
      "source": [
        "#plot trend temperature trend line to visualise the temperature drop and lift\n",
        "import plotly.graph_objects as go\n",
        "fig = go.Figure()"
      ]
    },
    {
      "cell_type": "code",
      "execution_count": 28,
      "metadata": {},
      "outputs": [
        {
          "data": {
            "application/vnd.plotly.v1+json": {
              "config": {
                "plotlyServerURL": "https://plot.ly"
              },
              "data": [
                {
                  "mode": "lines",
                  "name": "Day1",
                  "type": "scatter",
                  "x": [
                    "2022-03-01T09:00:00",
                    "2022-03-01T10:00:00",
                    "2022-03-01T11:00:00",
                    "2022-03-01T12:00:00",
                    "2022-03-01T13:00:00",
                    "2022-03-01T14:00:00",
                    "2022-03-01T15:00:00",
                    "2022-03-01T16:00:00",
                    "2022-03-01T17:00:00",
                    "2022-03-01T18:00:00",
                    "2022-03-01T19:00:00",
                    "2022-03-01T20:00:00",
                    "2022-03-01T21:00:00",
                    "2022-03-01T22:00:00",
                    "2022-03-01T23:00:00"
                  ],
                  "y": [
                    -0.028849840255591046,
                    1.2843137254901962,
                    -0.56,
                    -0.537721088435374,
                    -0.1887341772151899,
                    0.8169688385269122,
                    0.33705882352941174,
                    0.5600630914826498,
                    -0.3764150943396226,
                    -1.3957432432432433,
                    0.5083333333333333,
                    null,
                    null,
                    null,
                    null
                  ]
                },
                {
                  "mode": "lines",
                  "name": "Day2",
                  "type": "scatter",
                  "x": [
                    "2022-03-02T00:00:00",
                    "2022-03-02T01:00:00",
                    "2022-03-02T02:00:00",
                    "2022-03-02T03:00:00",
                    "2022-03-02T04:00:00",
                    "2022-03-02T05:00:00",
                    "2022-03-02T06:00:00",
                    "2022-03-02T07:00:00",
                    "2022-03-02T08:00:00",
                    "2022-03-02T09:00:00",
                    "2022-03-02T10:00:00",
                    "2022-03-02T11:00:00",
                    "2022-03-02T12:00:00",
                    "2022-03-02T13:00:00",
                    "2022-03-02T14:00:00",
                    "2022-03-02T15:00:00",
                    "2022-03-02T16:00:00",
                    "2022-03-02T17:00:00",
                    "2022-03-02T18:00:00",
                    "2022-03-02T19:00:00",
                    "2022-03-02T20:00:00",
                    "2022-03-02T21:00:00",
                    "2022-03-02T22:00:00",
                    "2022-03-02T23:00:00"
                  ],
                  "y": [
                    null,
                    null,
                    null,
                    null,
                    null,
                    null,
                    null,
                    null,
                    null,
                    -0.6729003021148036,
                    -0.8568403908794788,
                    -0.2682978723404256,
                    0.34186046511627904,
                    -0.3320645161290322,
                    -0.7615593220338983,
                    -0.08408637873754152,
                    -0.23421538461538458,
                    -0.40756666666666663,
                    -1.0128666666666668,
                    -1.1909748427672957,
                    null,
                    null,
                    null,
                    null
                  ]
                },
                {
                  "mode": "lines",
                  "name": "Day3",
                  "type": "scatter",
                  "x": [
                    "2022-03-03T00:00:00",
                    "2022-03-03T01:00:00",
                    "2022-03-03T02:00:00",
                    "2022-03-03T03:00:00",
                    "2022-03-03T04:00:00",
                    "2022-03-03T05:00:00",
                    "2022-03-03T06:00:00",
                    "2022-03-03T07:00:00",
                    "2022-03-03T08:00:00",
                    "2022-03-03T09:00:00",
                    "2022-03-03T10:00:00",
                    "2022-03-03T11:00:00",
                    "2022-03-03T12:00:00",
                    "2022-03-03T13:00:00",
                    "2022-03-03T14:00:00",
                    "2022-03-03T15:00:00",
                    "2022-03-03T16:00:00",
                    "2022-03-03T17:00:00",
                    "2022-03-03T18:00:00",
                    "2022-03-03T19:00:00",
                    "2022-03-03T20:00:00",
                    "2022-03-03T21:00:00",
                    "2022-03-03T22:00:00",
                    "2022-03-03T23:00:00"
                  ],
                  "y": [
                    null,
                    null,
                    null,
                    null,
                    null,
                    null,
                    null,
                    null,
                    null,
                    0.088375,
                    -1.1833568904593639,
                    -0.694655737704918,
                    0.982,
                    -1.08415873015873,
                    0.808877551020408,
                    -0.4180677966101695,
                    0.13615141955835963,
                    0.6215189873417721,
                    -0.09726224783861676,
                    -0.7511858974358974,
                    null,
                    null,
                    null,
                    null
                  ]
                },
                {
                  "mode": "lines",
                  "name": "Day4",
                  "type": "scatter",
                  "x": [
                    "2022-03-04T00:00:00",
                    "2022-03-04T01:00:00",
                    "2022-03-04T02:00:00",
                    "2022-03-04T03:00:00",
                    "2022-03-04T04:00:00",
                    "2022-03-04T05:00:00",
                    "2022-03-04T06:00:00",
                    "2022-03-04T07:00:00",
                    "2022-03-04T08:00:00",
                    "2022-03-04T09:00:00",
                    "2022-03-04T10:00:00",
                    "2022-03-04T11:00:00",
                    "2022-03-04T12:00:00",
                    "2022-03-04T13:00:00",
                    "2022-03-04T14:00:00",
                    "2022-03-04T15:00:00",
                    "2022-03-04T16:00:00",
                    "2022-03-04T17:00:00",
                    "2022-03-04T18:00:00",
                    "2022-03-04T19:00:00",
                    "2022-03-04T20:00:00",
                    "2022-03-04T21:00:00",
                    "2022-03-04T22:00:00",
                    "2022-03-04T23:00:00"
                  ],
                  "y": [
                    null,
                    null,
                    null,
                    null,
                    null,
                    null,
                    null,
                    null,
                    null,
                    0.3136977491961414,
                    1.0712881355932204,
                    -0.17221288515406166,
                    -1.1509375,
                    -0.3759344262295082,
                    -1.028732876712329,
                    -1.0840390879478825,
                    -0.7295779220779222,
                    -0.2955821917808219,
                    -0.06421926910299008,
                    -0.42425000000000007,
                    null,
                    null,
                    null,
                    null
                  ]
                },
                {
                  "mode": "lines",
                  "name": "Day5",
                  "type": "scatter",
                  "x": [
                    "2022-03-05T00:00:00",
                    "2022-03-05T01:00:00",
                    "2022-03-05T02:00:00",
                    "2022-03-05T03:00:00",
                    "2022-03-05T04:00:00",
                    "2022-03-05T05:00:00",
                    "2022-03-05T06:00:00",
                    "2022-03-05T07:00:00",
                    "2022-03-05T08:00:00",
                    "2022-03-05T09:00:00",
                    "2022-03-05T10:00:00",
                    "2022-03-05T11:00:00",
                    "2022-03-05T12:00:00",
                    "2022-03-05T13:00:00",
                    "2022-03-05T14:00:00",
                    "2022-03-05T15:00:00",
                    "2022-03-05T16:00:00",
                    "2022-03-05T17:00:00",
                    "2022-03-05T18:00:00",
                    "2022-03-05T19:00:00",
                    "2022-03-05T20:00:00",
                    "2022-03-05T21:00:00",
                    "2022-03-05T22:00:00",
                    "2022-03-05T23:00:00"
                  ],
                  "y": [
                    null,
                    null,
                    null,
                    null,
                    null,
                    null,
                    null,
                    null,
                    null,
                    0.17377300613496935,
                    -0.6570819672131147,
                    -0.26305555555555554,
                    0.16042944785276073,
                    0.6710204081632654,
                    0.12411042944785274,
                    0.04016501650165015,
                    -0.05136778115501524,
                    -0.21194244604316542,
                    0.6420833333333333,
                    0.17359375000000002,
                    null,
                    null,
                    null,
                    null
                  ]
                },
                {
                  "mode": "lines",
                  "name": "Day6",
                  "type": "scatter",
                  "x": [
                    "2022-03-06T00:00:00",
                    "2022-03-06T01:00:00",
                    "2022-03-06T02:00:00",
                    "2022-03-06T03:00:00",
                    "2022-03-06T04:00:00",
                    "2022-03-06T05:00:00",
                    "2022-03-06T06:00:00",
                    "2022-03-06T07:00:00",
                    "2022-03-06T08:00:00",
                    "2022-03-06T09:00:00",
                    "2022-03-06T10:00:00",
                    "2022-03-06T11:00:00",
                    "2022-03-06T12:00:00",
                    "2022-03-06T13:00:00",
                    "2022-03-06T14:00:00",
                    "2022-03-06T15:00:00",
                    "2022-03-06T16:00:00",
                    "2022-03-06T17:00:00",
                    "2022-03-06T18:00:00",
                    "2022-03-06T19:00:00",
                    "2022-03-06T20:00:00",
                    "2022-03-06T21:00:00",
                    "2022-03-06T22:00:00",
                    "2022-03-06T23:00:00"
                  ],
                  "y": [
                    null,
                    null,
                    null,
                    null,
                    null,
                    null,
                    null,
                    null,
                    null,
                    -1.2656643356643358,
                    -0.3654071661237785,
                    -1.4038,
                    0.6529874213836478,
                    -0.4280838323353292,
                    -0.2940066225165563,
                    -0.8278947368421052,
                    -0.19347169811320752,
                    -0.5403174603174603,
                    1.4359375,
                    -0.07270096463022507,
                    null,
                    null,
                    null,
                    null
                  ]
                },
                {
                  "mode": "lines",
                  "name": "Day7",
                  "type": "scatter",
                  "x": [
                    "2022-03-07T00:00:00",
                    "2022-03-07T01:00:00",
                    "2022-03-07T02:00:00",
                    "2022-03-07T03:00:00",
                    "2022-03-07T04:00:00",
                    "2022-03-07T05:00:00",
                    "2022-03-07T06:00:00",
                    "2022-03-07T07:00:00",
                    "2022-03-07T08:00:00",
                    "2022-03-07T09:00:00",
                    "2022-03-07T10:00:00",
                    "2022-03-07T11:00:00",
                    "2022-03-07T12:00:00",
                    "2022-03-07T13:00:00",
                    "2022-03-07T14:00:00",
                    "2022-03-07T15:00:00",
                    "2022-03-07T16:00:00",
                    "2022-03-07T17:00:00",
                    "2022-03-07T18:00:00",
                    "2022-03-07T19:00:00"
                  ],
                  "y": [
                    null,
                    null,
                    null,
                    null,
                    null,
                    null,
                    null,
                    null,
                    null,
                    0.37821428571428567,
                    -0.3795238095238095,
                    -1.8472696245733788,
                    -0.2360122699386503,
                    -0.22112244897959185,
                    -0.10557046979865765,
                    -0.9438484848484849,
                    -0.2306312292358803,
                    -0.00398773006134966,
                    0.4096928327645051,
                    -0.16507739938080498
                  ]
                }
              ],
              "layout": {
                "height": 800,
                "showlegend": true,
                "template": {
                  "data": {
                    "bar": [
                      {
                        "error_x": {
                          "color": "#2a3f5f"
                        },
                        "error_y": {
                          "color": "#2a3f5f"
                        },
                        "marker": {
                          "line": {
                            "color": "#E5ECF6",
                            "width": 0.5
                          },
                          "pattern": {
                            "fillmode": "overlay",
                            "size": 10,
                            "solidity": 0.2
                          }
                        },
                        "type": "bar"
                      }
                    ],
                    "barpolar": [
                      {
                        "marker": {
                          "line": {
                            "color": "#E5ECF6",
                            "width": 0.5
                          },
                          "pattern": {
                            "fillmode": "overlay",
                            "size": 10,
                            "solidity": 0.2
                          }
                        },
                        "type": "barpolar"
                      }
                    ],
                    "carpet": [
                      {
                        "aaxis": {
                          "endlinecolor": "#2a3f5f",
                          "gridcolor": "white",
                          "linecolor": "white",
                          "minorgridcolor": "white",
                          "startlinecolor": "#2a3f5f"
                        },
                        "baxis": {
                          "endlinecolor": "#2a3f5f",
                          "gridcolor": "white",
                          "linecolor": "white",
                          "minorgridcolor": "white",
                          "startlinecolor": "#2a3f5f"
                        },
                        "type": "carpet"
                      }
                    ],
                    "choropleth": [
                      {
                        "colorbar": {
                          "outlinewidth": 0,
                          "ticks": ""
                        },
                        "type": "choropleth"
                      }
                    ],
                    "contour": [
                      {
                        "colorbar": {
                          "outlinewidth": 0,
                          "ticks": ""
                        },
                        "colorscale": [
                          [
                            0,
                            "#0d0887"
                          ],
                          [
                            0.1111111111111111,
                            "#46039f"
                          ],
                          [
                            0.2222222222222222,
                            "#7201a8"
                          ],
                          [
                            0.3333333333333333,
                            "#9c179e"
                          ],
                          [
                            0.4444444444444444,
                            "#bd3786"
                          ],
                          [
                            0.5555555555555556,
                            "#d8576b"
                          ],
                          [
                            0.6666666666666666,
                            "#ed7953"
                          ],
                          [
                            0.7777777777777778,
                            "#fb9f3a"
                          ],
                          [
                            0.8888888888888888,
                            "#fdca26"
                          ],
                          [
                            1,
                            "#f0f921"
                          ]
                        ],
                        "type": "contour"
                      }
                    ],
                    "contourcarpet": [
                      {
                        "colorbar": {
                          "outlinewidth": 0,
                          "ticks": ""
                        },
                        "type": "contourcarpet"
                      }
                    ],
                    "heatmap": [
                      {
                        "colorbar": {
                          "outlinewidth": 0,
                          "ticks": ""
                        },
                        "colorscale": [
                          [
                            0,
                            "#0d0887"
                          ],
                          [
                            0.1111111111111111,
                            "#46039f"
                          ],
                          [
                            0.2222222222222222,
                            "#7201a8"
                          ],
                          [
                            0.3333333333333333,
                            "#9c179e"
                          ],
                          [
                            0.4444444444444444,
                            "#bd3786"
                          ],
                          [
                            0.5555555555555556,
                            "#d8576b"
                          ],
                          [
                            0.6666666666666666,
                            "#ed7953"
                          ],
                          [
                            0.7777777777777778,
                            "#fb9f3a"
                          ],
                          [
                            0.8888888888888888,
                            "#fdca26"
                          ],
                          [
                            1,
                            "#f0f921"
                          ]
                        ],
                        "type": "heatmap"
                      }
                    ],
                    "heatmapgl": [
                      {
                        "colorbar": {
                          "outlinewidth": 0,
                          "ticks": ""
                        },
                        "colorscale": [
                          [
                            0,
                            "#0d0887"
                          ],
                          [
                            0.1111111111111111,
                            "#46039f"
                          ],
                          [
                            0.2222222222222222,
                            "#7201a8"
                          ],
                          [
                            0.3333333333333333,
                            "#9c179e"
                          ],
                          [
                            0.4444444444444444,
                            "#bd3786"
                          ],
                          [
                            0.5555555555555556,
                            "#d8576b"
                          ],
                          [
                            0.6666666666666666,
                            "#ed7953"
                          ],
                          [
                            0.7777777777777778,
                            "#fb9f3a"
                          ],
                          [
                            0.8888888888888888,
                            "#fdca26"
                          ],
                          [
                            1,
                            "#f0f921"
                          ]
                        ],
                        "type": "heatmapgl"
                      }
                    ],
                    "histogram": [
                      {
                        "marker": {
                          "pattern": {
                            "fillmode": "overlay",
                            "size": 10,
                            "solidity": 0.2
                          }
                        },
                        "type": "histogram"
                      }
                    ],
                    "histogram2d": [
                      {
                        "colorbar": {
                          "outlinewidth": 0,
                          "ticks": ""
                        },
                        "colorscale": [
                          [
                            0,
                            "#0d0887"
                          ],
                          [
                            0.1111111111111111,
                            "#46039f"
                          ],
                          [
                            0.2222222222222222,
                            "#7201a8"
                          ],
                          [
                            0.3333333333333333,
                            "#9c179e"
                          ],
                          [
                            0.4444444444444444,
                            "#bd3786"
                          ],
                          [
                            0.5555555555555556,
                            "#d8576b"
                          ],
                          [
                            0.6666666666666666,
                            "#ed7953"
                          ],
                          [
                            0.7777777777777778,
                            "#fb9f3a"
                          ],
                          [
                            0.8888888888888888,
                            "#fdca26"
                          ],
                          [
                            1,
                            "#f0f921"
                          ]
                        ],
                        "type": "histogram2d"
                      }
                    ],
                    "histogram2dcontour": [
                      {
                        "colorbar": {
                          "outlinewidth": 0,
                          "ticks": ""
                        },
                        "colorscale": [
                          [
                            0,
                            "#0d0887"
                          ],
                          [
                            0.1111111111111111,
                            "#46039f"
                          ],
                          [
                            0.2222222222222222,
                            "#7201a8"
                          ],
                          [
                            0.3333333333333333,
                            "#9c179e"
                          ],
                          [
                            0.4444444444444444,
                            "#bd3786"
                          ],
                          [
                            0.5555555555555556,
                            "#d8576b"
                          ],
                          [
                            0.6666666666666666,
                            "#ed7953"
                          ],
                          [
                            0.7777777777777778,
                            "#fb9f3a"
                          ],
                          [
                            0.8888888888888888,
                            "#fdca26"
                          ],
                          [
                            1,
                            "#f0f921"
                          ]
                        ],
                        "type": "histogram2dcontour"
                      }
                    ],
                    "mesh3d": [
                      {
                        "colorbar": {
                          "outlinewidth": 0,
                          "ticks": ""
                        },
                        "type": "mesh3d"
                      }
                    ],
                    "parcoords": [
                      {
                        "line": {
                          "colorbar": {
                            "outlinewidth": 0,
                            "ticks": ""
                          }
                        },
                        "type": "parcoords"
                      }
                    ],
                    "pie": [
                      {
                        "automargin": true,
                        "type": "pie"
                      }
                    ],
                    "scatter": [
                      {
                        "fillpattern": {
                          "fillmode": "overlay",
                          "size": 10,
                          "solidity": 0.2
                        },
                        "type": "scatter"
                      }
                    ],
                    "scatter3d": [
                      {
                        "line": {
                          "colorbar": {
                            "outlinewidth": 0,
                            "ticks": ""
                          }
                        },
                        "marker": {
                          "colorbar": {
                            "outlinewidth": 0,
                            "ticks": ""
                          }
                        },
                        "type": "scatter3d"
                      }
                    ],
                    "scattercarpet": [
                      {
                        "marker": {
                          "colorbar": {
                            "outlinewidth": 0,
                            "ticks": ""
                          }
                        },
                        "type": "scattercarpet"
                      }
                    ],
                    "scattergeo": [
                      {
                        "marker": {
                          "colorbar": {
                            "outlinewidth": 0,
                            "ticks": ""
                          }
                        },
                        "type": "scattergeo"
                      }
                    ],
                    "scattergl": [
                      {
                        "marker": {
                          "colorbar": {
                            "outlinewidth": 0,
                            "ticks": ""
                          }
                        },
                        "type": "scattergl"
                      }
                    ],
                    "scattermapbox": [
                      {
                        "marker": {
                          "colorbar": {
                            "outlinewidth": 0,
                            "ticks": ""
                          }
                        },
                        "type": "scattermapbox"
                      }
                    ],
                    "scatterpolar": [
                      {
                        "marker": {
                          "colorbar": {
                            "outlinewidth": 0,
                            "ticks": ""
                          }
                        },
                        "type": "scatterpolar"
                      }
                    ],
                    "scatterpolargl": [
                      {
                        "marker": {
                          "colorbar": {
                            "outlinewidth": 0,
                            "ticks": ""
                          }
                        },
                        "type": "scatterpolargl"
                      }
                    ],
                    "scatterternary": [
                      {
                        "marker": {
                          "colorbar": {
                            "outlinewidth": 0,
                            "ticks": ""
                          }
                        },
                        "type": "scatterternary"
                      }
                    ],
                    "surface": [
                      {
                        "colorbar": {
                          "outlinewidth": 0,
                          "ticks": ""
                        },
                        "colorscale": [
                          [
                            0,
                            "#0d0887"
                          ],
                          [
                            0.1111111111111111,
                            "#46039f"
                          ],
                          [
                            0.2222222222222222,
                            "#7201a8"
                          ],
                          [
                            0.3333333333333333,
                            "#9c179e"
                          ],
                          [
                            0.4444444444444444,
                            "#bd3786"
                          ],
                          [
                            0.5555555555555556,
                            "#d8576b"
                          ],
                          [
                            0.6666666666666666,
                            "#ed7953"
                          ],
                          [
                            0.7777777777777778,
                            "#fb9f3a"
                          ],
                          [
                            0.8888888888888888,
                            "#fdca26"
                          ],
                          [
                            1,
                            "#f0f921"
                          ]
                        ],
                        "type": "surface"
                      }
                    ],
                    "table": [
                      {
                        "cells": {
                          "fill": {
                            "color": "#EBF0F8"
                          },
                          "line": {
                            "color": "white"
                          }
                        },
                        "header": {
                          "fill": {
                            "color": "#C8D4E3"
                          },
                          "line": {
                            "color": "white"
                          }
                        },
                        "type": "table"
                      }
                    ]
                  },
                  "layout": {
                    "annotationdefaults": {
                      "arrowcolor": "#2a3f5f",
                      "arrowhead": 0,
                      "arrowwidth": 1
                    },
                    "autotypenumbers": "strict",
                    "coloraxis": {
                      "colorbar": {
                        "outlinewidth": 0,
                        "ticks": ""
                      }
                    },
                    "colorscale": {
                      "diverging": [
                        [
                          0,
                          "#8e0152"
                        ],
                        [
                          0.1,
                          "#c51b7d"
                        ],
                        [
                          0.2,
                          "#de77ae"
                        ],
                        [
                          0.3,
                          "#f1b6da"
                        ],
                        [
                          0.4,
                          "#fde0ef"
                        ],
                        [
                          0.5,
                          "#f7f7f7"
                        ],
                        [
                          0.6,
                          "#e6f5d0"
                        ],
                        [
                          0.7,
                          "#b8e186"
                        ],
                        [
                          0.8,
                          "#7fbc41"
                        ],
                        [
                          0.9,
                          "#4d9221"
                        ],
                        [
                          1,
                          "#276419"
                        ]
                      ],
                      "sequential": [
                        [
                          0,
                          "#0d0887"
                        ],
                        [
                          0.1111111111111111,
                          "#46039f"
                        ],
                        [
                          0.2222222222222222,
                          "#7201a8"
                        ],
                        [
                          0.3333333333333333,
                          "#9c179e"
                        ],
                        [
                          0.4444444444444444,
                          "#bd3786"
                        ],
                        [
                          0.5555555555555556,
                          "#d8576b"
                        ],
                        [
                          0.6666666666666666,
                          "#ed7953"
                        ],
                        [
                          0.7777777777777778,
                          "#fb9f3a"
                        ],
                        [
                          0.8888888888888888,
                          "#fdca26"
                        ],
                        [
                          1,
                          "#f0f921"
                        ]
                      ],
                      "sequentialminus": [
                        [
                          0,
                          "#0d0887"
                        ],
                        [
                          0.1111111111111111,
                          "#46039f"
                        ],
                        [
                          0.2222222222222222,
                          "#7201a8"
                        ],
                        [
                          0.3333333333333333,
                          "#9c179e"
                        ],
                        [
                          0.4444444444444444,
                          "#bd3786"
                        ],
                        [
                          0.5555555555555556,
                          "#d8576b"
                        ],
                        [
                          0.6666666666666666,
                          "#ed7953"
                        ],
                        [
                          0.7777777777777778,
                          "#fb9f3a"
                        ],
                        [
                          0.8888888888888888,
                          "#fdca26"
                        ],
                        [
                          1,
                          "#f0f921"
                        ]
                      ]
                    },
                    "colorway": [
                      "#636efa",
                      "#EF553B",
                      "#00cc96",
                      "#ab63fa",
                      "#FFA15A",
                      "#19d3f3",
                      "#FF6692",
                      "#B6E880",
                      "#FF97FF",
                      "#FECB52"
                    ],
                    "font": {
                      "color": "#2a3f5f"
                    },
                    "geo": {
                      "bgcolor": "white",
                      "lakecolor": "white",
                      "landcolor": "#E5ECF6",
                      "showlakes": true,
                      "showland": true,
                      "subunitcolor": "white"
                    },
                    "hoverlabel": {
                      "align": "left"
                    },
                    "hovermode": "closest",
                    "mapbox": {
                      "style": "light"
                    },
                    "paper_bgcolor": "white",
                    "plot_bgcolor": "#E5ECF6",
                    "polar": {
                      "angularaxis": {
                        "gridcolor": "white",
                        "linecolor": "white",
                        "ticks": ""
                      },
                      "bgcolor": "#E5ECF6",
                      "radialaxis": {
                        "gridcolor": "white",
                        "linecolor": "white",
                        "ticks": ""
                      }
                    },
                    "scene": {
                      "xaxis": {
                        "backgroundcolor": "#E5ECF6",
                        "gridcolor": "white",
                        "gridwidth": 2,
                        "linecolor": "white",
                        "showbackground": true,
                        "ticks": "",
                        "zerolinecolor": "white"
                      },
                      "yaxis": {
                        "backgroundcolor": "#E5ECF6",
                        "gridcolor": "white",
                        "gridwidth": 2,
                        "linecolor": "white",
                        "showbackground": true,
                        "ticks": "",
                        "zerolinecolor": "white"
                      },
                      "zaxis": {
                        "backgroundcolor": "#E5ECF6",
                        "gridcolor": "white",
                        "gridwidth": 2,
                        "linecolor": "white",
                        "showbackground": true,
                        "ticks": "",
                        "zerolinecolor": "white"
                      }
                    },
                    "shapedefaults": {
                      "line": {
                        "color": "#2a3f5f"
                      }
                    },
                    "ternary": {
                      "aaxis": {
                        "gridcolor": "white",
                        "linecolor": "white",
                        "ticks": ""
                      },
                      "baxis": {
                        "gridcolor": "white",
                        "linecolor": "white",
                        "ticks": ""
                      },
                      "bgcolor": "#E5ECF6",
                      "caxis": {
                        "gridcolor": "white",
                        "linecolor": "white",
                        "ticks": ""
                      }
                    },
                    "title": {
                      "x": 0.05
                    },
                    "xaxis": {
                      "automargin": true,
                      "gridcolor": "white",
                      "linecolor": "white",
                      "ticks": "",
                      "title": {
                        "standoff": 15
                      },
                      "zerolinecolor": "white",
                      "zerolinewidth": 2
                    },
                    "yaxis": {
                      "automargin": true,
                      "gridcolor": "white",
                      "linecolor": "white",
                      "ticks": "",
                      "title": {
                        "standoff": 15
                      },
                      "zerolinecolor": "white",
                      "zerolinewidth": 2
                    }
                  }
                },
                "title": {
                  "text": "Trend Line of Total Sales from 01/03 to 07/03"
                },
                "width": 1000,
                "xaxis": {
                  "tickangle": 45,
                  "title": {
                    "text": "Date and Hour"
                  }
                },
                "yaxis": {
                  "title": {
                    "text": "Total Sales"
                  }
                }
              }
            }
          },
          "metadata": {},
          "output_type": "display_data"
        }
      ],
      "source": [
        "#plot the trend line using plotly library \n",
        "#differentiate each day of the week with different colours\n",
        "#\n",
        "for i, day in enumerate(days,1):\n",
        "    daily_data = hourly_temp[hourly_temp['timestamp'].dt.date == day]\n",
        "    fig.add_trace(go.Scatter(x=daily_data['timestamp'], y= daily_data['temperature'],\n",
        "                             mode ='lines',\n",
        "                             name = f'Day{i}'))\n",
        "\n",
        "fig.update_layout(title='Trend Line of Total Sales from 01/03 to 07/03',\n",
        "                  xaxis_title='Date and Hour',\n",
        "                  yaxis_title='Total Sales',\n",
        "                  xaxis=dict(tickangle=45),\n",
        "                  showlegend=True,\n",
        "                  height=800,\n",
        "                  width=1000)\n",
        "\n",
        "fig.show()"
      ]
    },
    {
      "cell_type": "code",
      "execution_count": 29,
      "metadata": {},
      "outputs": [],
      "source": [
        "temp_copy = temp_df.copy()\n"
      ]
    },
    {
      "cell_type": "code",
      "execution_count": 30,
      "metadata": {},
      "outputs": [],
      "source": [
        "temp_copy.reset_index(inplace=True)\n",
        "temp_copy['Date'] = temp_copy['timestamp'].dt.date\n",
        "temp_copy['Hours'] = temp_copy['timestamp'].dt.hour"
      ]
    },
    {
      "cell_type": "code",
      "execution_count": 31,
      "metadata": {},
      "outputs": [
        {
          "data": {
            "text/html": [
              "<div>\n",
              "<style scoped>\n",
              "    .dataframe tbody tr th:only-of-type {\n",
              "        vertical-align: middle;\n",
              "    }\n",
              "\n",
              "    .dataframe tbody tr th {\n",
              "        vertical-align: top;\n",
              "    }\n",
              "\n",
              "    .dataframe thead th {\n",
              "        text-align: right;\n",
              "    }\n",
              "</style>\n",
              "<table border=\"1\" class=\"dataframe\">\n",
              "  <thead>\n",
              "    <tr style=\"text-align: right;\">\n",
              "      <th></th>\n",
              "      <th>timestamp</th>\n",
              "      <th>id</th>\n",
              "      <th>temperature</th>\n",
              "      <th>Date</th>\n",
              "      <th>Hours</th>\n",
              "    </tr>\n",
              "  </thead>\n",
              "  <tbody>\n",
              "    <tr>\n",
              "      <th>0</th>\n",
              "      <td>2022-03-07 15:55:20</td>\n",
              "      <td>d1ca1ef8-0eac-42fc-af80-97106efc7b13</td>\n",
              "      <td>2.96</td>\n",
              "      <td>2022-03-07</td>\n",
              "      <td>15</td>\n",
              "    </tr>\n",
              "    <tr>\n",
              "      <th>1</th>\n",
              "      <td>2022-03-01 09:18:22</td>\n",
              "      <td>4b8a66c4-0f3a-4f16-826f-8cf9397e9d18</td>\n",
              "      <td>1.88</td>\n",
              "      <td>2022-03-01</td>\n",
              "      <td>9</td>\n",
              "    </tr>\n",
              "    <tr>\n",
              "      <th>2</th>\n",
              "      <td>2022-03-04 15:12:26</td>\n",
              "      <td>3d47a0c7-1e72-4512-812f-b6b5d8428cf3</td>\n",
              "      <td>1.78</td>\n",
              "      <td>2022-03-04</td>\n",
              "      <td>15</td>\n",
              "    </tr>\n",
              "    <tr>\n",
              "      <th>3</th>\n",
              "      <td>2022-03-02 12:30:42</td>\n",
              "      <td>9500357b-ce15-424a-837a-7677b386f471</td>\n",
              "      <td>2.18</td>\n",
              "      <td>2022-03-02</td>\n",
              "      <td>12</td>\n",
              "    </tr>\n",
              "    <tr>\n",
              "      <th>4</th>\n",
              "      <td>2022-03-05 09:09:33</td>\n",
              "      <td>c4b61fec-99c2-4c6d-8e5d-4edd8c9632fa</td>\n",
              "      <td>1.38</td>\n",
              "      <td>2022-03-05</td>\n",
              "      <td>9</td>\n",
              "    </tr>\n",
              "    <tr>\n",
              "      <th>...</th>\n",
              "      <td>...</td>\n",
              "      <td>...</td>\n",
              "      <td>...</td>\n",
              "      <td>...</td>\n",
              "      <td>...</td>\n",
              "    </tr>\n",
              "    <tr>\n",
              "      <th>23885</th>\n",
              "      <td>2022-03-01 10:40:43</td>\n",
              "      <td>17bcff56-9965-4e9f-ad5f-107f0f3be93f</td>\n",
              "      <td>-1.46</td>\n",
              "      <td>2022-03-01</td>\n",
              "      <td>10</td>\n",
              "    </tr>\n",
              "    <tr>\n",
              "      <th>23886</th>\n",
              "      <td>2022-03-05 17:07:49</td>\n",
              "      <td>51d4eb44-04bd-4d6a-b777-0653bc173303</td>\n",
              "      <td>-19.37</td>\n",
              "      <td>2022-03-05</td>\n",
              "      <td>17</td>\n",
              "    </tr>\n",
              "    <tr>\n",
              "      <th>23887</th>\n",
              "      <td>2022-03-01 16:15:41</td>\n",
              "      <td>bbcacfc4-3b59-47ee-b9e1-7dd3bd588748</td>\n",
              "      <td>-2.89</td>\n",
              "      <td>2022-03-01</td>\n",
              "      <td>16</td>\n",
              "    </tr>\n",
              "    <tr>\n",
              "      <th>23888</th>\n",
              "      <td>2022-03-07 14:44:52</td>\n",
              "      <td>5c4d567b-4bcf-4fcd-86b7-e2db5de6e439</td>\n",
              "      <td>-2.56</td>\n",
              "      <td>2022-03-07</td>\n",
              "      <td>14</td>\n",
              "    </tr>\n",
              "    <tr>\n",
              "      <th>23889</th>\n",
              "      <td>2022-03-01 16:33:41</td>\n",
              "      <td>589c28e1-f1f3-4efb-af6d-9f194c4d7d5b</td>\n",
              "      <td>0.13</td>\n",
              "      <td>2022-03-01</td>\n",
              "      <td>16</td>\n",
              "    </tr>\n",
              "  </tbody>\n",
              "</table>\n",
              "<p>23890 rows × 5 columns</p>\n",
              "</div>"
            ],
            "text/plain": [
              "                timestamp                                    id  temperature  \\\n",
              "0     2022-03-07 15:55:20  d1ca1ef8-0eac-42fc-af80-97106efc7b13         2.96   \n",
              "1     2022-03-01 09:18:22  4b8a66c4-0f3a-4f16-826f-8cf9397e9d18         1.88   \n",
              "2     2022-03-04 15:12:26  3d47a0c7-1e72-4512-812f-b6b5d8428cf3         1.78   \n",
              "3     2022-03-02 12:30:42  9500357b-ce15-424a-837a-7677b386f471         2.18   \n",
              "4     2022-03-05 09:09:33  c4b61fec-99c2-4c6d-8e5d-4edd8c9632fa         1.38   \n",
              "...                   ...                                   ...          ...   \n",
              "23885 2022-03-01 10:40:43  17bcff56-9965-4e9f-ad5f-107f0f3be93f        -1.46   \n",
              "23886 2022-03-05 17:07:49  51d4eb44-04bd-4d6a-b777-0653bc173303       -19.37   \n",
              "23887 2022-03-01 16:15:41  bbcacfc4-3b59-47ee-b9e1-7dd3bd588748        -2.89   \n",
              "23888 2022-03-07 14:44:52  5c4d567b-4bcf-4fcd-86b7-e2db5de6e439        -2.56   \n",
              "23889 2022-03-01 16:33:41  589c28e1-f1f3-4efb-af6d-9f194c4d7d5b         0.13   \n",
              "\n",
              "             Date  Hours  \n",
              "0      2022-03-07     15  \n",
              "1      2022-03-01      9  \n",
              "2      2022-03-04     15  \n",
              "3      2022-03-02     12  \n",
              "4      2022-03-05      9  \n",
              "...           ...    ...  \n",
              "23885  2022-03-01     10  \n",
              "23886  2022-03-05     17  \n",
              "23887  2022-03-01     16  \n",
              "23888  2022-03-07     14  \n",
              "23889  2022-03-01     16  \n",
              "\n",
              "[23890 rows x 5 columns]"
            ]
          },
          "execution_count": 31,
          "metadata": {},
          "output_type": "execute_result"
        }
      ],
      "source": [
        "temp_copy"
      ]
    },
    {
      "cell_type": "code",
      "execution_count": 32,
      "metadata": {},
      "outputs": [
        {
          "data": {
            "text/plain": [
              "12    2267\n",
              "11    2215\n",
              "9     2195\n",
              "19    2192\n",
              "13    2168\n",
              "16    2162\n",
              "14    2160\n",
              "18    2145\n",
              "17    2145\n",
              "15    2144\n",
              "10    2097\n",
              "Name: Hours, dtype: int64"
            ]
          },
          "execution_count": 32,
          "metadata": {},
          "output_type": "execute_result"
        }
      ],
      "source": [
        "temp_copy.Hours.value_counts()"
      ]
    },
    {
      "cell_type": "code",
      "execution_count": 33,
      "metadata": {},
      "outputs": [
        {
          "data": {
            "text/html": [
              "<div>\n",
              "<style scoped>\n",
              "    .dataframe tbody tr th:only-of-type {\n",
              "        vertical-align: middle;\n",
              "    }\n",
              "\n",
              "    .dataframe tbody tr th {\n",
              "        vertical-align: top;\n",
              "    }\n",
              "\n",
              "    .dataframe thead th {\n",
              "        text-align: right;\n",
              "    }\n",
              "</style>\n",
              "<table border=\"1\" class=\"dataframe\">\n",
              "  <thead>\n",
              "    <tr style=\"text-align: right;\">\n",
              "      <th></th>\n",
              "      <th>timestamp</th>\n",
              "      <th>id</th>\n",
              "      <th>temperature</th>\n",
              "      <th>Date</th>\n",
              "      <th>Hours</th>\n",
              "    </tr>\n",
              "  </thead>\n",
              "  <tbody>\n",
              "    <tr>\n",
              "      <th>0</th>\n",
              "      <td>2022-03-07 15:55:20</td>\n",
              "      <td>d1ca1ef8-0eac-42fc-af80-97106efc7b13</td>\n",
              "      <td>2.96</td>\n",
              "      <td>2022-03-07</td>\n",
              "      <td>15</td>\n",
              "    </tr>\n",
              "    <tr>\n",
              "      <th>1</th>\n",
              "      <td>2022-03-01 09:18:22</td>\n",
              "      <td>4b8a66c4-0f3a-4f16-826f-8cf9397e9d18</td>\n",
              "      <td>1.88</td>\n",
              "      <td>2022-03-01</td>\n",
              "      <td>9</td>\n",
              "    </tr>\n",
              "    <tr>\n",
              "      <th>2</th>\n",
              "      <td>2022-03-04 15:12:26</td>\n",
              "      <td>3d47a0c7-1e72-4512-812f-b6b5d8428cf3</td>\n",
              "      <td>1.78</td>\n",
              "      <td>2022-03-04</td>\n",
              "      <td>15</td>\n",
              "    </tr>\n",
              "    <tr>\n",
              "      <th>3</th>\n",
              "      <td>2022-03-02 12:30:42</td>\n",
              "      <td>9500357b-ce15-424a-837a-7677b386f471</td>\n",
              "      <td>2.18</td>\n",
              "      <td>2022-03-02</td>\n",
              "      <td>12</td>\n",
              "    </tr>\n",
              "    <tr>\n",
              "      <th>4</th>\n",
              "      <td>2022-03-05 09:09:33</td>\n",
              "      <td>c4b61fec-99c2-4c6d-8e5d-4edd8c9632fa</td>\n",
              "      <td>1.38</td>\n",
              "      <td>2022-03-05</td>\n",
              "      <td>9</td>\n",
              "    </tr>\n",
              "    <tr>\n",
              "      <th>...</th>\n",
              "      <td>...</td>\n",
              "      <td>...</td>\n",
              "      <td>...</td>\n",
              "      <td>...</td>\n",
              "      <td>...</td>\n",
              "    </tr>\n",
              "    <tr>\n",
              "      <th>23885</th>\n",
              "      <td>2022-03-01 10:40:43</td>\n",
              "      <td>17bcff56-9965-4e9f-ad5f-107f0f3be93f</td>\n",
              "      <td>-1.46</td>\n",
              "      <td>2022-03-01</td>\n",
              "      <td>10</td>\n",
              "    </tr>\n",
              "    <tr>\n",
              "      <th>23886</th>\n",
              "      <td>2022-03-05 17:07:49</td>\n",
              "      <td>51d4eb44-04bd-4d6a-b777-0653bc173303</td>\n",
              "      <td>-19.37</td>\n",
              "      <td>2022-03-05</td>\n",
              "      <td>17</td>\n",
              "    </tr>\n",
              "    <tr>\n",
              "      <th>23887</th>\n",
              "      <td>2022-03-01 16:15:41</td>\n",
              "      <td>bbcacfc4-3b59-47ee-b9e1-7dd3bd588748</td>\n",
              "      <td>-2.89</td>\n",
              "      <td>2022-03-01</td>\n",
              "      <td>16</td>\n",
              "    </tr>\n",
              "    <tr>\n",
              "      <th>23888</th>\n",
              "      <td>2022-03-07 14:44:52</td>\n",
              "      <td>5c4d567b-4bcf-4fcd-86b7-e2db5de6e439</td>\n",
              "      <td>-2.56</td>\n",
              "      <td>2022-03-07</td>\n",
              "      <td>14</td>\n",
              "    </tr>\n",
              "    <tr>\n",
              "      <th>23889</th>\n",
              "      <td>2022-03-01 16:33:41</td>\n",
              "      <td>589c28e1-f1f3-4efb-af6d-9f194c4d7d5b</td>\n",
              "      <td>0.13</td>\n",
              "      <td>2022-03-01</td>\n",
              "      <td>16</td>\n",
              "    </tr>\n",
              "  </tbody>\n",
              "</table>\n",
              "<p>23890 rows × 5 columns</p>\n",
              "</div>"
            ],
            "text/plain": [
              "                timestamp                                    id  temperature  \\\n",
              "0     2022-03-07 15:55:20  d1ca1ef8-0eac-42fc-af80-97106efc7b13         2.96   \n",
              "1     2022-03-01 09:18:22  4b8a66c4-0f3a-4f16-826f-8cf9397e9d18         1.88   \n",
              "2     2022-03-04 15:12:26  3d47a0c7-1e72-4512-812f-b6b5d8428cf3         1.78   \n",
              "3     2022-03-02 12:30:42  9500357b-ce15-424a-837a-7677b386f471         2.18   \n",
              "4     2022-03-05 09:09:33  c4b61fec-99c2-4c6d-8e5d-4edd8c9632fa         1.38   \n",
              "...                   ...                                   ...          ...   \n",
              "23885 2022-03-01 10:40:43  17bcff56-9965-4e9f-ad5f-107f0f3be93f        -1.46   \n",
              "23886 2022-03-05 17:07:49  51d4eb44-04bd-4d6a-b777-0653bc173303       -19.37   \n",
              "23887 2022-03-01 16:15:41  bbcacfc4-3b59-47ee-b9e1-7dd3bd588748        -2.89   \n",
              "23888 2022-03-07 14:44:52  5c4d567b-4bcf-4fcd-86b7-e2db5de6e439        -2.56   \n",
              "23889 2022-03-01 16:33:41  589c28e1-f1f3-4efb-af6d-9f194c4d7d5b         0.13   \n",
              "\n",
              "             Date  Hours  \n",
              "0      2022-03-07     15  \n",
              "1      2022-03-01      9  \n",
              "2      2022-03-04     15  \n",
              "3      2022-03-02     12  \n",
              "4      2022-03-05      9  \n",
              "...           ...    ...  \n",
              "23885  2022-03-01     10  \n",
              "23886  2022-03-05     17  \n",
              "23887  2022-03-01     16  \n",
              "23888  2022-03-07     14  \n",
              "23889  2022-03-01     16  \n",
              "\n",
              "[23890 rows x 5 columns]"
            ]
          },
          "execution_count": 33,
          "metadata": {},
          "output_type": "execute_result"
        }
      ],
      "source": [
        "temp_copy"
      ]
    },
    {
      "cell_type": "code",
      "execution_count": 34,
      "metadata": {},
      "outputs": [],
      "source": [
        "sales_df_copy = sales_df.copy()\n",
        "sales_df_copy['Hours'] = sales_df_copy['timestamp'].dt.hour\n"
      ]
    },
    {
      "cell_type": "code",
      "execution_count": 35,
      "metadata": {},
      "outputs": [
        {
          "data": {
            "text/html": [
              "<div>\n",
              "<style scoped>\n",
              "    .dataframe tbody tr th:only-of-type {\n",
              "        vertical-align: middle;\n",
              "    }\n",
              "\n",
              "    .dataframe tbody tr th {\n",
              "        vertical-align: top;\n",
              "    }\n",
              "\n",
              "    .dataframe thead th {\n",
              "        text-align: right;\n",
              "    }\n",
              "</style>\n",
              "<table border=\"1\" class=\"dataframe\">\n",
              "  <thead>\n",
              "    <tr style=\"text-align: right;\">\n",
              "      <th></th>\n",
              "      <th>transaction_id</th>\n",
              "      <th>timestamp</th>\n",
              "      <th>product_id</th>\n",
              "      <th>category</th>\n",
              "      <th>customer_type</th>\n",
              "      <th>unit_price</th>\n",
              "      <th>quantity</th>\n",
              "      <th>total</th>\n",
              "      <th>payment_type</th>\n",
              "      <th>Hours</th>\n",
              "    </tr>\n",
              "  </thead>\n",
              "  <tbody>\n",
              "    <tr>\n",
              "      <th>0</th>\n",
              "      <td>a1c82654-c52c-45b3-8ce8-4c2a1efe63ed</td>\n",
              "      <td>2022-03-02 09:51:38</td>\n",
              "      <td>3bc6c1ea-0198-46de-9ffd-514ae3338713</td>\n",
              "      <td>fruit</td>\n",
              "      <td>gold</td>\n",
              "      <td>3.99</td>\n",
              "      <td>2</td>\n",
              "      <td>7.98</td>\n",
              "      <td>e-wallet</td>\n",
              "      <td>9</td>\n",
              "    </tr>\n",
              "    <tr>\n",
              "      <th>1</th>\n",
              "      <td>931ad550-09e8-4da6-beaa-8c9d17be9c60</td>\n",
              "      <td>2022-03-06 10:33:59</td>\n",
              "      <td>ad81b46c-bf38-41cf-9b54-5fe7f5eba93e</td>\n",
              "      <td>fruit</td>\n",
              "      <td>standard</td>\n",
              "      <td>3.99</td>\n",
              "      <td>1</td>\n",
              "      <td>3.99</td>\n",
              "      <td>e-wallet</td>\n",
              "      <td>10</td>\n",
              "    </tr>\n",
              "    <tr>\n",
              "      <th>2</th>\n",
              "      <td>ae133534-6f61-4cd6-b6b8-d1c1d8d90aea</td>\n",
              "      <td>2022-03-04 17:20:21</td>\n",
              "      <td>7c55cbd4-f306-4c04-a030-628cbe7867c1</td>\n",
              "      <td>fruit</td>\n",
              "      <td>premium</td>\n",
              "      <td>0.19</td>\n",
              "      <td>2</td>\n",
              "      <td>0.38</td>\n",
              "      <td>e-wallet</td>\n",
              "      <td>17</td>\n",
              "    </tr>\n",
              "    <tr>\n",
              "      <th>3</th>\n",
              "      <td>157cebd9-aaf0-475d-8a11-7c8e0f5b76e4</td>\n",
              "      <td>2022-03-02 17:23:58</td>\n",
              "      <td>80da8348-1707-403f-8be7-9e6deeccc883</td>\n",
              "      <td>fruit</td>\n",
              "      <td>gold</td>\n",
              "      <td>0.19</td>\n",
              "      <td>4</td>\n",
              "      <td>0.76</td>\n",
              "      <td>e-wallet</td>\n",
              "      <td>17</td>\n",
              "    </tr>\n",
              "    <tr>\n",
              "      <th>4</th>\n",
              "      <td>a81a6cd3-5e0c-44a2-826c-aea43e46c514</td>\n",
              "      <td>2022-03-05 14:32:43</td>\n",
              "      <td>7f5e86e6-f06f-45f6-bf44-27b095c9ad1d</td>\n",
              "      <td>fruit</td>\n",
              "      <td>basic</td>\n",
              "      <td>4.49</td>\n",
              "      <td>2</td>\n",
              "      <td>8.98</td>\n",
              "      <td>debit card</td>\n",
              "      <td>14</td>\n",
              "    </tr>\n",
              "    <tr>\n",
              "      <th>...</th>\n",
              "      <td>...</td>\n",
              "      <td>...</td>\n",
              "      <td>...</td>\n",
              "      <td>...</td>\n",
              "      <td>...</td>\n",
              "      <td>...</td>\n",
              "      <td>...</td>\n",
              "      <td>...</td>\n",
              "      <td>...</td>\n",
              "      <td>...</td>\n",
              "    </tr>\n",
              "    <tr>\n",
              "      <th>7824</th>\n",
              "      <td>6c19b9fc-f86d-4526-9dfe-d8027a4d13ee</td>\n",
              "      <td>2022-03-03 18:22:09</td>\n",
              "      <td>bc6187a9-d508-482b-9ca6-590d1cc7524f</td>\n",
              "      <td>cleaning products</td>\n",
              "      <td>basic</td>\n",
              "      <td>14.19</td>\n",
              "      <td>2</td>\n",
              "      <td>28.38</td>\n",
              "      <td>e-wallet</td>\n",
              "      <td>18</td>\n",
              "    </tr>\n",
              "    <tr>\n",
              "      <th>7825</th>\n",
              "      <td>1c69824b-e399-4b79-a5e7-04a3a7db0681</td>\n",
              "      <td>2022-03-04 19:14:46</td>\n",
              "      <td>707e4237-191c-4cc9-85af-383a6c1cb2ab</td>\n",
              "      <td>cleaning products</td>\n",
              "      <td>standard</td>\n",
              "      <td>16.99</td>\n",
              "      <td>1</td>\n",
              "      <td>16.99</td>\n",
              "      <td>credit card</td>\n",
              "      <td>19</td>\n",
              "    </tr>\n",
              "    <tr>\n",
              "      <th>7826</th>\n",
              "      <td>79aee7d6-1405-4345-9a15-92541e9e1e74</td>\n",
              "      <td>2022-03-03 14:00:09</td>\n",
              "      <td>a9325c1a-2715-41df-b7f4-3078fa5ecd97</td>\n",
              "      <td>cleaning products</td>\n",
              "      <td>basic</td>\n",
              "      <td>14.19</td>\n",
              "      <td>2</td>\n",
              "      <td>28.38</td>\n",
              "      <td>credit card</td>\n",
              "      <td>14</td>\n",
              "    </tr>\n",
              "    <tr>\n",
              "      <th>7827</th>\n",
              "      <td>e5cc4f88-e5b7-4ad5-bc1b-12a828a14f55</td>\n",
              "      <td>2022-03-04 15:11:38</td>\n",
              "      <td>707e4237-191c-4cc9-85af-383a6c1cb2ab</td>\n",
              "      <td>cleaning products</td>\n",
              "      <td>basic</td>\n",
              "      <td>16.99</td>\n",
              "      <td>4</td>\n",
              "      <td>67.96</td>\n",
              "      <td>cash</td>\n",
              "      <td>15</td>\n",
              "    </tr>\n",
              "    <tr>\n",
              "      <th>7828</th>\n",
              "      <td>afd70b4f-ee21-402d-8d8f-0d9e13c2bea6</td>\n",
              "      <td>2022-03-06 13:50:36</td>\n",
              "      <td>d6ccd088-11be-4c25-aa1f-ea87c01a04db</td>\n",
              "      <td>cleaning products</td>\n",
              "      <td>non-member</td>\n",
              "      <td>14.99</td>\n",
              "      <td>4</td>\n",
              "      <td>59.96</td>\n",
              "      <td>debit card</td>\n",
              "      <td>13</td>\n",
              "    </tr>\n",
              "  </tbody>\n",
              "</table>\n",
              "<p>7829 rows × 10 columns</p>\n",
              "</div>"
            ],
            "text/plain": [
              "                            transaction_id           timestamp  \\\n",
              "0     a1c82654-c52c-45b3-8ce8-4c2a1efe63ed 2022-03-02 09:51:38   \n",
              "1     931ad550-09e8-4da6-beaa-8c9d17be9c60 2022-03-06 10:33:59   \n",
              "2     ae133534-6f61-4cd6-b6b8-d1c1d8d90aea 2022-03-04 17:20:21   \n",
              "3     157cebd9-aaf0-475d-8a11-7c8e0f5b76e4 2022-03-02 17:23:58   \n",
              "4     a81a6cd3-5e0c-44a2-826c-aea43e46c514 2022-03-05 14:32:43   \n",
              "...                                    ...                 ...   \n",
              "7824  6c19b9fc-f86d-4526-9dfe-d8027a4d13ee 2022-03-03 18:22:09   \n",
              "7825  1c69824b-e399-4b79-a5e7-04a3a7db0681 2022-03-04 19:14:46   \n",
              "7826  79aee7d6-1405-4345-9a15-92541e9e1e74 2022-03-03 14:00:09   \n",
              "7827  e5cc4f88-e5b7-4ad5-bc1b-12a828a14f55 2022-03-04 15:11:38   \n",
              "7828  afd70b4f-ee21-402d-8d8f-0d9e13c2bea6 2022-03-06 13:50:36   \n",
              "\n",
              "                                product_id           category customer_type  \\\n",
              "0     3bc6c1ea-0198-46de-9ffd-514ae3338713              fruit          gold   \n",
              "1     ad81b46c-bf38-41cf-9b54-5fe7f5eba93e              fruit      standard   \n",
              "2     7c55cbd4-f306-4c04-a030-628cbe7867c1              fruit       premium   \n",
              "3     80da8348-1707-403f-8be7-9e6deeccc883              fruit          gold   \n",
              "4     7f5e86e6-f06f-45f6-bf44-27b095c9ad1d              fruit         basic   \n",
              "...                                    ...                ...           ...   \n",
              "7824  bc6187a9-d508-482b-9ca6-590d1cc7524f  cleaning products         basic   \n",
              "7825  707e4237-191c-4cc9-85af-383a6c1cb2ab  cleaning products      standard   \n",
              "7826  a9325c1a-2715-41df-b7f4-3078fa5ecd97  cleaning products         basic   \n",
              "7827  707e4237-191c-4cc9-85af-383a6c1cb2ab  cleaning products         basic   \n",
              "7828  d6ccd088-11be-4c25-aa1f-ea87c01a04db  cleaning products    non-member   \n",
              "\n",
              "      unit_price  quantity  total payment_type  Hours  \n",
              "0           3.99         2   7.98     e-wallet      9  \n",
              "1           3.99         1   3.99     e-wallet     10  \n",
              "2           0.19         2   0.38     e-wallet     17  \n",
              "3           0.19         4   0.76     e-wallet     17  \n",
              "4           4.49         2   8.98   debit card     14  \n",
              "...          ...       ...    ...          ...    ...  \n",
              "7824       14.19         2  28.38     e-wallet     18  \n",
              "7825       16.99         1  16.99  credit card     19  \n",
              "7826       14.19         2  28.38  credit card     14  \n",
              "7827       16.99         4  67.96         cash     15  \n",
              "7828       14.99         4  59.96   debit card     13  \n",
              "\n",
              "[7829 rows x 10 columns]"
            ]
          },
          "execution_count": 35,
          "metadata": {},
          "output_type": "execute_result"
        }
      ],
      "source": [
        "sales_df_copy"
      ]
    },
    {
      "cell_type": "code",
      "execution_count": 36,
      "metadata": {},
      "outputs": [],
      "source": [
        "sales_df_copy.reset_index(inplace=True)"
      ]
    },
    {
      "cell_type": "code",
      "execution_count": 37,
      "metadata": {},
      "outputs": [
        {
          "data": {
            "text/html": [
              "<div>\n",
              "<style scoped>\n",
              "    .dataframe tbody tr th:only-of-type {\n",
              "        vertical-align: middle;\n",
              "    }\n",
              "\n",
              "    .dataframe tbody tr th {\n",
              "        vertical-align: top;\n",
              "    }\n",
              "\n",
              "    .dataframe thead th {\n",
              "        text-align: right;\n",
              "    }\n",
              "</style>\n",
              "<table border=\"1\" class=\"dataframe\">\n",
              "  <thead>\n",
              "    <tr style=\"text-align: right;\">\n",
              "      <th></th>\n",
              "      <th>index</th>\n",
              "      <th>transaction_id</th>\n",
              "      <th>timestamp</th>\n",
              "      <th>product_id</th>\n",
              "      <th>category</th>\n",
              "      <th>customer_type</th>\n",
              "      <th>unit_price</th>\n",
              "      <th>quantity</th>\n",
              "      <th>total</th>\n",
              "      <th>payment_type</th>\n",
              "      <th>Hours</th>\n",
              "    </tr>\n",
              "  </thead>\n",
              "  <tbody>\n",
              "    <tr>\n",
              "      <th>0</th>\n",
              "      <td>0</td>\n",
              "      <td>a1c82654-c52c-45b3-8ce8-4c2a1efe63ed</td>\n",
              "      <td>2022-03-02 09:00:00</td>\n",
              "      <td>3bc6c1ea-0198-46de-9ffd-514ae3338713</td>\n",
              "      <td>fruit</td>\n",
              "      <td>gold</td>\n",
              "      <td>3.99</td>\n",
              "      <td>2</td>\n",
              "      <td>7.98</td>\n",
              "      <td>e-wallet</td>\n",
              "      <td>9</td>\n",
              "    </tr>\n",
              "    <tr>\n",
              "      <th>1</th>\n",
              "      <td>1</td>\n",
              "      <td>931ad550-09e8-4da6-beaa-8c9d17be9c60</td>\n",
              "      <td>2022-03-06 10:00:00</td>\n",
              "      <td>ad81b46c-bf38-41cf-9b54-5fe7f5eba93e</td>\n",
              "      <td>fruit</td>\n",
              "      <td>standard</td>\n",
              "      <td>3.99</td>\n",
              "      <td>1</td>\n",
              "      <td>3.99</td>\n",
              "      <td>e-wallet</td>\n",
              "      <td>10</td>\n",
              "    </tr>\n",
              "    <tr>\n",
              "      <th>2</th>\n",
              "      <td>2</td>\n",
              "      <td>ae133534-6f61-4cd6-b6b8-d1c1d8d90aea</td>\n",
              "      <td>2022-03-04 17:00:00</td>\n",
              "      <td>7c55cbd4-f306-4c04-a030-628cbe7867c1</td>\n",
              "      <td>fruit</td>\n",
              "      <td>premium</td>\n",
              "      <td>0.19</td>\n",
              "      <td>2</td>\n",
              "      <td>0.38</td>\n",
              "      <td>e-wallet</td>\n",
              "      <td>17</td>\n",
              "    </tr>\n",
              "    <tr>\n",
              "      <th>3</th>\n",
              "      <td>3</td>\n",
              "      <td>157cebd9-aaf0-475d-8a11-7c8e0f5b76e4</td>\n",
              "      <td>2022-03-02 17:00:00</td>\n",
              "      <td>80da8348-1707-403f-8be7-9e6deeccc883</td>\n",
              "      <td>fruit</td>\n",
              "      <td>gold</td>\n",
              "      <td>0.19</td>\n",
              "      <td>4</td>\n",
              "      <td>0.76</td>\n",
              "      <td>e-wallet</td>\n",
              "      <td>17</td>\n",
              "    </tr>\n",
              "    <tr>\n",
              "      <th>4</th>\n",
              "      <td>4</td>\n",
              "      <td>a81a6cd3-5e0c-44a2-826c-aea43e46c514</td>\n",
              "      <td>2022-03-05 14:00:00</td>\n",
              "      <td>7f5e86e6-f06f-45f6-bf44-27b095c9ad1d</td>\n",
              "      <td>fruit</td>\n",
              "      <td>basic</td>\n",
              "      <td>4.49</td>\n",
              "      <td>2</td>\n",
              "      <td>8.98</td>\n",
              "      <td>debit card</td>\n",
              "      <td>14</td>\n",
              "    </tr>\n",
              "    <tr>\n",
              "      <th>...</th>\n",
              "      <td>...</td>\n",
              "      <td>...</td>\n",
              "      <td>...</td>\n",
              "      <td>...</td>\n",
              "      <td>...</td>\n",
              "      <td>...</td>\n",
              "      <td>...</td>\n",
              "      <td>...</td>\n",
              "      <td>...</td>\n",
              "      <td>...</td>\n",
              "      <td>...</td>\n",
              "    </tr>\n",
              "    <tr>\n",
              "      <th>7824</th>\n",
              "      <td>7824</td>\n",
              "      <td>6c19b9fc-f86d-4526-9dfe-d8027a4d13ee</td>\n",
              "      <td>2022-03-03 18:00:00</td>\n",
              "      <td>bc6187a9-d508-482b-9ca6-590d1cc7524f</td>\n",
              "      <td>cleaning products</td>\n",
              "      <td>basic</td>\n",
              "      <td>14.19</td>\n",
              "      <td>2</td>\n",
              "      <td>28.38</td>\n",
              "      <td>e-wallet</td>\n",
              "      <td>18</td>\n",
              "    </tr>\n",
              "    <tr>\n",
              "      <th>7825</th>\n",
              "      <td>7825</td>\n",
              "      <td>1c69824b-e399-4b79-a5e7-04a3a7db0681</td>\n",
              "      <td>2022-03-04 19:00:00</td>\n",
              "      <td>707e4237-191c-4cc9-85af-383a6c1cb2ab</td>\n",
              "      <td>cleaning products</td>\n",
              "      <td>standard</td>\n",
              "      <td>16.99</td>\n",
              "      <td>1</td>\n",
              "      <td>16.99</td>\n",
              "      <td>credit card</td>\n",
              "      <td>19</td>\n",
              "    </tr>\n",
              "    <tr>\n",
              "      <th>7826</th>\n",
              "      <td>7826</td>\n",
              "      <td>79aee7d6-1405-4345-9a15-92541e9e1e74</td>\n",
              "      <td>2022-03-03 14:00:00</td>\n",
              "      <td>a9325c1a-2715-41df-b7f4-3078fa5ecd97</td>\n",
              "      <td>cleaning products</td>\n",
              "      <td>basic</td>\n",
              "      <td>14.19</td>\n",
              "      <td>2</td>\n",
              "      <td>28.38</td>\n",
              "      <td>credit card</td>\n",
              "      <td>14</td>\n",
              "    </tr>\n",
              "    <tr>\n",
              "      <th>7827</th>\n",
              "      <td>7827</td>\n",
              "      <td>e5cc4f88-e5b7-4ad5-bc1b-12a828a14f55</td>\n",
              "      <td>2022-03-04 15:00:00</td>\n",
              "      <td>707e4237-191c-4cc9-85af-383a6c1cb2ab</td>\n",
              "      <td>cleaning products</td>\n",
              "      <td>basic</td>\n",
              "      <td>16.99</td>\n",
              "      <td>4</td>\n",
              "      <td>67.96</td>\n",
              "      <td>cash</td>\n",
              "      <td>15</td>\n",
              "    </tr>\n",
              "    <tr>\n",
              "      <th>7828</th>\n",
              "      <td>7828</td>\n",
              "      <td>afd70b4f-ee21-402d-8d8f-0d9e13c2bea6</td>\n",
              "      <td>2022-03-06 13:00:00</td>\n",
              "      <td>d6ccd088-11be-4c25-aa1f-ea87c01a04db</td>\n",
              "      <td>cleaning products</td>\n",
              "      <td>non-member</td>\n",
              "      <td>14.99</td>\n",
              "      <td>4</td>\n",
              "      <td>59.96</td>\n",
              "      <td>debit card</td>\n",
              "      <td>13</td>\n",
              "    </tr>\n",
              "  </tbody>\n",
              "</table>\n",
              "<p>7829 rows × 11 columns</p>\n",
              "</div>"
            ],
            "text/plain": [
              "      index                        transaction_id            timestamp  \\\n",
              "0         0  a1c82654-c52c-45b3-8ce8-4c2a1efe63ed  2022-03-02 09:00:00   \n",
              "1         1  931ad550-09e8-4da6-beaa-8c9d17be9c60  2022-03-06 10:00:00   \n",
              "2         2  ae133534-6f61-4cd6-b6b8-d1c1d8d90aea  2022-03-04 17:00:00   \n",
              "3         3  157cebd9-aaf0-475d-8a11-7c8e0f5b76e4  2022-03-02 17:00:00   \n",
              "4         4  a81a6cd3-5e0c-44a2-826c-aea43e46c514  2022-03-05 14:00:00   \n",
              "...     ...                                   ...                  ...   \n",
              "7824   7824  6c19b9fc-f86d-4526-9dfe-d8027a4d13ee  2022-03-03 18:00:00   \n",
              "7825   7825  1c69824b-e399-4b79-a5e7-04a3a7db0681  2022-03-04 19:00:00   \n",
              "7826   7826  79aee7d6-1405-4345-9a15-92541e9e1e74  2022-03-03 14:00:00   \n",
              "7827   7827  e5cc4f88-e5b7-4ad5-bc1b-12a828a14f55  2022-03-04 15:00:00   \n",
              "7828   7828  afd70b4f-ee21-402d-8d8f-0d9e13c2bea6  2022-03-06 13:00:00   \n",
              "\n",
              "                                product_id           category customer_type  \\\n",
              "0     3bc6c1ea-0198-46de-9ffd-514ae3338713              fruit          gold   \n",
              "1     ad81b46c-bf38-41cf-9b54-5fe7f5eba93e              fruit      standard   \n",
              "2     7c55cbd4-f306-4c04-a030-628cbe7867c1              fruit       premium   \n",
              "3     80da8348-1707-403f-8be7-9e6deeccc883              fruit          gold   \n",
              "4     7f5e86e6-f06f-45f6-bf44-27b095c9ad1d              fruit         basic   \n",
              "...                                    ...                ...           ...   \n",
              "7824  bc6187a9-d508-482b-9ca6-590d1cc7524f  cleaning products         basic   \n",
              "7825  707e4237-191c-4cc9-85af-383a6c1cb2ab  cleaning products      standard   \n",
              "7826  a9325c1a-2715-41df-b7f4-3078fa5ecd97  cleaning products         basic   \n",
              "7827  707e4237-191c-4cc9-85af-383a6c1cb2ab  cleaning products         basic   \n",
              "7828  d6ccd088-11be-4c25-aa1f-ea87c01a04db  cleaning products    non-member   \n",
              "\n",
              "      unit_price  quantity  total payment_type  Hours  \n",
              "0           3.99         2   7.98     e-wallet      9  \n",
              "1           3.99         1   3.99     e-wallet     10  \n",
              "2           0.19         2   0.38     e-wallet     17  \n",
              "3           0.19         4   0.76     e-wallet     17  \n",
              "4           4.49         2   8.98   debit card     14  \n",
              "...          ...       ...    ...          ...    ...  \n",
              "7824       14.19         2  28.38     e-wallet     18  \n",
              "7825       16.99         1  16.99  credit card     19  \n",
              "7826       14.19         2  28.38  credit card     14  \n",
              "7827       16.99         4  67.96         cash     15  \n",
              "7828       14.99         4  59.96   debit card     13  \n",
              "\n",
              "[7829 rows x 11 columns]"
            ]
          },
          "execution_count": 37,
          "metadata": {},
          "output_type": "execute_result"
        }
      ],
      "source": [
        "sales_df_copy['timestamp'] = pd.to_datetime(sales_df_copy['timestamp']).dt.strftime('%Y-%m-%d %H:00:00')\n",
        "sales_df_copy"
      ]
    },
    {
      "cell_type": "code",
      "execution_count": 38,
      "metadata": {},
      "outputs": [],
      "source": [
        "sales_df_copy.drop(columns='index',inplace=True)"
      ]
    },
    {
      "cell_type": "code",
      "execution_count": 39,
      "metadata": {},
      "outputs": [],
      "source": [
        "sales_df_copy.drop(columns='Hours',inplace=True)"
      ]
    },
    {
      "cell_type": "code",
      "execution_count": 40,
      "metadata": {},
      "outputs": [
        {
          "data": {
            "text/html": [
              "<div>\n",
              "<style scoped>\n",
              "    .dataframe tbody tr th:only-of-type {\n",
              "        vertical-align: middle;\n",
              "    }\n",
              "\n",
              "    .dataframe tbody tr th {\n",
              "        vertical-align: top;\n",
              "    }\n",
              "\n",
              "    .dataframe thead th {\n",
              "        text-align: right;\n",
              "    }\n",
              "</style>\n",
              "<table border=\"1\" class=\"dataframe\">\n",
              "  <thead>\n",
              "    <tr style=\"text-align: right;\">\n",
              "      <th></th>\n",
              "      <th>timestamp</th>\n",
              "      <th>id</th>\n",
              "      <th>temperature</th>\n",
              "      <th>Date</th>\n",
              "      <th>Hours</th>\n",
              "    </tr>\n",
              "  </thead>\n",
              "  <tbody>\n",
              "    <tr>\n",
              "      <th>0</th>\n",
              "      <td>2022-03-07 15:00:00</td>\n",
              "      <td>d1ca1ef8-0eac-42fc-af80-97106efc7b13</td>\n",
              "      <td>2.96</td>\n",
              "      <td>2022-03-07</td>\n",
              "      <td>15</td>\n",
              "    </tr>\n",
              "    <tr>\n",
              "      <th>1</th>\n",
              "      <td>2022-03-01 09:00:00</td>\n",
              "      <td>4b8a66c4-0f3a-4f16-826f-8cf9397e9d18</td>\n",
              "      <td>1.88</td>\n",
              "      <td>2022-03-01</td>\n",
              "      <td>9</td>\n",
              "    </tr>\n",
              "    <tr>\n",
              "      <th>2</th>\n",
              "      <td>2022-03-04 15:00:00</td>\n",
              "      <td>3d47a0c7-1e72-4512-812f-b6b5d8428cf3</td>\n",
              "      <td>1.78</td>\n",
              "      <td>2022-03-04</td>\n",
              "      <td>15</td>\n",
              "    </tr>\n",
              "    <tr>\n",
              "      <th>3</th>\n",
              "      <td>2022-03-02 12:00:00</td>\n",
              "      <td>9500357b-ce15-424a-837a-7677b386f471</td>\n",
              "      <td>2.18</td>\n",
              "      <td>2022-03-02</td>\n",
              "      <td>12</td>\n",
              "    </tr>\n",
              "    <tr>\n",
              "      <th>4</th>\n",
              "      <td>2022-03-05 09:00:00</td>\n",
              "      <td>c4b61fec-99c2-4c6d-8e5d-4edd8c9632fa</td>\n",
              "      <td>1.38</td>\n",
              "      <td>2022-03-05</td>\n",
              "      <td>9</td>\n",
              "    </tr>\n",
              "    <tr>\n",
              "      <th>...</th>\n",
              "      <td>...</td>\n",
              "      <td>...</td>\n",
              "      <td>...</td>\n",
              "      <td>...</td>\n",
              "      <td>...</td>\n",
              "    </tr>\n",
              "    <tr>\n",
              "      <th>23885</th>\n",
              "      <td>2022-03-01 10:00:00</td>\n",
              "      <td>17bcff56-9965-4e9f-ad5f-107f0f3be93f</td>\n",
              "      <td>-1.46</td>\n",
              "      <td>2022-03-01</td>\n",
              "      <td>10</td>\n",
              "    </tr>\n",
              "    <tr>\n",
              "      <th>23886</th>\n",
              "      <td>2022-03-05 17:00:00</td>\n",
              "      <td>51d4eb44-04bd-4d6a-b777-0653bc173303</td>\n",
              "      <td>-19.37</td>\n",
              "      <td>2022-03-05</td>\n",
              "      <td>17</td>\n",
              "    </tr>\n",
              "    <tr>\n",
              "      <th>23887</th>\n",
              "      <td>2022-03-01 16:00:00</td>\n",
              "      <td>bbcacfc4-3b59-47ee-b9e1-7dd3bd588748</td>\n",
              "      <td>-2.89</td>\n",
              "      <td>2022-03-01</td>\n",
              "      <td>16</td>\n",
              "    </tr>\n",
              "    <tr>\n",
              "      <th>23888</th>\n",
              "      <td>2022-03-07 14:00:00</td>\n",
              "      <td>5c4d567b-4bcf-4fcd-86b7-e2db5de6e439</td>\n",
              "      <td>-2.56</td>\n",
              "      <td>2022-03-07</td>\n",
              "      <td>14</td>\n",
              "    </tr>\n",
              "    <tr>\n",
              "      <th>23889</th>\n",
              "      <td>2022-03-01 16:00:00</td>\n",
              "      <td>589c28e1-f1f3-4efb-af6d-9f194c4d7d5b</td>\n",
              "      <td>0.13</td>\n",
              "      <td>2022-03-01</td>\n",
              "      <td>16</td>\n",
              "    </tr>\n",
              "  </tbody>\n",
              "</table>\n",
              "<p>23890 rows × 5 columns</p>\n",
              "</div>"
            ],
            "text/plain": [
              "                 timestamp                                    id  temperature  \\\n",
              "0      2022-03-07 15:00:00  d1ca1ef8-0eac-42fc-af80-97106efc7b13         2.96   \n",
              "1      2022-03-01 09:00:00  4b8a66c4-0f3a-4f16-826f-8cf9397e9d18         1.88   \n",
              "2      2022-03-04 15:00:00  3d47a0c7-1e72-4512-812f-b6b5d8428cf3         1.78   \n",
              "3      2022-03-02 12:00:00  9500357b-ce15-424a-837a-7677b386f471         2.18   \n",
              "4      2022-03-05 09:00:00  c4b61fec-99c2-4c6d-8e5d-4edd8c9632fa         1.38   \n",
              "...                    ...                                   ...          ...   \n",
              "23885  2022-03-01 10:00:00  17bcff56-9965-4e9f-ad5f-107f0f3be93f        -1.46   \n",
              "23886  2022-03-05 17:00:00  51d4eb44-04bd-4d6a-b777-0653bc173303       -19.37   \n",
              "23887  2022-03-01 16:00:00  bbcacfc4-3b59-47ee-b9e1-7dd3bd588748        -2.89   \n",
              "23888  2022-03-07 14:00:00  5c4d567b-4bcf-4fcd-86b7-e2db5de6e439        -2.56   \n",
              "23889  2022-03-01 16:00:00  589c28e1-f1f3-4efb-af6d-9f194c4d7d5b         0.13   \n",
              "\n",
              "             Date  Hours  \n",
              "0      2022-03-07     15  \n",
              "1      2022-03-01      9  \n",
              "2      2022-03-04     15  \n",
              "3      2022-03-02     12  \n",
              "4      2022-03-05      9  \n",
              "...           ...    ...  \n",
              "23885  2022-03-01     10  \n",
              "23886  2022-03-05     17  \n",
              "23887  2022-03-01     16  \n",
              "23888  2022-03-07     14  \n",
              "23889  2022-03-01     16  \n",
              "\n",
              "[23890 rows x 5 columns]"
            ]
          },
          "execution_count": 40,
          "metadata": {},
          "output_type": "execute_result"
        }
      ],
      "source": [
        "temp_copy['timestamp'] = pd.to_datetime(temp_copy['timestamp']).dt.strftime('%Y-%m-%d %H:00:00')\n",
        "temp_copy"
      ]
    },
    {
      "cell_type": "code",
      "execution_count": 41,
      "metadata": {},
      "outputs": [],
      "source": [
        "temp_copy.drop(columns=['Date','Hours'],inplace=True)"
      ]
    },
    {
      "cell_type": "code",
      "execution_count": 42,
      "metadata": {},
      "outputs": [],
      "source": [
        "sales_agg = sales_df_copy.groupby(['product_id','timestamp']).agg({'quantity':'sum'})"
      ]
    },
    {
      "cell_type": "code",
      "execution_count": 43,
      "metadata": {},
      "outputs": [
        {
          "data": {
            "text/html": [
              "<div>\n",
              "<style scoped>\n",
              "    .dataframe tbody tr th:only-of-type {\n",
              "        vertical-align: middle;\n",
              "    }\n",
              "\n",
              "    .dataframe tbody tr th {\n",
              "        vertical-align: top;\n",
              "    }\n",
              "\n",
              "    .dataframe thead th {\n",
              "        text-align: right;\n",
              "    }\n",
              "</style>\n",
              "<table border=\"1\" class=\"dataframe\">\n",
              "  <thead>\n",
              "    <tr style=\"text-align: right;\">\n",
              "      <th></th>\n",
              "      <th>temperature</th>\n",
              "    </tr>\n",
              "    <tr>\n",
              "      <th>timestamp</th>\n",
              "      <th></th>\n",
              "    </tr>\n",
              "  </thead>\n",
              "  <tbody>\n",
              "    <tr>\n",
              "      <th>2022-03-01 09:00:00</th>\n",
              "      <td>-0.028850</td>\n",
              "    </tr>\n",
              "    <tr>\n",
              "      <th>2022-03-01 10:00:00</th>\n",
              "      <td>1.284314</td>\n",
              "    </tr>\n",
              "    <tr>\n",
              "      <th>2022-03-01 11:00:00</th>\n",
              "      <td>-0.560000</td>\n",
              "    </tr>\n",
              "    <tr>\n",
              "      <th>2022-03-01 12:00:00</th>\n",
              "      <td>-0.537721</td>\n",
              "    </tr>\n",
              "    <tr>\n",
              "      <th>2022-03-01 13:00:00</th>\n",
              "      <td>-0.188734</td>\n",
              "    </tr>\n",
              "    <tr>\n",
              "      <th>...</th>\n",
              "      <td>...</td>\n",
              "    </tr>\n",
              "    <tr>\n",
              "      <th>2022-03-07 15:00:00</th>\n",
              "      <td>-0.943848</td>\n",
              "    </tr>\n",
              "    <tr>\n",
              "      <th>2022-03-07 16:00:00</th>\n",
              "      <td>-0.230631</td>\n",
              "    </tr>\n",
              "    <tr>\n",
              "      <th>2022-03-07 17:00:00</th>\n",
              "      <td>-0.003988</td>\n",
              "    </tr>\n",
              "    <tr>\n",
              "      <th>2022-03-07 18:00:00</th>\n",
              "      <td>0.409693</td>\n",
              "    </tr>\n",
              "    <tr>\n",
              "      <th>2022-03-07 19:00:00</th>\n",
              "      <td>-0.165077</td>\n",
              "    </tr>\n",
              "  </tbody>\n",
              "</table>\n",
              "<p>77 rows × 1 columns</p>\n",
              "</div>"
            ],
            "text/plain": [
              "                     temperature\n",
              "timestamp                       \n",
              "2022-03-01 09:00:00    -0.028850\n",
              "2022-03-01 10:00:00     1.284314\n",
              "2022-03-01 11:00:00    -0.560000\n",
              "2022-03-01 12:00:00    -0.537721\n",
              "2022-03-01 13:00:00    -0.188734\n",
              "...                          ...\n",
              "2022-03-07 15:00:00    -0.943848\n",
              "2022-03-07 16:00:00    -0.230631\n",
              "2022-03-07 17:00:00    -0.003988\n",
              "2022-03-07 18:00:00     0.409693\n",
              "2022-03-07 19:00:00    -0.165077\n",
              "\n",
              "[77 rows x 1 columns]"
            ]
          },
          "execution_count": 43,
          "metadata": {},
          "output_type": "execute_result"
        }
      ],
      "source": [
        "temp_agg = temp_copy.groupby('timestamp').agg({'temperature':'mean'})\n",
        "temp_agg"
      ]
    },
    {
      "cell_type": "code",
      "execution_count": 44,
      "metadata": {},
      "outputs": [
        {
          "data": {
            "text/html": [
              "<div>\n",
              "<style scoped>\n",
              "    .dataframe tbody tr th:only-of-type {\n",
              "        vertical-align: middle;\n",
              "    }\n",
              "\n",
              "    .dataframe tbody tr th {\n",
              "        vertical-align: top;\n",
              "    }\n",
              "\n",
              "    .dataframe thead th {\n",
              "        text-align: right;\n",
              "    }\n",
              "</style>\n",
              "<table border=\"1\" class=\"dataframe\">\n",
              "  <thead>\n",
              "    <tr style=\"text-align: right;\">\n",
              "      <th></th>\n",
              "      <th>id</th>\n",
              "      <th>timestamp</th>\n",
              "      <th>product_id</th>\n",
              "      <th>estimated_stock_pct</th>\n",
              "    </tr>\n",
              "  </thead>\n",
              "  <tbody>\n",
              "    <tr>\n",
              "      <th>0</th>\n",
              "      <td>4220e505-c247-478d-9831-6b9f87a4488a</td>\n",
              "      <td>2022-03-07 12:00:00</td>\n",
              "      <td>f658605e-75f3-4fed-a655-c0903f344427</td>\n",
              "      <td>0.75</td>\n",
              "    </tr>\n",
              "    <tr>\n",
              "      <th>1</th>\n",
              "      <td>f2612b26-fc82-49ea-8940-0751fdd4d9ef</td>\n",
              "      <td>2022-03-07 16:00:00</td>\n",
              "      <td>de06083a-f5c0-451d-b2f4-9ab88b52609d</td>\n",
              "      <td>0.48</td>\n",
              "    </tr>\n",
              "    <tr>\n",
              "      <th>2</th>\n",
              "      <td>989a287f-67e6-4478-aa49-c3a35dac0e2e</td>\n",
              "      <td>2022-03-01 18:00:00</td>\n",
              "      <td>ce8f3a04-d1a4-43b1-a7c2-fa1b8e7674c8</td>\n",
              "      <td>0.58</td>\n",
              "    </tr>\n",
              "    <tr>\n",
              "      <th>3</th>\n",
              "      <td>af8e5683-d247-46ac-9909-1a77bdebefb2</td>\n",
              "      <td>2022-03-02 14:00:00</td>\n",
              "      <td>c21e3ba9-92a3-4745-92c2-6faef73223f7</td>\n",
              "      <td>0.79</td>\n",
              "    </tr>\n",
              "    <tr>\n",
              "      <th>4</th>\n",
              "      <td>08a32247-3f44-4002-85fb-c198434dd4bb</td>\n",
              "      <td>2022-03-02 13:00:00</td>\n",
              "      <td>7f478817-aa5b-44e9-9059-8045228c9eb0</td>\n",
              "      <td>0.22</td>\n",
              "    </tr>\n",
              "    <tr>\n",
              "      <th>...</th>\n",
              "      <td>...</td>\n",
              "      <td>...</td>\n",
              "      <td>...</td>\n",
              "      <td>...</td>\n",
              "    </tr>\n",
              "    <tr>\n",
              "      <th>14995</th>\n",
              "      <td>b9bf6788-09f3-490b-959b-dc5b55edb4b6</td>\n",
              "      <td>2022-03-04 10:00:00</td>\n",
              "      <td>e37658de-3649-4ddb-9c73-b868dd69d3fe</td>\n",
              "      <td>0.66</td>\n",
              "    </tr>\n",
              "    <tr>\n",
              "      <th>14996</th>\n",
              "      <td>9ff1cc01-020f-491a-bafd-13552dccff44</td>\n",
              "      <td>2022-03-02 12:00:00</td>\n",
              "      <td>fbeb39cc-8cd0-4143-bdfb-77658a02dec9</td>\n",
              "      <td>0.99</td>\n",
              "    </tr>\n",
              "    <tr>\n",
              "      <th>14997</th>\n",
              "      <td>4d8101de-e8a2-4af9-9764-7a3a22aa7084</td>\n",
              "      <td>2022-03-03 17:00:00</td>\n",
              "      <td>8e21dcec-d775-4969-8334-05a37a5fd189</td>\n",
              "      <td>0.72</td>\n",
              "    </tr>\n",
              "    <tr>\n",
              "      <th>14998</th>\n",
              "      <td>5f2a7b1e-b3c4-4395-8425-c960e22f701d</td>\n",
              "      <td>2022-03-02 19:00:00</td>\n",
              "      <td>9708cf5b-aa69-4320-a013-9d234c40e63f</td>\n",
              "      <td>0.95</td>\n",
              "    </tr>\n",
              "    <tr>\n",
              "      <th>14999</th>\n",
              "      <td>af6f4493-e49d-4dcb-951d-308e6cce267b</td>\n",
              "      <td>2022-03-06 17:00:00</td>\n",
              "      <td>3bc6c1ea-0198-46de-9ffd-514ae3338713</td>\n",
              "      <td>0.75</td>\n",
              "    </tr>\n",
              "  </tbody>\n",
              "</table>\n",
              "<p>15000 rows × 4 columns</p>\n",
              "</div>"
            ],
            "text/plain": [
              "                                         id            timestamp  \\\n",
              "0      4220e505-c247-478d-9831-6b9f87a4488a  2022-03-07 12:00:00   \n",
              "1      f2612b26-fc82-49ea-8940-0751fdd4d9ef  2022-03-07 16:00:00   \n",
              "2      989a287f-67e6-4478-aa49-c3a35dac0e2e  2022-03-01 18:00:00   \n",
              "3      af8e5683-d247-46ac-9909-1a77bdebefb2  2022-03-02 14:00:00   \n",
              "4      08a32247-3f44-4002-85fb-c198434dd4bb  2022-03-02 13:00:00   \n",
              "...                                     ...                  ...   \n",
              "14995  b9bf6788-09f3-490b-959b-dc5b55edb4b6  2022-03-04 10:00:00   \n",
              "14996  9ff1cc01-020f-491a-bafd-13552dccff44  2022-03-02 12:00:00   \n",
              "14997  4d8101de-e8a2-4af9-9764-7a3a22aa7084  2022-03-03 17:00:00   \n",
              "14998  5f2a7b1e-b3c4-4395-8425-c960e22f701d  2022-03-02 19:00:00   \n",
              "14999  af6f4493-e49d-4dcb-951d-308e6cce267b  2022-03-06 17:00:00   \n",
              "\n",
              "                                 product_id  estimated_stock_pct  \n",
              "0      f658605e-75f3-4fed-a655-c0903f344427                 0.75  \n",
              "1      de06083a-f5c0-451d-b2f4-9ab88b52609d                 0.48  \n",
              "2      ce8f3a04-d1a4-43b1-a7c2-fa1b8e7674c8                 0.58  \n",
              "3      c21e3ba9-92a3-4745-92c2-6faef73223f7                 0.79  \n",
              "4      7f478817-aa5b-44e9-9059-8045228c9eb0                 0.22  \n",
              "...                                     ...                  ...  \n",
              "14995  e37658de-3649-4ddb-9c73-b868dd69d3fe                 0.66  \n",
              "14996  fbeb39cc-8cd0-4143-bdfb-77658a02dec9                 0.99  \n",
              "14997  8e21dcec-d775-4969-8334-05a37a5fd189                 0.72  \n",
              "14998  9708cf5b-aa69-4320-a013-9d234c40e63f                 0.95  \n",
              "14999  3bc6c1ea-0198-46de-9ffd-514ae3338713                 0.75  \n",
              "\n",
              "[15000 rows x 4 columns]"
            ]
          },
          "execution_count": 44,
          "metadata": {},
          "output_type": "execute_result"
        }
      ],
      "source": [
        "stock_df['timestamp'] = pd.to_datetime(stock_df['timestamp']).dt.strftime('%Y-%m-%d %H:00:00')\n",
        "stock_df"
      ]
    },
    {
      "cell_type": "code",
      "execution_count": 45,
      "metadata": {},
      "outputs": [
        {
          "data": {
            "text/html": [
              "<div>\n",
              "<style scoped>\n",
              "    .dataframe tbody tr th:only-of-type {\n",
              "        vertical-align: middle;\n",
              "    }\n",
              "\n",
              "    .dataframe tbody tr th {\n",
              "        vertical-align: top;\n",
              "    }\n",
              "\n",
              "    .dataframe thead th {\n",
              "        text-align: right;\n",
              "    }\n",
              "</style>\n",
              "<table border=\"1\" class=\"dataframe\">\n",
              "  <thead>\n",
              "    <tr style=\"text-align: right;\">\n",
              "      <th></th>\n",
              "      <th></th>\n",
              "      <th>estimated_stock_pct</th>\n",
              "    </tr>\n",
              "    <tr>\n",
              "      <th>product_id</th>\n",
              "      <th>timestamp</th>\n",
              "      <th></th>\n",
              "    </tr>\n",
              "  </thead>\n",
              "  <tbody>\n",
              "    <tr>\n",
              "      <th rowspan=\"5\" valign=\"top\">00e120bb-89d6-4df5-bc48-a051148e3d03</th>\n",
              "      <th>2022-03-01 09:00:00</th>\n",
              "      <td>0.89</td>\n",
              "    </tr>\n",
              "    <tr>\n",
              "      <th>2022-03-01 11:00:00</th>\n",
              "      <td>0.46</td>\n",
              "    </tr>\n",
              "    <tr>\n",
              "      <th>2022-03-01 12:00:00</th>\n",
              "      <td>0.85</td>\n",
              "    </tr>\n",
              "    <tr>\n",
              "      <th>2022-03-01 13:00:00</th>\n",
              "      <td>0.39</td>\n",
              "    </tr>\n",
              "    <tr>\n",
              "      <th>2022-03-01 17:00:00</th>\n",
              "      <td>0.57</td>\n",
              "    </tr>\n",
              "    <tr>\n",
              "      <th>...</th>\n",
              "      <th>...</th>\n",
              "      <td>...</td>\n",
              "    </tr>\n",
              "    <tr>\n",
              "      <th rowspan=\"5\" valign=\"top\">fd77b5cb-498c-40ca-95d1-0f87f13dd0d8</th>\n",
              "      <th>2022-03-06 17:00:00</th>\n",
              "      <td>0.18</td>\n",
              "    </tr>\n",
              "    <tr>\n",
              "      <th>2022-03-07 10:00:00</th>\n",
              "      <td>0.16</td>\n",
              "    </tr>\n",
              "    <tr>\n",
              "      <th>2022-03-07 11:00:00</th>\n",
              "      <td>0.46</td>\n",
              "    </tr>\n",
              "    <tr>\n",
              "      <th>2022-03-07 17:00:00</th>\n",
              "      <td>0.31</td>\n",
              "    </tr>\n",
              "    <tr>\n",
              "      <th>2022-03-07 18:00:00</th>\n",
              "      <td>0.98</td>\n",
              "    </tr>\n",
              "  </tbody>\n",
              "</table>\n",
              "<p>10845 rows × 1 columns</p>\n",
              "</div>"
            ],
            "text/plain": [
              "                                                          estimated_stock_pct\n",
              "product_id                           timestamp                               \n",
              "00e120bb-89d6-4df5-bc48-a051148e3d03 2022-03-01 09:00:00                 0.89\n",
              "                                     2022-03-01 11:00:00                 0.46\n",
              "                                     2022-03-01 12:00:00                 0.85\n",
              "                                     2022-03-01 13:00:00                 0.39\n",
              "                                     2022-03-01 17:00:00                 0.57\n",
              "...                                                                       ...\n",
              "fd77b5cb-498c-40ca-95d1-0f87f13dd0d8 2022-03-06 17:00:00                 0.18\n",
              "                                     2022-03-07 10:00:00                 0.16\n",
              "                                     2022-03-07 11:00:00                 0.46\n",
              "                                     2022-03-07 17:00:00                 0.31\n",
              "                                     2022-03-07 18:00:00                 0.98\n",
              "\n",
              "[10845 rows x 1 columns]"
            ]
          },
          "execution_count": 45,
          "metadata": {},
          "output_type": "execute_result"
        }
      ],
      "source": [
        "stock_agg = stock_df.groupby(['product_id','timestamp']).agg({'estimated_stock_pct':'mean'})\n",
        "stock_agg"
      ]
    },
    {
      "cell_type": "code",
      "execution_count": 46,
      "metadata": {},
      "outputs": [],
      "source": [
        "stock_agg.reset_index(inplace=True)\n",
        "temp_agg.reset_index(inplace=True)\n",
        "sales_agg.reset_index(inplace=True)\n"
      ]
    },
    {
      "cell_type": "code",
      "execution_count": 47,
      "metadata": {},
      "outputs": [
        {
          "data": {
            "text/html": [
              "<div>\n",
              "<style scoped>\n",
              "    .dataframe tbody tr th:only-of-type {\n",
              "        vertical-align: middle;\n",
              "    }\n",
              "\n",
              "    .dataframe tbody tr th {\n",
              "        vertical-align: top;\n",
              "    }\n",
              "\n",
              "    .dataframe thead th {\n",
              "        text-align: right;\n",
              "    }\n",
              "</style>\n",
              "<table border=\"1\" class=\"dataframe\">\n",
              "  <thead>\n",
              "    <tr style=\"text-align: right;\">\n",
              "      <th></th>\n",
              "      <th>product_id</th>\n",
              "      <th>timestamp</th>\n",
              "      <th>quantity</th>\n",
              "      <th>estimated_stock_pct</th>\n",
              "    </tr>\n",
              "  </thead>\n",
              "  <tbody>\n",
              "    <tr>\n",
              "      <th>0</th>\n",
              "      <td>00e120bb-89d6-4df5-bc48-a051148e3d03</td>\n",
              "      <td>2022-03-01 09:00:00</td>\n",
              "      <td>3</td>\n",
              "      <td>0.89</td>\n",
              "    </tr>\n",
              "    <tr>\n",
              "      <th>1</th>\n",
              "      <td>00e120bb-89d6-4df5-bc48-a051148e3d03</td>\n",
              "      <td>2022-03-01 17:00:00</td>\n",
              "      <td>1</td>\n",
              "      <td>0.57</td>\n",
              "    </tr>\n",
              "    <tr>\n",
              "      <th>2</th>\n",
              "      <td>00e120bb-89d6-4df5-bc48-a051148e3d03</td>\n",
              "      <td>2022-03-02 09:00:00</td>\n",
              "      <td>4</td>\n",
              "      <td>0.40</td>\n",
              "    </tr>\n",
              "    <tr>\n",
              "      <th>3</th>\n",
              "      <td>00e120bb-89d6-4df5-bc48-a051148e3d03</td>\n",
              "      <td>2022-03-02 10:00:00</td>\n",
              "      <td>1</td>\n",
              "      <td>0.69</td>\n",
              "    </tr>\n",
              "    <tr>\n",
              "      <th>4</th>\n",
              "      <td>00e120bb-89d6-4df5-bc48-a051148e3d03</td>\n",
              "      <td>2022-03-02 11:00:00</td>\n",
              "      <td>3</td>\n",
              "      <td>NaN</td>\n",
              "    </tr>\n",
              "    <tr>\n",
              "      <th>...</th>\n",
              "      <td>...</td>\n",
              "      <td>...</td>\n",
              "      <td>...</td>\n",
              "      <td>...</td>\n",
              "    </tr>\n",
              "    <tr>\n",
              "      <th>6212</th>\n",
              "      <td>fd77b5cb-498c-40ca-95d1-0f87f13dd0d8</td>\n",
              "      <td>2022-03-06 13:00:00</td>\n",
              "      <td>1</td>\n",
              "      <td>NaN</td>\n",
              "    </tr>\n",
              "    <tr>\n",
              "      <th>6213</th>\n",
              "      <td>fd77b5cb-498c-40ca-95d1-0f87f13dd0d8</td>\n",
              "      <td>2022-03-06 14:00:00</td>\n",
              "      <td>4</td>\n",
              "      <td>0.68</td>\n",
              "    </tr>\n",
              "    <tr>\n",
              "      <th>6214</th>\n",
              "      <td>fd77b5cb-498c-40ca-95d1-0f87f13dd0d8</td>\n",
              "      <td>2022-03-06 19:00:00</td>\n",
              "      <td>2</td>\n",
              "      <td>NaN</td>\n",
              "    </tr>\n",
              "    <tr>\n",
              "      <th>6215</th>\n",
              "      <td>fd77b5cb-498c-40ca-95d1-0f87f13dd0d8</td>\n",
              "      <td>2022-03-07 10:00:00</td>\n",
              "      <td>2</td>\n",
              "      <td>0.16</td>\n",
              "    </tr>\n",
              "    <tr>\n",
              "      <th>6216</th>\n",
              "      <td>fd77b5cb-498c-40ca-95d1-0f87f13dd0d8</td>\n",
              "      <td>2022-03-07 19:00:00</td>\n",
              "      <td>1</td>\n",
              "      <td>NaN</td>\n",
              "    </tr>\n",
              "  </tbody>\n",
              "</table>\n",
              "<p>6217 rows × 4 columns</p>\n",
              "</div>"
            ],
            "text/plain": [
              "                                product_id            timestamp  quantity  \\\n",
              "0     00e120bb-89d6-4df5-bc48-a051148e3d03  2022-03-01 09:00:00         3   \n",
              "1     00e120bb-89d6-4df5-bc48-a051148e3d03  2022-03-01 17:00:00         1   \n",
              "2     00e120bb-89d6-4df5-bc48-a051148e3d03  2022-03-02 09:00:00         4   \n",
              "3     00e120bb-89d6-4df5-bc48-a051148e3d03  2022-03-02 10:00:00         1   \n",
              "4     00e120bb-89d6-4df5-bc48-a051148e3d03  2022-03-02 11:00:00         3   \n",
              "...                                    ...                  ...       ...   \n",
              "6212  fd77b5cb-498c-40ca-95d1-0f87f13dd0d8  2022-03-06 13:00:00         1   \n",
              "6213  fd77b5cb-498c-40ca-95d1-0f87f13dd0d8  2022-03-06 14:00:00         4   \n",
              "6214  fd77b5cb-498c-40ca-95d1-0f87f13dd0d8  2022-03-06 19:00:00         2   \n",
              "6215  fd77b5cb-498c-40ca-95d1-0f87f13dd0d8  2022-03-07 10:00:00         2   \n",
              "6216  fd77b5cb-498c-40ca-95d1-0f87f13dd0d8  2022-03-07 19:00:00         1   \n",
              "\n",
              "      estimated_stock_pct  \n",
              "0                    0.89  \n",
              "1                    0.57  \n",
              "2                    0.40  \n",
              "3                    0.69  \n",
              "4                     NaN  \n",
              "...                   ...  \n",
              "6212                  NaN  \n",
              "6213                 0.68  \n",
              "6214                  NaN  \n",
              "6215                 0.16  \n",
              "6216                  NaN  \n",
              "\n",
              "[6217 rows x 4 columns]"
            ]
          },
          "execution_count": 47,
          "metadata": {},
          "output_type": "execute_result"
        }
      ],
      "source": [
        "merged_df = sales_agg.merge(stock_agg, on=['product_id','timestamp'],how='left')\n",
        "merged_df"
      ]
    },
    {
      "cell_type": "code",
      "execution_count": 48,
      "metadata": {},
      "outputs": [
        {
          "data": {
            "text/html": [
              "<div>\n",
              "<style scoped>\n",
              "    .dataframe tbody tr th:only-of-type {\n",
              "        vertical-align: middle;\n",
              "    }\n",
              "\n",
              "    .dataframe tbody tr th {\n",
              "        vertical-align: top;\n",
              "    }\n",
              "\n",
              "    .dataframe thead th {\n",
              "        text-align: right;\n",
              "    }\n",
              "</style>\n",
              "<table border=\"1\" class=\"dataframe\">\n",
              "  <thead>\n",
              "    <tr style=\"text-align: right;\">\n",
              "      <th></th>\n",
              "      <th>product_id</th>\n",
              "      <th>timestamp</th>\n",
              "      <th>quantity</th>\n",
              "      <th>estimated_stock_pct</th>\n",
              "      <th>temperature</th>\n",
              "    </tr>\n",
              "  </thead>\n",
              "  <tbody>\n",
              "    <tr>\n",
              "      <th>0</th>\n",
              "      <td>00e120bb-89d6-4df5-bc48-a051148e3d03</td>\n",
              "      <td>2022-03-01 09:00:00</td>\n",
              "      <td>3</td>\n",
              "      <td>0.89</td>\n",
              "      <td>-0.028850</td>\n",
              "    </tr>\n",
              "    <tr>\n",
              "      <th>1</th>\n",
              "      <td>00e120bb-89d6-4df5-bc48-a051148e3d03</td>\n",
              "      <td>2022-03-01 17:00:00</td>\n",
              "      <td>1</td>\n",
              "      <td>0.57</td>\n",
              "      <td>-0.376415</td>\n",
              "    </tr>\n",
              "    <tr>\n",
              "      <th>2</th>\n",
              "      <td>00e120bb-89d6-4df5-bc48-a051148e3d03</td>\n",
              "      <td>2022-03-02 09:00:00</td>\n",
              "      <td>4</td>\n",
              "      <td>0.40</td>\n",
              "      <td>-0.672900</td>\n",
              "    </tr>\n",
              "    <tr>\n",
              "      <th>3</th>\n",
              "      <td>00e120bb-89d6-4df5-bc48-a051148e3d03</td>\n",
              "      <td>2022-03-02 10:00:00</td>\n",
              "      <td>1</td>\n",
              "      <td>0.69</td>\n",
              "      <td>-0.856840</td>\n",
              "    </tr>\n",
              "    <tr>\n",
              "      <th>4</th>\n",
              "      <td>00e120bb-89d6-4df5-bc48-a051148e3d03</td>\n",
              "      <td>2022-03-02 11:00:00</td>\n",
              "      <td>3</td>\n",
              "      <td>NaN</td>\n",
              "      <td>-0.268298</td>\n",
              "    </tr>\n",
              "    <tr>\n",
              "      <th>...</th>\n",
              "      <td>...</td>\n",
              "      <td>...</td>\n",
              "      <td>...</td>\n",
              "      <td>...</td>\n",
              "      <td>...</td>\n",
              "    </tr>\n",
              "    <tr>\n",
              "      <th>6212</th>\n",
              "      <td>fd77b5cb-498c-40ca-95d1-0f87f13dd0d8</td>\n",
              "      <td>2022-03-06 13:00:00</td>\n",
              "      <td>1</td>\n",
              "      <td>NaN</td>\n",
              "      <td>-0.428084</td>\n",
              "    </tr>\n",
              "    <tr>\n",
              "      <th>6213</th>\n",
              "      <td>fd77b5cb-498c-40ca-95d1-0f87f13dd0d8</td>\n",
              "      <td>2022-03-06 14:00:00</td>\n",
              "      <td>4</td>\n",
              "      <td>0.68</td>\n",
              "      <td>-0.294007</td>\n",
              "    </tr>\n",
              "    <tr>\n",
              "      <th>6214</th>\n",
              "      <td>fd77b5cb-498c-40ca-95d1-0f87f13dd0d8</td>\n",
              "      <td>2022-03-06 19:00:00</td>\n",
              "      <td>2</td>\n",
              "      <td>NaN</td>\n",
              "      <td>-0.072701</td>\n",
              "    </tr>\n",
              "    <tr>\n",
              "      <th>6215</th>\n",
              "      <td>fd77b5cb-498c-40ca-95d1-0f87f13dd0d8</td>\n",
              "      <td>2022-03-07 10:00:00</td>\n",
              "      <td>2</td>\n",
              "      <td>0.16</td>\n",
              "      <td>-0.379524</td>\n",
              "    </tr>\n",
              "    <tr>\n",
              "      <th>6216</th>\n",
              "      <td>fd77b5cb-498c-40ca-95d1-0f87f13dd0d8</td>\n",
              "      <td>2022-03-07 19:00:00</td>\n",
              "      <td>1</td>\n",
              "      <td>NaN</td>\n",
              "      <td>-0.165077</td>\n",
              "    </tr>\n",
              "  </tbody>\n",
              "</table>\n",
              "<p>6217 rows × 5 columns</p>\n",
              "</div>"
            ],
            "text/plain": [
              "                                product_id            timestamp  quantity  \\\n",
              "0     00e120bb-89d6-4df5-bc48-a051148e3d03  2022-03-01 09:00:00         3   \n",
              "1     00e120bb-89d6-4df5-bc48-a051148e3d03  2022-03-01 17:00:00         1   \n",
              "2     00e120bb-89d6-4df5-bc48-a051148e3d03  2022-03-02 09:00:00         4   \n",
              "3     00e120bb-89d6-4df5-bc48-a051148e3d03  2022-03-02 10:00:00         1   \n",
              "4     00e120bb-89d6-4df5-bc48-a051148e3d03  2022-03-02 11:00:00         3   \n",
              "...                                    ...                  ...       ...   \n",
              "6212  fd77b5cb-498c-40ca-95d1-0f87f13dd0d8  2022-03-06 13:00:00         1   \n",
              "6213  fd77b5cb-498c-40ca-95d1-0f87f13dd0d8  2022-03-06 14:00:00         4   \n",
              "6214  fd77b5cb-498c-40ca-95d1-0f87f13dd0d8  2022-03-06 19:00:00         2   \n",
              "6215  fd77b5cb-498c-40ca-95d1-0f87f13dd0d8  2022-03-07 10:00:00         2   \n",
              "6216  fd77b5cb-498c-40ca-95d1-0f87f13dd0d8  2022-03-07 19:00:00         1   \n",
              "\n",
              "      estimated_stock_pct  temperature  \n",
              "0                    0.89    -0.028850  \n",
              "1                    0.57    -0.376415  \n",
              "2                    0.40    -0.672900  \n",
              "3                    0.69    -0.856840  \n",
              "4                     NaN    -0.268298  \n",
              "...                   ...          ...  \n",
              "6212                  NaN    -0.428084  \n",
              "6213                 0.68    -0.294007  \n",
              "6214                  NaN    -0.072701  \n",
              "6215                 0.16    -0.379524  \n",
              "6216                  NaN    -0.165077  \n",
              "\n",
              "[6217 rows x 5 columns]"
            ]
          },
          "execution_count": 48,
          "metadata": {},
          "output_type": "execute_result"
        }
      ],
      "source": [
        "merged_df = merged_df.merge(temp_agg,on='timestamp',how='left')\n",
        "merged_df"
      ]
    },
    {
      "cell_type": "code",
      "execution_count": 49,
      "metadata": {},
      "outputs": [
        {
          "data": {
            "text/plain": [
              "<AxesSubplot:>"
            ]
          },
          "execution_count": 49,
          "metadata": {},
          "output_type": "execute_result"
        },
        {
          "data": {
            "image/png": "[encoded data removed]",
            "text/plain": [
              "<Figure size 432x288 with 1 Axes>"
            ]
          },
          "metadata": {
            "needs_background": "light"
          },
          "output_type": "display_data"
        }
      ],
      "source": [
        "merged_df.isnull().sum().plot(kind='bar')"
      ]
    },
    {
      "cell_type": "code",
      "execution_count": 50,
      "metadata": {},
      "outputs": [],
      "source": [
        "def plot_continuous_distribution(data: pd.DataFrame = None, column: str = None, height: int = 8):\n",
        "  _ = sns.displot(data, x=column, kde=True, height=height, aspect=height/5).set(title=f'Distribution of {column}');"
      ]
    },
    {
      "cell_type": "code",
      "execution_count": 51,
      "metadata": {},
      "outputs": [
        {
          "data": {
            "text/html": [
              "<div>\n",
              "<style scoped>\n",
              "    .dataframe tbody tr th:only-of-type {\n",
              "        vertical-align: middle;\n",
              "    }\n",
              "\n",
              "    .dataframe tbody tr th {\n",
              "        vertical-align: top;\n",
              "    }\n",
              "\n",
              "    .dataframe thead th {\n",
              "        text-align: right;\n",
              "    }\n",
              "</style>\n",
              "<table border=\"1\" class=\"dataframe\">\n",
              "  <thead>\n",
              "    <tr style=\"text-align: right;\">\n",
              "      <th></th>\n",
              "      <th>quantity</th>\n",
              "      <th>estimated_stock_pct</th>\n",
              "      <th>temperature</th>\n",
              "    </tr>\n",
              "  </thead>\n",
              "  <tbody>\n",
              "    <tr>\n",
              "      <th>count</th>\n",
              "      <td>6217.000000</td>\n",
              "      <td>3067.000000</td>\n",
              "      <td>6217.000000</td>\n",
              "    </tr>\n",
              "    <tr>\n",
              "      <th>mean</th>\n",
              "      <td>3.150233</td>\n",
              "      <td>0.513799</td>\n",
              "      <td>-0.225974</td>\n",
              "    </tr>\n",
              "    <tr>\n",
              "      <th>std</th>\n",
              "      <td>1.911898</td>\n",
              "      <td>0.263062</td>\n",
              "      <td>0.653717</td>\n",
              "    </tr>\n",
              "    <tr>\n",
              "      <th>min</th>\n",
              "      <td>1.000000</td>\n",
              "      <td>0.010000</td>\n",
              "      <td>-1.847270</td>\n",
              "    </tr>\n",
              "    <tr>\n",
              "      <th>25%</th>\n",
              "      <td>2.000000</td>\n",
              "      <td>0.300000</td>\n",
              "      <td>-0.672900</td>\n",
              "    </tr>\n",
              "    <tr>\n",
              "      <th>50%</th>\n",
              "      <td>3.000000</td>\n",
              "      <td>0.515000</td>\n",
              "      <td>-0.234215</td>\n",
              "    </tr>\n",
              "    <tr>\n",
              "      <th>75%</th>\n",
              "      <td>4.000000</td>\n",
              "      <td>0.720000</td>\n",
              "      <td>0.160429</td>\n",
              "    </tr>\n",
              "    <tr>\n",
              "      <th>max</th>\n",
              "      <td>16.000000</td>\n",
              "      <td>1.000000</td>\n",
              "      <td>1.435938</td>\n",
              "    </tr>\n",
              "  </tbody>\n",
              "</table>\n",
              "</div>"
            ],
            "text/plain": [
              "          quantity  estimated_stock_pct  temperature\n",
              "count  6217.000000          3067.000000  6217.000000\n",
              "mean      3.150233             0.513799    -0.225974\n",
              "std       1.911898             0.263062     0.653717\n",
              "min       1.000000             0.010000    -1.847270\n",
              "25%       2.000000             0.300000    -0.672900\n",
              "50%       3.000000             0.515000    -0.234215\n",
              "75%       4.000000             0.720000     0.160429\n",
              "max      16.000000             1.000000     1.435938"
            ]
          },
          "execution_count": 51,
          "metadata": {},
          "output_type": "execute_result"
        }
      ],
      "source": [
        "merged_df.describe()"
      ]
    },
    {
      "cell_type": "code",
      "execution_count": 52,
      "metadata": {},
      "outputs": [
        {
          "data": {
            "image/png": "[encoded data removed]",
            "text/plain": [
              "<Figure size 921.6x576 with 1 Axes>"
            ]
          },
          "metadata": {
            "needs_background": "light"
          },
          "output_type": "display_data"
        }
      ],
      "source": [
        "plot_continuous_distribution(merged_df,merged_df['estimated_stock_pct'])\n",
        "plt.show()"
      ]
    },
    {
      "cell_type": "markdown",
      "metadata": {},
      "source": []
    },
    {
      "cell_type": "code",
      "execution_count": 53,
      "metadata": {},
      "outputs": [
        {
          "data": {
            "text/html": [
              "<style type=\"text/css\">\n",
              "#T_a8e14_row0_col0, #T_a8e14_row1_col1, #T_a8e14_row2_col2 {\n",
              "  background-color: #b40426;\n",
              "  color: #f1f1f1;\n",
              "}\n",
              "#T_a8e14_row0_col1, #T_a8e14_row1_col0, #T_a8e14_row1_col2, #T_a8e14_row2_col1 {\n",
              "  background-color: #3b4cc0;\n",
              "  color: #f1f1f1;\n",
              "}\n",
              "#T_a8e14_row0_col2, #T_a8e14_row2_col0 {\n",
              "  background-color: #3e51c5;\n",
              "  color: #f1f1f1;\n",
              "}\n",
              "</style>\n",
              "<table id=\"T_a8e14\">\n",
              "  <thead>\n",
              "    <tr>\n",
              "      <th class=\"blank level0\" >&nbsp;</th>\n",
              "      <th id=\"T_a8e14_level0_col0\" class=\"col_heading level0 col0\" >quantity</th>\n",
              "      <th id=\"T_a8e14_level0_col1\" class=\"col_heading level0 col1\" >estimated_stock_pct</th>\n",
              "      <th id=\"T_a8e14_level0_col2\" class=\"col_heading level0 col2\" >temperature</th>\n",
              "    </tr>\n",
              "  </thead>\n",
              "  <tbody>\n",
              "    <tr>\n",
              "      <th id=\"T_a8e14_level0_row0\" class=\"row_heading level0 row0\" >quantity</th>\n",
              "      <td id=\"T_a8e14_row0_col0\" class=\"data row0 col0\" >1.000000</td>\n",
              "      <td id=\"T_a8e14_row0_col1\" class=\"data row0 col1\" >-0.012005</td>\n",
              "      <td id=\"T_a8e14_row0_col2\" class=\"data row0 col2\" >0.003014</td>\n",
              "    </tr>\n",
              "    <tr>\n",
              "      <th id=\"T_a8e14_level0_row1\" class=\"row_heading level0 row1\" >estimated_stock_pct</th>\n",
              "      <td id=\"T_a8e14_row1_col0\" class=\"data row1 col0\" >-0.012005</td>\n",
              "      <td id=\"T_a8e14_row1_col1\" class=\"data row1 col1\" >1.000000</td>\n",
              "      <td id=\"T_a8e14_row1_col2\" class=\"data row1 col2\" >-0.009535</td>\n",
              "    </tr>\n",
              "    <tr>\n",
              "      <th id=\"T_a8e14_level0_row2\" class=\"row_heading level0 row2\" >temperature</th>\n",
              "      <td id=\"T_a8e14_row2_col0\" class=\"data row2 col0\" >0.003014</td>\n",
              "      <td id=\"T_a8e14_row2_col1\" class=\"data row2 col1\" >-0.009535</td>\n",
              "      <td id=\"T_a8e14_row2_col2\" class=\"data row2 col2\" >1.000000</td>\n",
              "    </tr>\n",
              "  </tbody>\n",
              "</table>\n"
            ],
            "text/plain": [
              "<pandas.io.formats.style.Styler at 0x7f85412a6760>"
            ]
          },
          "execution_count": 53,
          "metadata": {},
          "output_type": "execute_result"
        }
      ],
      "source": [
        "#to check the correlation amongst continuous variables\n",
        "merged_df.corr().style.background_gradient(cmap='coolwarm')"
      ]
    },
    {
      "cell_type": "code",
      "execution_count": 54,
      "metadata": {},
      "outputs": [
        {
          "data": {
            "text/html": [
              "<div>\n",
              "<style scoped>\n",
              "    .dataframe tbody tr th:only-of-type {\n",
              "        vertical-align: middle;\n",
              "    }\n",
              "\n",
              "    .dataframe tbody tr th {\n",
              "        vertical-align: top;\n",
              "    }\n",
              "\n",
              "    .dataframe thead th {\n",
              "        text-align: right;\n",
              "    }\n",
              "</style>\n",
              "<table border=\"1\" class=\"dataframe\">\n",
              "  <thead>\n",
              "    <tr style=\"text-align: right;\">\n",
              "      <th></th>\n",
              "      <th>product_id</th>\n",
              "      <th>unit_price</th>\n",
              "    </tr>\n",
              "  </thead>\n",
              "  <tbody>\n",
              "    <tr>\n",
              "      <th>0</th>\n",
              "      <td>3bc6c1ea-0198-46de-9ffd-514ae3338713</td>\n",
              "      <td>3.99</td>\n",
              "    </tr>\n",
              "    <tr>\n",
              "      <th>1</th>\n",
              "      <td>ad81b46c-bf38-41cf-9b54-5fe7f5eba93e</td>\n",
              "      <td>3.99</td>\n",
              "    </tr>\n",
              "    <tr>\n",
              "      <th>2</th>\n",
              "      <td>7c55cbd4-f306-4c04-a030-628cbe7867c1</td>\n",
              "      <td>0.19</td>\n",
              "    </tr>\n",
              "    <tr>\n",
              "      <th>3</th>\n",
              "      <td>80da8348-1707-403f-8be7-9e6deeccc883</td>\n",
              "      <td>0.19</td>\n",
              "    </tr>\n",
              "    <tr>\n",
              "      <th>4</th>\n",
              "      <td>7f5e86e6-f06f-45f6-bf44-27b095c9ad1d</td>\n",
              "      <td>4.49</td>\n",
              "    </tr>\n",
              "    <tr>\n",
              "      <th>...</th>\n",
              "      <td>...</td>\n",
              "      <td>...</td>\n",
              "    </tr>\n",
              "    <tr>\n",
              "      <th>7569</th>\n",
              "      <td>d6ccd088-11be-4c25-aa1f-ea87c01a04db</td>\n",
              "      <td>14.99</td>\n",
              "    </tr>\n",
              "    <tr>\n",
              "      <th>7570</th>\n",
              "      <td>20a9bd7b-daff-4b8b-bdc1-2e8f9a0277fa</td>\n",
              "      <td>13.49</td>\n",
              "    </tr>\n",
              "    <tr>\n",
              "      <th>7572</th>\n",
              "      <td>a9325c1a-2715-41df-b7f4-3078fa5ecd97</td>\n",
              "      <td>14.19</td>\n",
              "    </tr>\n",
              "    <tr>\n",
              "      <th>7576</th>\n",
              "      <td>0e4c10f4-77bc-4c67-86b2-b4da5ded19bf</td>\n",
              "      <td>16.99</td>\n",
              "    </tr>\n",
              "    <tr>\n",
              "      <th>7579</th>\n",
              "      <td>bc6187a9-d508-482b-9ca6-590d1cc7524f</td>\n",
              "      <td>14.19</td>\n",
              "    </tr>\n",
              "  </tbody>\n",
              "</table>\n",
              "<p>300 rows × 2 columns</p>\n",
              "</div>"
            ],
            "text/plain": [
              "                                product_id  unit_price\n",
              "0     3bc6c1ea-0198-46de-9ffd-514ae3338713        3.99\n",
              "1     ad81b46c-bf38-41cf-9b54-5fe7f5eba93e        3.99\n",
              "2     7c55cbd4-f306-4c04-a030-628cbe7867c1        0.19\n",
              "3     80da8348-1707-403f-8be7-9e6deeccc883        0.19\n",
              "4     7f5e86e6-f06f-45f6-bf44-27b095c9ad1d        4.49\n",
              "...                                    ...         ...\n",
              "7569  d6ccd088-11be-4c25-aa1f-ea87c01a04db       14.99\n",
              "7570  20a9bd7b-daff-4b8b-bdc1-2e8f9a0277fa       13.49\n",
              "7572  a9325c1a-2715-41df-b7f4-3078fa5ecd97       14.19\n",
              "7576  0e4c10f4-77bc-4c67-86b2-b4da5ded19bf       16.99\n",
              "7579  bc6187a9-d508-482b-9ca6-590d1cc7524f       14.19\n",
              "\n",
              "[300 rows x 2 columns]"
            ]
          },
          "execution_count": 54,
          "metadata": {},
          "output_type": "execute_result"
        }
      ],
      "source": [
        "#additional continuous features that drove sales \n",
        "additional_features = sales_df_copy[['product_id','unit_price']]\n",
        "additional_features = additional_features.drop_duplicates()\n",
        "additional_features"
      ]
    },
    {
      "cell_type": "code",
      "execution_count": 55,
      "metadata": {},
      "outputs": [
        {
          "data": {
            "text/html": [
              "<div>\n",
              "<style scoped>\n",
              "    .dataframe tbody tr th:only-of-type {\n",
              "        vertical-align: middle;\n",
              "    }\n",
              "\n",
              "    .dataframe tbody tr th {\n",
              "        vertical-align: top;\n",
              "    }\n",
              "\n",
              "    .dataframe thead th {\n",
              "        text-align: right;\n",
              "    }\n",
              "</style>\n",
              "<table border=\"1\" class=\"dataframe\">\n",
              "  <thead>\n",
              "    <tr style=\"text-align: right;\">\n",
              "      <th></th>\n",
              "      <th>product_id</th>\n",
              "      <th>category</th>\n",
              "    </tr>\n",
              "  </thead>\n",
              "  <tbody>\n",
              "    <tr>\n",
              "      <th>0</th>\n",
              "      <td>3bc6c1ea-0198-46de-9ffd-514ae3338713</td>\n",
              "      <td>fruit</td>\n",
              "    </tr>\n",
              "    <tr>\n",
              "      <th>1</th>\n",
              "      <td>ad81b46c-bf38-41cf-9b54-5fe7f5eba93e</td>\n",
              "      <td>fruit</td>\n",
              "    </tr>\n",
              "    <tr>\n",
              "      <th>2</th>\n",
              "      <td>7c55cbd4-f306-4c04-a030-628cbe7867c1</td>\n",
              "      <td>fruit</td>\n",
              "    </tr>\n",
              "    <tr>\n",
              "      <th>3</th>\n",
              "      <td>80da8348-1707-403f-8be7-9e6deeccc883</td>\n",
              "      <td>fruit</td>\n",
              "    </tr>\n",
              "    <tr>\n",
              "      <th>4</th>\n",
              "      <td>7f5e86e6-f06f-45f6-bf44-27b095c9ad1d</td>\n",
              "      <td>fruit</td>\n",
              "    </tr>\n",
              "    <tr>\n",
              "      <th>...</th>\n",
              "      <td>...</td>\n",
              "      <td>...</td>\n",
              "    </tr>\n",
              "    <tr>\n",
              "      <th>7569</th>\n",
              "      <td>d6ccd088-11be-4c25-aa1f-ea87c01a04db</td>\n",
              "      <td>cleaning products</td>\n",
              "    </tr>\n",
              "    <tr>\n",
              "      <th>7570</th>\n",
              "      <td>20a9bd7b-daff-4b8b-bdc1-2e8f9a0277fa</td>\n",
              "      <td>cleaning products</td>\n",
              "    </tr>\n",
              "    <tr>\n",
              "      <th>7572</th>\n",
              "      <td>a9325c1a-2715-41df-b7f4-3078fa5ecd97</td>\n",
              "      <td>cleaning products</td>\n",
              "    </tr>\n",
              "    <tr>\n",
              "      <th>7576</th>\n",
              "      <td>0e4c10f4-77bc-4c67-86b2-b4da5ded19bf</td>\n",
              "      <td>cleaning products</td>\n",
              "    </tr>\n",
              "    <tr>\n",
              "      <th>7579</th>\n",
              "      <td>bc6187a9-d508-482b-9ca6-590d1cc7524f</td>\n",
              "      <td>cleaning products</td>\n",
              "    </tr>\n",
              "  </tbody>\n",
              "</table>\n",
              "<p>300 rows × 2 columns</p>\n",
              "</div>"
            ],
            "text/plain": [
              "                                product_id           category\n",
              "0     3bc6c1ea-0198-46de-9ffd-514ae3338713              fruit\n",
              "1     ad81b46c-bf38-41cf-9b54-5fe7f5eba93e              fruit\n",
              "2     7c55cbd4-f306-4c04-a030-628cbe7867c1              fruit\n",
              "3     80da8348-1707-403f-8be7-9e6deeccc883              fruit\n",
              "4     7f5e86e6-f06f-45f6-bf44-27b095c9ad1d              fruit\n",
              "...                                    ...                ...\n",
              "7569  d6ccd088-11be-4c25-aa1f-ea87c01a04db  cleaning products\n",
              "7570  20a9bd7b-daff-4b8b-bdc1-2e8f9a0277fa  cleaning products\n",
              "7572  a9325c1a-2715-41df-b7f4-3078fa5ecd97  cleaning products\n",
              "7576  0e4c10f4-77bc-4c67-86b2-b4da5ded19bf  cleaning products\n",
              "7579  bc6187a9-d508-482b-9ca6-590d1cc7524f  cleaning products\n",
              "\n",
              "[300 rows x 2 columns]"
            ]
          },
          "execution_count": 55,
          "metadata": {},
          "output_type": "execute_result"
        }
      ],
      "source": [
        "#categorical features \n",
        "additional_category = sales_df_copy[['product_id','category']]\n",
        "additional_category = additional_category.drop_duplicates()\n",
        "additional_category"
      ]
    },
    {
      "cell_type": "code",
      "execution_count": 56,
      "metadata": {},
      "outputs": [
        {
          "data": {
            "text/html": [
              "<div>\n",
              "<style scoped>\n",
              "    .dataframe tbody tr th:only-of-type {\n",
              "        vertical-align: middle;\n",
              "    }\n",
              "\n",
              "    .dataframe tbody tr th {\n",
              "        vertical-align: top;\n",
              "    }\n",
              "\n",
              "    .dataframe thead th {\n",
              "        text-align: right;\n",
              "    }\n",
              "</style>\n",
              "<table border=\"1\" class=\"dataframe\">\n",
              "  <thead>\n",
              "    <tr style=\"text-align: right;\">\n",
              "      <th></th>\n",
              "      <th>product_id</th>\n",
              "      <th>timestamp</th>\n",
              "      <th>quantity</th>\n",
              "      <th>estimated_stock_pct</th>\n",
              "      <th>temperature</th>\n",
              "      <th>category</th>\n",
              "      <th>unit_price</th>\n",
              "    </tr>\n",
              "  </thead>\n",
              "  <tbody>\n",
              "    <tr>\n",
              "      <th>0</th>\n",
              "      <td>00e120bb-89d6-4df5-bc48-a051148e3d03</td>\n",
              "      <td>2022-03-01 09:00:00</td>\n",
              "      <td>3</td>\n",
              "      <td>0.89</td>\n",
              "      <td>-0.028850</td>\n",
              "      <td>kitchen</td>\n",
              "      <td>11.19</td>\n",
              "    </tr>\n",
              "    <tr>\n",
              "      <th>1</th>\n",
              "      <td>00e120bb-89d6-4df5-bc48-a051148e3d03</td>\n",
              "      <td>2022-03-01 17:00:00</td>\n",
              "      <td>1</td>\n",
              "      <td>0.57</td>\n",
              "      <td>-0.376415</td>\n",
              "      <td>kitchen</td>\n",
              "      <td>11.19</td>\n",
              "    </tr>\n",
              "    <tr>\n",
              "      <th>2</th>\n",
              "      <td>00e120bb-89d6-4df5-bc48-a051148e3d03</td>\n",
              "      <td>2022-03-02 09:00:00</td>\n",
              "      <td>4</td>\n",
              "      <td>0.40</td>\n",
              "      <td>-0.672900</td>\n",
              "      <td>kitchen</td>\n",
              "      <td>11.19</td>\n",
              "    </tr>\n",
              "    <tr>\n",
              "      <th>3</th>\n",
              "      <td>00e120bb-89d6-4df5-bc48-a051148e3d03</td>\n",
              "      <td>2022-03-02 10:00:00</td>\n",
              "      <td>1</td>\n",
              "      <td>0.69</td>\n",
              "      <td>-0.856840</td>\n",
              "      <td>kitchen</td>\n",
              "      <td>11.19</td>\n",
              "    </tr>\n",
              "    <tr>\n",
              "      <th>4</th>\n",
              "      <td>00e120bb-89d6-4df5-bc48-a051148e3d03</td>\n",
              "      <td>2022-03-02 11:00:00</td>\n",
              "      <td>3</td>\n",
              "      <td>NaN</td>\n",
              "      <td>-0.268298</td>\n",
              "      <td>kitchen</td>\n",
              "      <td>11.19</td>\n",
              "    </tr>\n",
              "    <tr>\n",
              "      <th>...</th>\n",
              "      <td>...</td>\n",
              "      <td>...</td>\n",
              "      <td>...</td>\n",
              "      <td>...</td>\n",
              "      <td>...</td>\n",
              "      <td>...</td>\n",
              "      <td>...</td>\n",
              "    </tr>\n",
              "    <tr>\n",
              "      <th>6212</th>\n",
              "      <td>fd77b5cb-498c-40ca-95d1-0f87f13dd0d8</td>\n",
              "      <td>2022-03-06 13:00:00</td>\n",
              "      <td>1</td>\n",
              "      <td>NaN</td>\n",
              "      <td>-0.428084</td>\n",
              "      <td>snacks</td>\n",
              "      <td>3.19</td>\n",
              "    </tr>\n",
              "    <tr>\n",
              "      <th>6213</th>\n",
              "      <td>fd77b5cb-498c-40ca-95d1-0f87f13dd0d8</td>\n",
              "      <td>2022-03-06 14:00:00</td>\n",
              "      <td>4</td>\n",
              "      <td>0.68</td>\n",
              "      <td>-0.294007</td>\n",
              "      <td>snacks</td>\n",
              "      <td>3.19</td>\n",
              "    </tr>\n",
              "    <tr>\n",
              "      <th>6214</th>\n",
              "      <td>fd77b5cb-498c-40ca-95d1-0f87f13dd0d8</td>\n",
              "      <td>2022-03-06 19:00:00</td>\n",
              "      <td>2</td>\n",
              "      <td>NaN</td>\n",
              "      <td>-0.072701</td>\n",
              "      <td>snacks</td>\n",
              "      <td>3.19</td>\n",
              "    </tr>\n",
              "    <tr>\n",
              "      <th>6215</th>\n",
              "      <td>fd77b5cb-498c-40ca-95d1-0f87f13dd0d8</td>\n",
              "      <td>2022-03-07 10:00:00</td>\n",
              "      <td>2</td>\n",
              "      <td>0.16</td>\n",
              "      <td>-0.379524</td>\n",
              "      <td>snacks</td>\n",
              "      <td>3.19</td>\n",
              "    </tr>\n",
              "    <tr>\n",
              "      <th>6216</th>\n",
              "      <td>fd77b5cb-498c-40ca-95d1-0f87f13dd0d8</td>\n",
              "      <td>2022-03-07 19:00:00</td>\n",
              "      <td>1</td>\n",
              "      <td>NaN</td>\n",
              "      <td>-0.165077</td>\n",
              "      <td>snacks</td>\n",
              "      <td>3.19</td>\n",
              "    </tr>\n",
              "  </tbody>\n",
              "</table>\n",
              "<p>6217 rows × 7 columns</p>\n",
              "</div>"
            ],
            "text/plain": [
              "                                product_id            timestamp  quantity  \\\n",
              "0     00e120bb-89d6-4df5-bc48-a051148e3d03  2022-03-01 09:00:00         3   \n",
              "1     00e120bb-89d6-4df5-bc48-a051148e3d03  2022-03-01 17:00:00         1   \n",
              "2     00e120bb-89d6-4df5-bc48-a051148e3d03  2022-03-02 09:00:00         4   \n",
              "3     00e120bb-89d6-4df5-bc48-a051148e3d03  2022-03-02 10:00:00         1   \n",
              "4     00e120bb-89d6-4df5-bc48-a051148e3d03  2022-03-02 11:00:00         3   \n",
              "...                                    ...                  ...       ...   \n",
              "6212  fd77b5cb-498c-40ca-95d1-0f87f13dd0d8  2022-03-06 13:00:00         1   \n",
              "6213  fd77b5cb-498c-40ca-95d1-0f87f13dd0d8  2022-03-06 14:00:00         4   \n",
              "6214  fd77b5cb-498c-40ca-95d1-0f87f13dd0d8  2022-03-06 19:00:00         2   \n",
              "6215  fd77b5cb-498c-40ca-95d1-0f87f13dd0d8  2022-03-07 10:00:00         2   \n",
              "6216  fd77b5cb-498c-40ca-95d1-0f87f13dd0d8  2022-03-07 19:00:00         1   \n",
              "\n",
              "      estimated_stock_pct  temperature category  unit_price  \n",
              "0                    0.89    -0.028850  kitchen       11.19  \n",
              "1                    0.57    -0.376415  kitchen       11.19  \n",
              "2                    0.40    -0.672900  kitchen       11.19  \n",
              "3                    0.69    -0.856840  kitchen       11.19  \n",
              "4                     NaN    -0.268298  kitchen       11.19  \n",
              "...                   ...          ...      ...         ...  \n",
              "6212                  NaN    -0.428084   snacks        3.19  \n",
              "6213                 0.68    -0.294007   snacks        3.19  \n",
              "6214                  NaN    -0.072701   snacks        3.19  \n",
              "6215                 0.16    -0.379524   snacks        3.19  \n",
              "6216                  NaN    -0.165077   snacks        3.19  \n",
              "\n",
              "[6217 rows x 7 columns]"
            ]
          },
          "execution_count": 56,
          "metadata": {},
          "output_type": "execute_result"
        }
      ],
      "source": [
        "new_merge = merged_df.merge(additional_category,on='product_id',how='left')\n",
        "new_merge = new_merge.merge(additional_features, on='product_id',how='left')\n",
        "new_merge"
      ]
    },
    {
      "cell_type": "code",
      "execution_count": 57,
      "metadata": {},
      "outputs": [
        {
          "name": "stdout",
          "output_type": "stream",
          "text": [
            "<class 'pandas.core.frame.DataFrame'>\n",
            "Int64Index: 6217 entries, 0 to 6216\n",
            "Data columns (total 7 columns):\n",
            " #   Column               Non-Null Count  Dtype  \n",
            "---  ------               --------------  -----  \n",
            " 0   product_id           6217 non-null   object \n",
            " 1   timestamp            6217 non-null   object \n",
            " 2   quantity             6217 non-null   int64  \n",
            " 3   estimated_stock_pct  3067 non-null   float64\n",
            " 4   temperature          6217 non-null   float64\n",
            " 5   category             6217 non-null   object \n",
            " 6   unit_price           6217 non-null   float64\n",
            "dtypes: float64(3), int64(1), object(3)\n",
            "memory usage: 388.6+ KB\n"
          ]
        }
      ],
      "source": [
        "new_merge.info()"
      ]
    },
    {
      "cell_type": "markdown",
      "metadata": {},
      "source": []
    },
    {
      "cell_type": "code",
      "execution_count": 58,
      "metadata": {},
      "outputs": [],
      "source": [
        "new_merge.fillna('0.51',inplace=True) #the median for estimated stock percentage"
      ]
    },
    {
      "attachments": {},
      "cell_type": "markdown",
      "metadata": {},
      "source": [
        "### Feature engineering"
      ]
    },
    {
      "cell_type": "code",
      "execution_count": 59,
      "metadata": {},
      "outputs": [
        {
          "name": "stdout",
          "output_type": "stream",
          "text": [
            "<class 'pandas.core.frame.DataFrame'>\n",
            "Int64Index: 6217 entries, 0 to 6216\n",
            "Data columns (total 27 columns):\n",
            " #   Column                          Non-Null Count  Dtype  \n",
            "---  ------                          --------------  -----  \n",
            " 0   timestamp                       6217 non-null   object \n",
            " 1   quantity                        6217 non-null   int64  \n",
            " 2   estimated_stock_pct             6217 non-null   object \n",
            " 3   temperature                     6217 non-null   float64\n",
            " 4   unit_price                      6217 non-null   float64\n",
            " 5   category_baby products          6217 non-null   uint8  \n",
            " 6   category_baked goods            6217 non-null   uint8  \n",
            " 7   category_baking                 6217 non-null   uint8  \n",
            " 8   category_beverages              6217 non-null   uint8  \n",
            " 9   category_canned foods           6217 non-null   uint8  \n",
            " 10  category_cheese                 6217 non-null   uint8  \n",
            " 11  category_cleaning products      6217 non-null   uint8  \n",
            " 12  category_condiments and sauces  6217 non-null   uint8  \n",
            " 13  category_dairy                  6217 non-null   uint8  \n",
            " 14  category_frozen                 6217 non-null   uint8  \n",
            " 15  category_fruit                  6217 non-null   uint8  \n",
            " 16  category_kitchen                6217 non-null   uint8  \n",
            " 17  category_meat                   6217 non-null   uint8  \n",
            " 18  category_medicine               6217 non-null   uint8  \n",
            " 19  category_packaged foods         6217 non-null   uint8  \n",
            " 20  category_personal care          6217 non-null   uint8  \n",
            " 21  category_pets                   6217 non-null   uint8  \n",
            " 22  category_refrigerated items     6217 non-null   uint8  \n",
            " 23  category_seafood                6217 non-null   uint8  \n",
            " 24  category_snacks                 6217 non-null   uint8  \n",
            " 25  category_spices and herbs       6217 non-null   uint8  \n",
            " 26  category_vegetables             6217 non-null   uint8  \n",
            "dtypes: float64(2), int64(1), object(2), uint8(22)\n",
            "memory usage: 425.0+ KB\n"
          ]
        }
      ],
      "source": [
        "\n",
        "new_merge = pd.get_dummies(new_merge,columns=['category'])\n",
        "new_merge.drop(columns='product_id',inplace=True)\n",
        "\n",
        "new_merge.info()"
      ]
    },
    {
      "cell_type": "code",
      "execution_count": 60,
      "metadata": {},
      "outputs": [
        {
          "name": "stdout",
          "output_type": "stream",
          "text": [
            "0         NaN\n",
            "1         NaN\n",
            "2    0.620000\n",
            "3    0.553333\n",
            "4    0.533333\n",
            "5    0.570000\n",
            "6    0.603333\n",
            "7    0.528333\n",
            "8    0.528333\n",
            "9    0.435000\n",
            "Name: estimated_stock_pct, dtype: float64\n"
          ]
        },
        {
          "data": {
            "image/png": "[encoded data removed]",
            "text/plain": [
              "<Figure size 1080x288 with 1 Axes>"
            ]
          },
          "metadata": {
            "needs_background": "light"
          },
          "output_type": "display_data"
        }
      ],
      "source": [
        "rolling = new_merge['estimated_stock_pct'].rolling(window=3) # using a window of 3 samples: t, t-1, t-2\n",
        "rolling_mean = rolling.mean()\n",
        "print(rolling_mean.head(10))\n",
        "\n",
        "# plot original and transformed dataset\n",
        "rolling_mean.plot(color='red', figsize=(15,4),title='smoothed timeseries- Stock Level Percentage Over Time')\n",
        "plt.show()"
      ]
    },
    {
      "cell_type": "code",
      "execution_count": 61,
      "metadata": {},
      "outputs": [
        {
          "data": {
            "text/html": [
              "<div>\n",
              "<style scoped>\n",
              "    .dataframe tbody tr th:only-of-type {\n",
              "        vertical-align: middle;\n",
              "    }\n",
              "\n",
              "    .dataframe tbody tr th {\n",
              "        vertical-align: top;\n",
              "    }\n",
              "\n",
              "    .dataframe thead th {\n",
              "        text-align: right;\n",
              "    }\n",
              "</style>\n",
              "<table border=\"1\" class=\"dataframe\">\n",
              "  <thead>\n",
              "    <tr style=\"text-align: right;\">\n",
              "      <th></th>\n",
              "      <th>timestamp</th>\n",
              "      <th>quantity</th>\n",
              "      <th>estimated_stock_pct</th>\n",
              "      <th>temperature</th>\n",
              "      <th>unit_price</th>\n",
              "      <th>category_baby products</th>\n",
              "      <th>category_baked goods</th>\n",
              "      <th>category_baking</th>\n",
              "      <th>category_beverages</th>\n",
              "      <th>category_canned foods</th>\n",
              "      <th>...</th>\n",
              "      <th>category_meat</th>\n",
              "      <th>category_medicine</th>\n",
              "      <th>category_packaged foods</th>\n",
              "      <th>category_personal care</th>\n",
              "      <th>category_pets</th>\n",
              "      <th>category_refrigerated items</th>\n",
              "      <th>category_seafood</th>\n",
              "      <th>category_snacks</th>\n",
              "      <th>category_spices and herbs</th>\n",
              "      <th>category_vegetables</th>\n",
              "    </tr>\n",
              "  </thead>\n",
              "  <tbody>\n",
              "    <tr>\n",
              "      <th>0</th>\n",
              "      <td>2022-03-01 09:00:00</td>\n",
              "      <td>3</td>\n",
              "      <td>0.89</td>\n",
              "      <td>-0.028850</td>\n",
              "      <td>11.19</td>\n",
              "      <td>0</td>\n",
              "      <td>0</td>\n",
              "      <td>0</td>\n",
              "      <td>0</td>\n",
              "      <td>0</td>\n",
              "      <td>...</td>\n",
              "      <td>0</td>\n",
              "      <td>0</td>\n",
              "      <td>0</td>\n",
              "      <td>0</td>\n",
              "      <td>0</td>\n",
              "      <td>0</td>\n",
              "      <td>0</td>\n",
              "      <td>0</td>\n",
              "      <td>0</td>\n",
              "      <td>0</td>\n",
              "    </tr>\n",
              "    <tr>\n",
              "      <th>1</th>\n",
              "      <td>2022-03-01 17:00:00</td>\n",
              "      <td>1</td>\n",
              "      <td>0.57</td>\n",
              "      <td>-0.376415</td>\n",
              "      <td>11.19</td>\n",
              "      <td>0</td>\n",
              "      <td>0</td>\n",
              "      <td>0</td>\n",
              "      <td>0</td>\n",
              "      <td>0</td>\n",
              "      <td>...</td>\n",
              "      <td>0</td>\n",
              "      <td>0</td>\n",
              "      <td>0</td>\n",
              "      <td>0</td>\n",
              "      <td>0</td>\n",
              "      <td>0</td>\n",
              "      <td>0</td>\n",
              "      <td>0</td>\n",
              "      <td>0</td>\n",
              "      <td>0</td>\n",
              "    </tr>\n",
              "    <tr>\n",
              "      <th>2</th>\n",
              "      <td>2022-03-02 09:00:00</td>\n",
              "      <td>4</td>\n",
              "      <td>0.4</td>\n",
              "      <td>-0.672900</td>\n",
              "      <td>11.19</td>\n",
              "      <td>0</td>\n",
              "      <td>0</td>\n",
              "      <td>0</td>\n",
              "      <td>0</td>\n",
              "      <td>0</td>\n",
              "      <td>...</td>\n",
              "      <td>0</td>\n",
              "      <td>0</td>\n",
              "      <td>0</td>\n",
              "      <td>0</td>\n",
              "      <td>0</td>\n",
              "      <td>0</td>\n",
              "      <td>0</td>\n",
              "      <td>0</td>\n",
              "      <td>0</td>\n",
              "      <td>0</td>\n",
              "    </tr>\n",
              "    <tr>\n",
              "      <th>3</th>\n",
              "      <td>2022-03-02 10:00:00</td>\n",
              "      <td>1</td>\n",
              "      <td>0.69</td>\n",
              "      <td>-0.856840</td>\n",
              "      <td>11.19</td>\n",
              "      <td>0</td>\n",
              "      <td>0</td>\n",
              "      <td>0</td>\n",
              "      <td>0</td>\n",
              "      <td>0</td>\n",
              "      <td>...</td>\n",
              "      <td>0</td>\n",
              "      <td>0</td>\n",
              "      <td>0</td>\n",
              "      <td>0</td>\n",
              "      <td>0</td>\n",
              "      <td>0</td>\n",
              "      <td>0</td>\n",
              "      <td>0</td>\n",
              "      <td>0</td>\n",
              "      <td>0</td>\n",
              "    </tr>\n",
              "    <tr>\n",
              "      <th>4</th>\n",
              "      <td>2022-03-02 11:00:00</td>\n",
              "      <td>3</td>\n",
              "      <td>0.51</td>\n",
              "      <td>-0.268298</td>\n",
              "      <td>11.19</td>\n",
              "      <td>0</td>\n",
              "      <td>0</td>\n",
              "      <td>0</td>\n",
              "      <td>0</td>\n",
              "      <td>0</td>\n",
              "      <td>...</td>\n",
              "      <td>0</td>\n",
              "      <td>0</td>\n",
              "      <td>0</td>\n",
              "      <td>0</td>\n",
              "      <td>0</td>\n",
              "      <td>0</td>\n",
              "      <td>0</td>\n",
              "      <td>0</td>\n",
              "      <td>0</td>\n",
              "      <td>0</td>\n",
              "    </tr>\n",
              "    <tr>\n",
              "      <th>...</th>\n",
              "      <td>...</td>\n",
              "      <td>...</td>\n",
              "      <td>...</td>\n",
              "      <td>...</td>\n",
              "      <td>...</td>\n",
              "      <td>...</td>\n",
              "      <td>...</td>\n",
              "      <td>...</td>\n",
              "      <td>...</td>\n",
              "      <td>...</td>\n",
              "      <td>...</td>\n",
              "      <td>...</td>\n",
              "      <td>...</td>\n",
              "      <td>...</td>\n",
              "      <td>...</td>\n",
              "      <td>...</td>\n",
              "      <td>...</td>\n",
              "      <td>...</td>\n",
              "      <td>...</td>\n",
              "      <td>...</td>\n",
              "      <td>...</td>\n",
              "    </tr>\n",
              "    <tr>\n",
              "      <th>6212</th>\n",
              "      <td>2022-03-06 13:00:00</td>\n",
              "      <td>1</td>\n",
              "      <td>0.51</td>\n",
              "      <td>-0.428084</td>\n",
              "      <td>3.19</td>\n",
              "      <td>0</td>\n",
              "      <td>0</td>\n",
              "      <td>0</td>\n",
              "      <td>0</td>\n",
              "      <td>0</td>\n",
              "      <td>...</td>\n",
              "      <td>0</td>\n",
              "      <td>0</td>\n",
              "      <td>0</td>\n",
              "      <td>0</td>\n",
              "      <td>0</td>\n",
              "      <td>0</td>\n",
              "      <td>0</td>\n",
              "      <td>1</td>\n",
              "      <td>0</td>\n",
              "      <td>0</td>\n",
              "    </tr>\n",
              "    <tr>\n",
              "      <th>6213</th>\n",
              "      <td>2022-03-06 14:00:00</td>\n",
              "      <td>4</td>\n",
              "      <td>0.68</td>\n",
              "      <td>-0.294007</td>\n",
              "      <td>3.19</td>\n",
              "      <td>0</td>\n",
              "      <td>0</td>\n",
              "      <td>0</td>\n",
              "      <td>0</td>\n",
              "      <td>0</td>\n",
              "      <td>...</td>\n",
              "      <td>0</td>\n",
              "      <td>0</td>\n",
              "      <td>0</td>\n",
              "      <td>0</td>\n",
              "      <td>0</td>\n",
              "      <td>0</td>\n",
              "      <td>0</td>\n",
              "      <td>1</td>\n",
              "      <td>0</td>\n",
              "      <td>0</td>\n",
              "    </tr>\n",
              "    <tr>\n",
              "      <th>6214</th>\n",
              "      <td>2022-03-06 19:00:00</td>\n",
              "      <td>2</td>\n",
              "      <td>0.51</td>\n",
              "      <td>-0.072701</td>\n",
              "      <td>3.19</td>\n",
              "      <td>0</td>\n",
              "      <td>0</td>\n",
              "      <td>0</td>\n",
              "      <td>0</td>\n",
              "      <td>0</td>\n",
              "      <td>...</td>\n",
              "      <td>0</td>\n",
              "      <td>0</td>\n",
              "      <td>0</td>\n",
              "      <td>0</td>\n",
              "      <td>0</td>\n",
              "      <td>0</td>\n",
              "      <td>0</td>\n",
              "      <td>1</td>\n",
              "      <td>0</td>\n",
              "      <td>0</td>\n",
              "    </tr>\n",
              "    <tr>\n",
              "      <th>6215</th>\n",
              "      <td>2022-03-07 10:00:00</td>\n",
              "      <td>2</td>\n",
              "      <td>0.16</td>\n",
              "      <td>-0.379524</td>\n",
              "      <td>3.19</td>\n",
              "      <td>0</td>\n",
              "      <td>0</td>\n",
              "      <td>0</td>\n",
              "      <td>0</td>\n",
              "      <td>0</td>\n",
              "      <td>...</td>\n",
              "      <td>0</td>\n",
              "      <td>0</td>\n",
              "      <td>0</td>\n",
              "      <td>0</td>\n",
              "      <td>0</td>\n",
              "      <td>0</td>\n",
              "      <td>0</td>\n",
              "      <td>1</td>\n",
              "      <td>0</td>\n",
              "      <td>0</td>\n",
              "    </tr>\n",
              "    <tr>\n",
              "      <th>6216</th>\n",
              "      <td>2022-03-07 19:00:00</td>\n",
              "      <td>1</td>\n",
              "      <td>0.51</td>\n",
              "      <td>-0.165077</td>\n",
              "      <td>3.19</td>\n",
              "      <td>0</td>\n",
              "      <td>0</td>\n",
              "      <td>0</td>\n",
              "      <td>0</td>\n",
              "      <td>0</td>\n",
              "      <td>...</td>\n",
              "      <td>0</td>\n",
              "      <td>0</td>\n",
              "      <td>0</td>\n",
              "      <td>0</td>\n",
              "      <td>0</td>\n",
              "      <td>0</td>\n",
              "      <td>0</td>\n",
              "      <td>1</td>\n",
              "      <td>0</td>\n",
              "      <td>0</td>\n",
              "    </tr>\n",
              "  </tbody>\n",
              "</table>\n",
              "<p>6217 rows × 27 columns</p>\n",
              "</div>"
            ],
            "text/plain": [
              "               timestamp  quantity estimated_stock_pct  temperature  \\\n",
              "0    2022-03-01 09:00:00         3                0.89    -0.028850   \n",
              "1    2022-03-01 17:00:00         1                0.57    -0.376415   \n",
              "2    2022-03-02 09:00:00         4                 0.4    -0.672900   \n",
              "3    2022-03-02 10:00:00         1                0.69    -0.856840   \n",
              "4    2022-03-02 11:00:00         3                0.51    -0.268298   \n",
              "...                  ...       ...                 ...          ...   \n",
              "6212 2022-03-06 13:00:00         1                0.51    -0.428084   \n",
              "6213 2022-03-06 14:00:00         4                0.68    -0.294007   \n",
              "6214 2022-03-06 19:00:00         2                0.51    -0.072701   \n",
              "6215 2022-03-07 10:00:00         2                0.16    -0.379524   \n",
              "6216 2022-03-07 19:00:00         1                0.51    -0.165077   \n",
              "\n",
              "      unit_price  category_baby products  category_baked goods  \\\n",
              "0          11.19                       0                     0   \n",
              "1          11.19                       0                     0   \n",
              "2          11.19                       0                     0   \n",
              "3          11.19                       0                     0   \n",
              "4          11.19                       0                     0   \n",
              "...          ...                     ...                   ...   \n",
              "6212        3.19                       0                     0   \n",
              "6213        3.19                       0                     0   \n",
              "6214        3.19                       0                     0   \n",
              "6215        3.19                       0                     0   \n",
              "6216        3.19                       0                     0   \n",
              "\n",
              "      category_baking  category_beverages  category_canned foods  ...  \\\n",
              "0                   0                   0                      0  ...   \n",
              "1                   0                   0                      0  ...   \n",
              "2                   0                   0                      0  ...   \n",
              "3                   0                   0                      0  ...   \n",
              "4                   0                   0                      0  ...   \n",
              "...               ...                 ...                    ...  ...   \n",
              "6212                0                   0                      0  ...   \n",
              "6213                0                   0                      0  ...   \n",
              "6214                0                   0                      0  ...   \n",
              "6215                0                   0                      0  ...   \n",
              "6216                0                   0                      0  ...   \n",
              "\n",
              "      category_meat  category_medicine  category_packaged foods  \\\n",
              "0                 0                  0                        0   \n",
              "1                 0                  0                        0   \n",
              "2                 0                  0                        0   \n",
              "3                 0                  0                        0   \n",
              "4                 0                  0                        0   \n",
              "...             ...                ...                      ...   \n",
              "6212              0                  0                        0   \n",
              "6213              0                  0                        0   \n",
              "6214              0                  0                        0   \n",
              "6215              0                  0                        0   \n",
              "6216              0                  0                        0   \n",
              "\n",
              "      category_personal care  category_pets  category_refrigerated items  \\\n",
              "0                          0              0                            0   \n",
              "1                          0              0                            0   \n",
              "2                          0              0                            0   \n",
              "3                          0              0                            0   \n",
              "4                          0              0                            0   \n",
              "...                      ...            ...                          ...   \n",
              "6212                       0              0                            0   \n",
              "6213                       0              0                            0   \n",
              "6214                       0              0                            0   \n",
              "6215                       0              0                            0   \n",
              "6216                       0              0                            0   \n",
              "\n",
              "      category_seafood  category_snacks  category_spices and herbs  \\\n",
              "0                    0                0                          0   \n",
              "1                    0                0                          0   \n",
              "2                    0                0                          0   \n",
              "3                    0                0                          0   \n",
              "4                    0                0                          0   \n",
              "...                ...              ...                        ...   \n",
              "6212                 0                1                          0   \n",
              "6213                 0                1                          0   \n",
              "6214                 0                1                          0   \n",
              "6215                 0                1                          0   \n",
              "6216                 0                1                          0   \n",
              "\n",
              "      category_vegetables  \n",
              "0                       0  \n",
              "1                       0  \n",
              "2                       0  \n",
              "3                       0  \n",
              "4                       0  \n",
              "...                   ...  \n",
              "6212                    0  \n",
              "6213                    0  \n",
              "6214                    0  \n",
              "6215                    0  \n",
              "6216                    0  \n",
              "\n",
              "[6217 rows x 27 columns]"
            ]
          },
          "execution_count": 61,
          "metadata": {},
          "output_type": "execute_result"
        }
      ],
      "source": [
        "new_merge['timestamp'] = pd.to_datetime(new_merge['timestamp'])\n",
        "new_merge"
      ]
    },
    {
      "cell_type": "code",
      "execution_count": 62,
      "metadata": {},
      "outputs": [
        {
          "data": {
            "text/html": [
              "<div>\n",
              "<style scoped>\n",
              "    .dataframe tbody tr th:only-of-type {\n",
              "        vertical-align: middle;\n",
              "    }\n",
              "\n",
              "    .dataframe tbody tr th {\n",
              "        vertical-align: top;\n",
              "    }\n",
              "\n",
              "    .dataframe thead th {\n",
              "        text-align: right;\n",
              "    }\n",
              "</style>\n",
              "<table border=\"1\" class=\"dataframe\">\n",
              "  <thead>\n",
              "    <tr style=\"text-align: right;\">\n",
              "      <th></th>\n",
              "      <th>timestamp</th>\n",
              "      <th>quantity</th>\n",
              "      <th>estimated_stock_pct</th>\n",
              "      <th>temperature</th>\n",
              "      <th>unit_price</th>\n",
              "      <th>category_baby products</th>\n",
              "      <th>category_baked goods</th>\n",
              "      <th>category_baking</th>\n",
              "      <th>category_beverages</th>\n",
              "      <th>category_canned foods</th>\n",
              "      <th>...</th>\n",
              "      <th>category_personal care</th>\n",
              "      <th>category_pets</th>\n",
              "      <th>category_refrigerated items</th>\n",
              "      <th>category_seafood</th>\n",
              "      <th>category_snacks</th>\n",
              "      <th>category_spices and herbs</th>\n",
              "      <th>category_vegetables</th>\n",
              "      <th>day_of_month</th>\n",
              "      <th>day_of_week</th>\n",
              "      <th>hour_of_day</th>\n",
              "    </tr>\n",
              "  </thead>\n",
              "  <tbody>\n",
              "    <tr>\n",
              "      <th>0</th>\n",
              "      <td>2022-03-01 09:00:00</td>\n",
              "      <td>3</td>\n",
              "      <td>0.89</td>\n",
              "      <td>-0.028850</td>\n",
              "      <td>11.19</td>\n",
              "      <td>0</td>\n",
              "      <td>0</td>\n",
              "      <td>0</td>\n",
              "      <td>0</td>\n",
              "      <td>0</td>\n",
              "      <td>...</td>\n",
              "      <td>0</td>\n",
              "      <td>0</td>\n",
              "      <td>0</td>\n",
              "      <td>0</td>\n",
              "      <td>0</td>\n",
              "      <td>0</td>\n",
              "      <td>0</td>\n",
              "      <td>1</td>\n",
              "      <td>1</td>\n",
              "      <td>9</td>\n",
              "    </tr>\n",
              "    <tr>\n",
              "      <th>1</th>\n",
              "      <td>2022-03-01 17:00:00</td>\n",
              "      <td>1</td>\n",
              "      <td>0.57</td>\n",
              "      <td>-0.376415</td>\n",
              "      <td>11.19</td>\n",
              "      <td>0</td>\n",
              "      <td>0</td>\n",
              "      <td>0</td>\n",
              "      <td>0</td>\n",
              "      <td>0</td>\n",
              "      <td>...</td>\n",
              "      <td>0</td>\n",
              "      <td>0</td>\n",
              "      <td>0</td>\n",
              "      <td>0</td>\n",
              "      <td>0</td>\n",
              "      <td>0</td>\n",
              "      <td>0</td>\n",
              "      <td>1</td>\n",
              "      <td>1</td>\n",
              "      <td>17</td>\n",
              "    </tr>\n",
              "    <tr>\n",
              "      <th>2</th>\n",
              "      <td>2022-03-02 09:00:00</td>\n",
              "      <td>4</td>\n",
              "      <td>0.4</td>\n",
              "      <td>-0.672900</td>\n",
              "      <td>11.19</td>\n",
              "      <td>0</td>\n",
              "      <td>0</td>\n",
              "      <td>0</td>\n",
              "      <td>0</td>\n",
              "      <td>0</td>\n",
              "      <td>...</td>\n",
              "      <td>0</td>\n",
              "      <td>0</td>\n",
              "      <td>0</td>\n",
              "      <td>0</td>\n",
              "      <td>0</td>\n",
              "      <td>0</td>\n",
              "      <td>0</td>\n",
              "      <td>2</td>\n",
              "      <td>2</td>\n",
              "      <td>9</td>\n",
              "    </tr>\n",
              "    <tr>\n",
              "      <th>3</th>\n",
              "      <td>2022-03-02 10:00:00</td>\n",
              "      <td>1</td>\n",
              "      <td>0.69</td>\n",
              "      <td>-0.856840</td>\n",
              "      <td>11.19</td>\n",
              "      <td>0</td>\n",
              "      <td>0</td>\n",
              "      <td>0</td>\n",
              "      <td>0</td>\n",
              "      <td>0</td>\n",
              "      <td>...</td>\n",
              "      <td>0</td>\n",
              "      <td>0</td>\n",
              "      <td>0</td>\n",
              "      <td>0</td>\n",
              "      <td>0</td>\n",
              "      <td>0</td>\n",
              "      <td>0</td>\n",
              "      <td>2</td>\n",
              "      <td>2</td>\n",
              "      <td>10</td>\n",
              "    </tr>\n",
              "    <tr>\n",
              "      <th>4</th>\n",
              "      <td>2022-03-02 11:00:00</td>\n",
              "      <td>3</td>\n",
              "      <td>0.51</td>\n",
              "      <td>-0.268298</td>\n",
              "      <td>11.19</td>\n",
              "      <td>0</td>\n",
              "      <td>0</td>\n",
              "      <td>0</td>\n",
              "      <td>0</td>\n",
              "      <td>0</td>\n",
              "      <td>...</td>\n",
              "      <td>0</td>\n",
              "      <td>0</td>\n",
              "      <td>0</td>\n",
              "      <td>0</td>\n",
              "      <td>0</td>\n",
              "      <td>0</td>\n",
              "      <td>0</td>\n",
              "      <td>2</td>\n",
              "      <td>2</td>\n",
              "      <td>11</td>\n",
              "    </tr>\n",
              "    <tr>\n",
              "      <th>...</th>\n",
              "      <td>...</td>\n",
              "      <td>...</td>\n",
              "      <td>...</td>\n",
              "      <td>...</td>\n",
              "      <td>...</td>\n",
              "      <td>...</td>\n",
              "      <td>...</td>\n",
              "      <td>...</td>\n",
              "      <td>...</td>\n",
              "      <td>...</td>\n",
              "      <td>...</td>\n",
              "      <td>...</td>\n",
              "      <td>...</td>\n",
              "      <td>...</td>\n",
              "      <td>...</td>\n",
              "      <td>...</td>\n",
              "      <td>...</td>\n",
              "      <td>...</td>\n",
              "      <td>...</td>\n",
              "      <td>...</td>\n",
              "      <td>...</td>\n",
              "    </tr>\n",
              "    <tr>\n",
              "      <th>6212</th>\n",
              "      <td>2022-03-06 13:00:00</td>\n",
              "      <td>1</td>\n",
              "      <td>0.51</td>\n",
              "      <td>-0.428084</td>\n",
              "      <td>3.19</td>\n",
              "      <td>0</td>\n",
              "      <td>0</td>\n",
              "      <td>0</td>\n",
              "      <td>0</td>\n",
              "      <td>0</td>\n",
              "      <td>...</td>\n",
              "      <td>0</td>\n",
              "      <td>0</td>\n",
              "      <td>0</td>\n",
              "      <td>0</td>\n",
              "      <td>1</td>\n",
              "      <td>0</td>\n",
              "      <td>0</td>\n",
              "      <td>6</td>\n",
              "      <td>6</td>\n",
              "      <td>13</td>\n",
              "    </tr>\n",
              "    <tr>\n",
              "      <th>6213</th>\n",
              "      <td>2022-03-06 14:00:00</td>\n",
              "      <td>4</td>\n",
              "      <td>0.68</td>\n",
              "      <td>-0.294007</td>\n",
              "      <td>3.19</td>\n",
              "      <td>0</td>\n",
              "      <td>0</td>\n",
              "      <td>0</td>\n",
              "      <td>0</td>\n",
              "      <td>0</td>\n",
              "      <td>...</td>\n",
              "      <td>0</td>\n",
              "      <td>0</td>\n",
              "      <td>0</td>\n",
              "      <td>0</td>\n",
              "      <td>1</td>\n",
              "      <td>0</td>\n",
              "      <td>0</td>\n",
              "      <td>6</td>\n",
              "      <td>6</td>\n",
              "      <td>14</td>\n",
              "    </tr>\n",
              "    <tr>\n",
              "      <th>6214</th>\n",
              "      <td>2022-03-06 19:00:00</td>\n",
              "      <td>2</td>\n",
              "      <td>0.51</td>\n",
              "      <td>-0.072701</td>\n",
              "      <td>3.19</td>\n",
              "      <td>0</td>\n",
              "      <td>0</td>\n",
              "      <td>0</td>\n",
              "      <td>0</td>\n",
              "      <td>0</td>\n",
              "      <td>...</td>\n",
              "      <td>0</td>\n",
              "      <td>0</td>\n",
              "      <td>0</td>\n",
              "      <td>0</td>\n",
              "      <td>1</td>\n",
              "      <td>0</td>\n",
              "      <td>0</td>\n",
              "      <td>6</td>\n",
              "      <td>6</td>\n",
              "      <td>19</td>\n",
              "    </tr>\n",
              "    <tr>\n",
              "      <th>6215</th>\n",
              "      <td>2022-03-07 10:00:00</td>\n",
              "      <td>2</td>\n",
              "      <td>0.16</td>\n",
              "      <td>-0.379524</td>\n",
              "      <td>3.19</td>\n",
              "      <td>0</td>\n",
              "      <td>0</td>\n",
              "      <td>0</td>\n",
              "      <td>0</td>\n",
              "      <td>0</td>\n",
              "      <td>...</td>\n",
              "      <td>0</td>\n",
              "      <td>0</td>\n",
              "      <td>0</td>\n",
              "      <td>0</td>\n",
              "      <td>1</td>\n",
              "      <td>0</td>\n",
              "      <td>0</td>\n",
              "      <td>7</td>\n",
              "      <td>0</td>\n",
              "      <td>10</td>\n",
              "    </tr>\n",
              "    <tr>\n",
              "      <th>6216</th>\n",
              "      <td>2022-03-07 19:00:00</td>\n",
              "      <td>1</td>\n",
              "      <td>0.51</td>\n",
              "      <td>-0.165077</td>\n",
              "      <td>3.19</td>\n",
              "      <td>0</td>\n",
              "      <td>0</td>\n",
              "      <td>0</td>\n",
              "      <td>0</td>\n",
              "      <td>0</td>\n",
              "      <td>...</td>\n",
              "      <td>0</td>\n",
              "      <td>0</td>\n",
              "      <td>0</td>\n",
              "      <td>0</td>\n",
              "      <td>1</td>\n",
              "      <td>0</td>\n",
              "      <td>0</td>\n",
              "      <td>7</td>\n",
              "      <td>0</td>\n",
              "      <td>19</td>\n",
              "    </tr>\n",
              "  </tbody>\n",
              "</table>\n",
              "<p>6217 rows × 30 columns</p>\n",
              "</div>"
            ],
            "text/plain": [
              "               timestamp  quantity estimated_stock_pct  temperature  \\\n",
              "0    2022-03-01 09:00:00         3                0.89    -0.028850   \n",
              "1    2022-03-01 17:00:00         1                0.57    -0.376415   \n",
              "2    2022-03-02 09:00:00         4                 0.4    -0.672900   \n",
              "3    2022-03-02 10:00:00         1                0.69    -0.856840   \n",
              "4    2022-03-02 11:00:00         3                0.51    -0.268298   \n",
              "...                  ...       ...                 ...          ...   \n",
              "6212 2022-03-06 13:00:00         1                0.51    -0.428084   \n",
              "6213 2022-03-06 14:00:00         4                0.68    -0.294007   \n",
              "6214 2022-03-06 19:00:00         2                0.51    -0.072701   \n",
              "6215 2022-03-07 10:00:00         2                0.16    -0.379524   \n",
              "6216 2022-03-07 19:00:00         1                0.51    -0.165077   \n",
              "\n",
              "      unit_price  category_baby products  category_baked goods  \\\n",
              "0          11.19                       0                     0   \n",
              "1          11.19                       0                     0   \n",
              "2          11.19                       0                     0   \n",
              "3          11.19                       0                     0   \n",
              "4          11.19                       0                     0   \n",
              "...          ...                     ...                   ...   \n",
              "6212        3.19                       0                     0   \n",
              "6213        3.19                       0                     0   \n",
              "6214        3.19                       0                     0   \n",
              "6215        3.19                       0                     0   \n",
              "6216        3.19                       0                     0   \n",
              "\n",
              "      category_baking  category_beverages  category_canned foods  ...  \\\n",
              "0                   0                   0                      0  ...   \n",
              "1                   0                   0                      0  ...   \n",
              "2                   0                   0                      0  ...   \n",
              "3                   0                   0                      0  ...   \n",
              "4                   0                   0                      0  ...   \n",
              "...               ...                 ...                    ...  ...   \n",
              "6212                0                   0                      0  ...   \n",
              "6213                0                   0                      0  ...   \n",
              "6214                0                   0                      0  ...   \n",
              "6215                0                   0                      0  ...   \n",
              "6216                0                   0                      0  ...   \n",
              "\n",
              "      category_personal care  category_pets  category_refrigerated items  \\\n",
              "0                          0              0                            0   \n",
              "1                          0              0                            0   \n",
              "2                          0              0                            0   \n",
              "3                          0              0                            0   \n",
              "4                          0              0                            0   \n",
              "...                      ...            ...                          ...   \n",
              "6212                       0              0                            0   \n",
              "6213                       0              0                            0   \n",
              "6214                       0              0                            0   \n",
              "6215                       0              0                            0   \n",
              "6216                       0              0                            0   \n",
              "\n",
              "      category_seafood  category_snacks  category_spices and herbs  \\\n",
              "0                    0                0                          0   \n",
              "1                    0                0                          0   \n",
              "2                    0                0                          0   \n",
              "3                    0                0                          0   \n",
              "4                    0                0                          0   \n",
              "...                ...              ...                        ...   \n",
              "6212                 0                1                          0   \n",
              "6213                 0                1                          0   \n",
              "6214                 0                1                          0   \n",
              "6215                 0                1                          0   \n",
              "6216                 0                1                          0   \n",
              "\n",
              "      category_vegetables  day_of_month  day_of_week  hour_of_day  \n",
              "0                       0             1            1            9  \n",
              "1                       0             1            1           17  \n",
              "2                       0             2            2            9  \n",
              "3                       0             2            2           10  \n",
              "4                       0             2            2           11  \n",
              "...                   ...           ...          ...          ...  \n",
              "6212                    0             6            6           13  \n",
              "6213                    0             6            6           14  \n",
              "6214                    0             6            6           19  \n",
              "6215                    0             7            0           10  \n",
              "6216                    0             7            0           19  \n",
              "\n",
              "[6217 rows x 30 columns]"
            ]
          },
          "execution_count": 62,
          "metadata": {},
          "output_type": "execute_result"
        }
      ],
      "source": [
        "new_merge['day_of_month'] = new_merge['timestamp'].dt.day\n",
        "new_merge['day_of_week'] = new_merge['timestamp'].dt.dayofweek\n",
        "new_merge['hour_of_day'] = new_merge['timestamp'].dt.hour\n",
        "new_merge"
      ]
    },
    {
      "cell_type": "code",
      "execution_count": 63,
      "metadata": {},
      "outputs": [],
      "source": [
        "new_merge.drop(columns='timestamp',inplace=True)\n"
      ]
    },
    {
      "attachments": {},
      "cell_type": "markdown",
      "metadata": {},
      "source": [
        "## Section 4-  Modelling "
      ]
    },
    {
      "cell_type": "code",
      "execution_count": 64,
      "metadata": {},
      "outputs": [],
      "source": [
        "\n",
        "#Features and targets\n",
        "X= new_merge.drop(columns='estimated_stock_pct')\n",
        "y = new_merge['estimated_stock_pct']\n"
      ]
    },
    {
      "cell_type": "code",
      "execution_count": 65,
      "metadata": {},
      "outputs": [
        {
          "name": "stdout",
          "output_type": "stream",
          "text": [
            "(6217, 28)\n",
            "(6217,)\n"
          ]
        }
      ],
      "source": [
        "print(X.shape)\n",
        "print(y.shape)"
      ]
    },
    {
      "cell_type": "code",
      "execution_count": 66,
      "metadata": {},
      "outputs": [],
      "source": [
        "from sklearn.model_selection import train_test_split\n",
        "from sklearn.model_selection import cross_val_score\n",
        "from sklearn.model_selection import KFold\n",
        "from sklearn.linear_model import LinearRegression #import regression models to compare results\n",
        "from sklearn.ensemble import RandomForestRegressor\n"
      ]
    },
    {
      "cell_type": "code",
      "execution_count": 67,
      "metadata": {},
      "outputs": [],
      "source": [
        "X_train, X_test, y_train, y_test = train_test_split(X,y,test_size=0.3, random_state=42)\n"
      ]
    },
    {
      "attachments": {},
      "cell_type": "markdown",
      "metadata": {},
      "source": [
        "### Linear regression"
      ]
    },
    {
      "cell_type": "code",
      "execution_count": 68,
      "metadata": {},
      "outputs": [],
      "source": [
        "lr = LinearRegression()\n",
        "kf = KFold(n_splits=5, shuffle=True, random_state=42)  # 5-fold cross-validation\n",
        "cross_val_scores = cross_val_score(lr, X_train, y_train, scoring='neg_mean_squared_error', cv=kf)\n",
        "rmse_scores = np.sqrt(-cross_val_scores)\n"
      ]
    },
    {
      "cell_type": "code",
      "execution_count": 69,
      "metadata": {},
      "outputs": [
        {
          "name": "stdout",
          "output_type": "stream",
          "text": [
            "Cross-Validation RMSE Scores: [0.19009025 0.18901126 0.18694428 0.1862519  0.18673254]\n",
            "Average RMSE: 0.18780604490795766\n"
          ]
        }
      ],
      "source": [
        "print(\"Cross-Validation RMSE Scores:\", rmse_scores)\n",
        "print(\"Average RMSE:\", np.mean(rmse_scores))"
      ]
    },
    {
      "cell_type": "code",
      "execution_count": 70,
      "metadata": {},
      "outputs": [
        {
          "name": "stdout",
          "output_type": "stream",
          "text": [
            "Mean Squared Error (MSE): 0.032286967055778944\n",
            "R-squared (R2): -0.006278611450069471\n"
          ]
        }
      ],
      "source": [
        "from sklearn.metrics import mean_squared_error, r2_score\n",
        "\n",
        "lr.fit(X_train,y_train)\n",
        "pred_lr = lr.predict(X_test)\n",
        "mse = mean_squared_error(y_test,pred_lr)\n",
        "r2 = r2_score(y_test,pred_lr)\n",
        "\n",
        "print(\"Mean Squared Error (MSE):\", mse)\n",
        "print(\"R-squared (R2):\", r2)"
      ]
    },
    {
      "cell_type": "code",
      "execution_count": 71,
      "metadata": {},
      "outputs": [
        {
          "name": "stdout",
          "output_type": "stream",
          "text": [
            "Root mean squared error: 0.17968574527707795\n"
          ]
        }
      ],
      "source": [
        "rmse_lr = np.sqrt(mse)\n",
        "print(f\"Root mean squared error: {rmse_lr}\")"
      ]
    },
    {
      "attachments": {},
      "cell_type": "markdown",
      "metadata": {},
      "source": [
        "The predicted values deviate from the actual stock predictions by 0.18 units on average. It's important to note that while RMSE provides a measure of prediction accuracy, it does not provide information about the model's interpretability or the appropriateness of the features used. \n"
      ]
    },
    {
      "attachments": {},
      "cell_type": "markdown",
      "metadata": {},
      "source": [
        "### Random Forest"
      ]
    },
    {
      "cell_type": "code",
      "execution_count": 72,
      "metadata": {},
      "outputs": [],
      "source": [
        "from sklearn.preprocessing import StandardScaler #for robust predictions "
      ]
    },
    {
      "cell_type": "code",
      "execution_count": 73,
      "metadata": {},
      "outputs": [],
      "source": [
        "rf = RandomForestRegressor()"
      ]
    },
    {
      "cell_type": "code",
      "execution_count": 74,
      "metadata": {},
      "outputs": [
        {
          "name": "stdout",
          "output_type": "stream",
          "text": [
            "Cross-Validation RMSE Scores: [-0.0408542  -0.0392443  -0.03862055 -0.03986814 -0.03862367]\n",
            "Average RMSE: 0.19858924193548208\n"
          ]
        }
      ],
      "source": [
        "cross_val_rf= cross_val_score(rf, X_train, y_train, scoring='neg_mean_squared_error', cv=kf)\n",
        "rmse_rf = np.sqrt(-cross_val_rf)\n",
        "print(\"Cross-Validation RMSE Scores:\", cross_val_rf)\n",
        "print(\"Average RMSE:\", np.mean(rmse_rf))"
      ]
    },
    {
      "cell_type": "code",
      "execution_count": 75,
      "metadata": {},
      "outputs": [
        {
          "name": "stdout",
          "output_type": "stream",
          "text": [
            "Mean Squared Error (MSE): 0.03632354517206877\n",
            "R-squared (R2): -0.13208548004978926\n"
          ]
        }
      ],
      "source": [
        "rf.fit(X_train,y_train)\n",
        "pred_rf = rf.predict(X_test)\n",
        "mse_rf = mean_squared_error(y_test,pred_rf)\n",
        "r2_rf = r2_score(y_test,pred_rf)\n",
        "\n",
        "print(\"Mean Squared Error (MSE):\", mse_rf)\n",
        "print(\"R-squared (R2):\", r2_rf)"
      ]
    },
    {
      "cell_type": "code",
      "execution_count": 76,
      "metadata": {},
      "outputs": [
        {
          "name": "stdout",
          "output_type": "stream",
          "text": [
            "Mean Absolute Error (MAE): 0.1332940535841882\n"
          ]
        }
      ],
      "source": [
        "from sklearn.metrics import mean_absolute_error\n",
        "mae = mean_absolute_error(y_test, pred_rf)\n",
        "\n",
        "# Print the result\n",
        "print(f\"Mean Absolute Error (MAE): {mae}\")"
      ]
    },
    {
      "attachments": {},
      "cell_type": "markdown",
      "metadata": {},
      "source": [
        "## Feature importance"
      ]
    },
    {
      "cell_type": "code",
      "execution_count": 77,
      "metadata": {},
      "outputs": [],
      "source": [
        "#plotting feature importance \n",
        "importance = rf.feature_importances_\n",
        "indices = np.argsort(importance)\n",
        "\n",
        "feature_importances = pd.DataFrame({\n",
        "    'features': X.columns,\n",
        "    'importance': rf.feature_importances_\n",
        "}).sort_values(by='importance', ascending=True).reset_index()"
      ]
    },
    {
      "cell_type": "code",
      "execution_count": 78,
      "metadata": {},
      "outputs": [
        {
          "data": {
            "image/png": "[encoded data removed]",
            "text/plain": [
              "<Figure size 1080x1800 with 1 Axes>"
            ]
          },
          "metadata": {
            "needs_background": "light"
          },
          "output_type": "display_data"
        }
      ],
      "source": [
        "plt.figure(figsize=(15, 25))\n",
        "plt.title('Feature Importances')\n",
        "plt.barh(range(len(feature_importances)), feature_importances['importance'], color='b', align='center')\n",
        "plt.yticks(range(len(feature_importances)), feature_importances['features'])\n",
        "plt.xlabel('Importance')\n",
        "plt.show()"
      ]
    },
    {
      "cell_type": "code",
      "execution_count": 79,
      "metadata": {},
      "outputs": [],
      "source": [
        "threshold = 0.05"
      ]
    },
    {
      "cell_type": "code",
      "execution_count": 80,
      "metadata": {},
      "outputs": [],
      "source": [
        "import plotly.express as px\n"
      ]
    },
    {
      "cell_type": "code",
      "execution_count": 81,
      "metadata": {},
      "outputs": [
        {
          "data": {
            "application/vnd.plotly.v1+json": {
              "config": {
                "plotlyServerURL": "https://plot.ly"
              },
              "data": [
                {
                  "alignmentgroup": "True",
                  "hovertemplate": "features=%{x}<br>Importance=%{y}<extra></extra>",
                  "legendgroup": "",
                  "marker": {
                    "color": "#636efa",
                    "pattern": {
                      "shape": ""
                    }
                  },
                  "name": "",
                  "offsetgroup": "",
                  "orientation": "v",
                  "showlegend": false,
                  "textposition": "auto",
                  "type": "bar",
                  "x": [
                    "day_of_month",
                    "day_of_week",
                    "hour_of_day",
                    "quantity",
                    "temperature",
                    "unit_price"
                  ],
                  "xaxis": "x",
                  "y": [
                    0.05042962974967268,
                    0.05305578851776217,
                    0.11239824567507568,
                    0.141949354159901,
                    0.17220289338484743,
                    0.22837201149926167
                  ],
                  "yaxis": "y"
                }
              ],
              "layout": {
                "barmode": "relative",
                "legend": {
                  "tracegroupgap": 0
                },
                "template": {
                  "data": {
                    "bar": [
                      {
                        "error_x": {
                          "color": "#2a3f5f"
                        },
                        "error_y": {
                          "color": "#2a3f5f"
                        },
                        "marker": {
                          "line": {
                            "color": "#E5ECF6",
                            "width": 0.5
                          },
                          "pattern": {
                            "fillmode": "overlay",
                            "size": 10,
                            "solidity": 0.2
                          }
                        },
                        "type": "bar"
                      }
                    ],
                    "barpolar": [
                      {
                        "marker": {
                          "line": {
                            "color": "#E5ECF6",
                            "width": 0.5
                          },
                          "pattern": {
                            "fillmode": "overlay",
                            "size": 10,
                            "solidity": 0.2
                          }
                        },
                        "type": "barpolar"
                      }
                    ],
                    "carpet": [
                      {
                        "aaxis": {
                          "endlinecolor": "#2a3f5f",
                          "gridcolor": "white",
                          "linecolor": "white",
                          "minorgridcolor": "white",
                          "startlinecolor": "#2a3f5f"
                        },
                        "baxis": {
                          "endlinecolor": "#2a3f5f",
                          "gridcolor": "white",
                          "linecolor": "white",
                          "minorgridcolor": "white",
                          "startlinecolor": "#2a3f5f"
                        },
                        "type": "carpet"
                      }
                    ],
                    "choropleth": [
                      {
                        "colorbar": {
                          "outlinewidth": 0,
                          "ticks": ""
                        },
                        "type": "choropleth"
                      }
                    ],
                    "contour": [
                      {
                        "colorbar": {
                          "outlinewidth": 0,
                          "ticks": ""
                        },
                        "colorscale": [
                          [
                            0,
                            "#0d0887"
                          ],
                          [
                            0.1111111111111111,
                            "#46039f"
                          ],
                          [
                            0.2222222222222222,
                            "#7201a8"
                          ],
                          [
                            0.3333333333333333,
                            "#9c179e"
                          ],
                          [
                            0.4444444444444444,
                            "#bd3786"
                          ],
                          [
                            0.5555555555555556,
                            "#d8576b"
                          ],
                          [
                            0.6666666666666666,
                            "#ed7953"
                          ],
                          [
                            0.7777777777777778,
                            "#fb9f3a"
                          ],
                          [
                            0.8888888888888888,
                            "#fdca26"
                          ],
                          [
                            1,
                            "#f0f921"
                          ]
                        ],
                        "type": "contour"
                      }
                    ],
                    "contourcarpet": [
                      {
                        "colorbar": {
                          "outlinewidth": 0,
                          "ticks": ""
                        },
                        "type": "contourcarpet"
                      }
                    ],
                    "heatmap": [
                      {
                        "colorbar": {
                          "outlinewidth": 0,
                          "ticks": ""
                        },
                        "colorscale": [
                          [
                            0,
                            "#0d0887"
                          ],
                          [
                            0.1111111111111111,
                            "#46039f"
                          ],
                          [
                            0.2222222222222222,
                            "#7201a8"
                          ],
                          [
                            0.3333333333333333,
                            "#9c179e"
                          ],
                          [
                            0.4444444444444444,
                            "#bd3786"
                          ],
                          [
                            0.5555555555555556,
                            "#d8576b"
                          ],
                          [
                            0.6666666666666666,
                            "#ed7953"
                          ],
                          [
                            0.7777777777777778,
                            "#fb9f3a"
                          ],
                          [
                            0.8888888888888888,
                            "#fdca26"
                          ],
                          [
                            1,
                            "#f0f921"
                          ]
                        ],
                        "type": "heatmap"
                      }
                    ],
                    "heatmapgl": [
                      {
                        "colorbar": {
                          "outlinewidth": 0,
                          "ticks": ""
                        },
                        "colorscale": [
                          [
                            0,
                            "#0d0887"
                          ],
                          [
                            0.1111111111111111,
                            "#46039f"
                          ],
                          [
                            0.2222222222222222,
                            "#7201a8"
                          ],
                          [
                            0.3333333333333333,
                            "#9c179e"
                          ],
                          [
                            0.4444444444444444,
                            "#bd3786"
                          ],
                          [
                            0.5555555555555556,
                            "#d8576b"
                          ],
                          [
                            0.6666666666666666,
                            "#ed7953"
                          ],
                          [
                            0.7777777777777778,
                            "#fb9f3a"
                          ],
                          [
                            0.8888888888888888,
                            "#fdca26"
                          ],
                          [
                            1,
                            "#f0f921"
                          ]
                        ],
                        "type": "heatmapgl"
                      }
                    ],
                    "histogram": [
                      {
                        "marker": {
                          "pattern": {
                            "fillmode": "overlay",
                            "size": 10,
                            "solidity": 0.2
                          }
                        },
                        "type": "histogram"
                      }
                    ],
                    "histogram2d": [
                      {
                        "colorbar": {
                          "outlinewidth": 0,
                          "ticks": ""
                        },
                        "colorscale": [
                          [
                            0,
                            "#0d0887"
                          ],
                          [
                            0.1111111111111111,
                            "#46039f"
                          ],
                          [
                            0.2222222222222222,
                            "#7201a8"
                          ],
                          [
                            0.3333333333333333,
                            "#9c179e"
                          ],
                          [
                            0.4444444444444444,
                            "#bd3786"
                          ],
                          [
                            0.5555555555555556,
                            "#d8576b"
                          ],
                          [
                            0.6666666666666666,
                            "#ed7953"
                          ],
                          [
                            0.7777777777777778,
                            "#fb9f3a"
                          ],
                          [
                            0.8888888888888888,
                            "#fdca26"
                          ],
                          [
                            1,
                            "#f0f921"
                          ]
                        ],
                        "type": "histogram2d"
                      }
                    ],
                    "histogram2dcontour": [
                      {
                        "colorbar": {
                          "outlinewidth": 0,
                          "ticks": ""
                        },
                        "colorscale": [
                          [
                            0,
                            "#0d0887"
                          ],
                          [
                            0.1111111111111111,
                            "#46039f"
                          ],
                          [
                            0.2222222222222222,
                            "#7201a8"
                          ],
                          [
                            0.3333333333333333,
                            "#9c179e"
                          ],
                          [
                            0.4444444444444444,
                            "#bd3786"
                          ],
                          [
                            0.5555555555555556,
                            "#d8576b"
                          ],
                          [
                            0.6666666666666666,
                            "#ed7953"
                          ],
                          [
                            0.7777777777777778,
                            "#fb9f3a"
                          ],
                          [
                            0.8888888888888888,
                            "#fdca26"
                          ],
                          [
                            1,
                            "#f0f921"
                          ]
                        ],
                        "type": "histogram2dcontour"
                      }
                    ],
                    "mesh3d": [
                      {
                        "colorbar": {
                          "outlinewidth": 0,
                          "ticks": ""
                        },
                        "type": "mesh3d"
                      }
                    ],
                    "parcoords": [
                      {
                        "line": {
                          "colorbar": {
                            "outlinewidth": 0,
                            "ticks": ""
                          }
                        },
                        "type": "parcoords"
                      }
                    ],
                    "pie": [
                      {
                        "automargin": true,
                        "type": "pie"
                      }
                    ],
                    "scatter": [
                      {
                        "fillpattern": {
                          "fillmode": "overlay",
                          "size": 10,
                          "solidity": 0.2
                        },
                        "type": "scatter"
                      }
                    ],
                    "scatter3d": [
                      {
                        "line": {
                          "colorbar": {
                            "outlinewidth": 0,
                            "ticks": ""
                          }
                        },
                        "marker": {
                          "colorbar": {
                            "outlinewidth": 0,
                            "ticks": ""
                          }
                        },
                        "type": "scatter3d"
                      }
                    ],
                    "scattercarpet": [
                      {
                        "marker": {
                          "colorbar": {
                            "outlinewidth": 0,
                            "ticks": ""
                          }
                        },
                        "type": "scattercarpet"
                      }
                    ],
                    "scattergeo": [
                      {
                        "marker": {
                          "colorbar": {
                            "outlinewidth": 0,
                            "ticks": ""
                          }
                        },
                        "type": "scattergeo"
                      }
                    ],
                    "scattergl": [
                      {
                        "marker": {
                          "colorbar": {
                            "outlinewidth": 0,
                            "ticks": ""
                          }
                        },
                        "type": "scattergl"
                      }
                    ],
                    "scattermapbox": [
                      {
                        "marker": {
                          "colorbar": {
                            "outlinewidth": 0,
                            "ticks": ""
                          }
                        },
                        "type": "scattermapbox"
                      }
                    ],
                    "scatterpolar": [
                      {
                        "marker": {
                          "colorbar": {
                            "outlinewidth": 0,
                            "ticks": ""
                          }
                        },
                        "type": "scatterpolar"
                      }
                    ],
                    "scatterpolargl": [
                      {
                        "marker": {
                          "colorbar": {
                            "outlinewidth": 0,
                            "ticks": ""
                          }
                        },
                        "type": "scatterpolargl"
                      }
                    ],
                    "scatterternary": [
                      {
                        "marker": {
                          "colorbar": {
                            "outlinewidth": 0,
                            "ticks": ""
                          }
                        },
                        "type": "scatterternary"
                      }
                    ],
                    "surface": [
                      {
                        "colorbar": {
                          "outlinewidth": 0,
                          "ticks": ""
                        },
                        "colorscale": [
                          [
                            0,
                            "#0d0887"
                          ],
                          [
                            0.1111111111111111,
                            "#46039f"
                          ],
                          [
                            0.2222222222222222,
                            "#7201a8"
                          ],
                          [
                            0.3333333333333333,
                            "#9c179e"
                          ],
                          [
                            0.4444444444444444,
                            "#bd3786"
                          ],
                          [
                            0.5555555555555556,
                            "#d8576b"
                          ],
                          [
                            0.6666666666666666,
                            "#ed7953"
                          ],
                          [
                            0.7777777777777778,
                            "#fb9f3a"
                          ],
                          [
                            0.8888888888888888,
                            "#fdca26"
                          ],
                          [
                            1,
                            "#f0f921"
                          ]
                        ],
                        "type": "surface"
                      }
                    ],
                    "table": [
                      {
                        "cells": {
                          "fill": {
                            "color": "#EBF0F8"
                          },
                          "line": {
                            "color": "white"
                          }
                        },
                        "header": {
                          "fill": {
                            "color": "#C8D4E3"
                          },
                          "line": {
                            "color": "white"
                          }
                        },
                        "type": "table"
                      }
                    ]
                  },
                  "layout": {
                    "annotationdefaults": {
                      "arrowcolor": "#2a3f5f",
                      "arrowhead": 0,
                      "arrowwidth": 1
                    },
                    "autotypenumbers": "strict",
                    "coloraxis": {
                      "colorbar": {
                        "outlinewidth": 0,
                        "ticks": ""
                      }
                    },
                    "colorscale": {
                      "diverging": [
                        [
                          0,
                          "#8e0152"
                        ],
                        [
                          0.1,
                          "#c51b7d"
                        ],
                        [
                          0.2,
                          "#de77ae"
                        ],
                        [
                          0.3,
                          "#f1b6da"
                        ],
                        [
                          0.4,
                          "#fde0ef"
                        ],
                        [
                          0.5,
                          "#f7f7f7"
                        ],
                        [
                          0.6,
                          "#e6f5d0"
                        ],
                        [
                          0.7,
                          "#b8e186"
                        ],
                        [
                          0.8,
                          "#7fbc41"
                        ],
                        [
                          0.9,
                          "#4d9221"
                        ],
                        [
                          1,
                          "#276419"
                        ]
                      ],
                      "sequential": [
                        [
                          0,
                          "#0d0887"
                        ],
                        [
                          0.1111111111111111,
                          "#46039f"
                        ],
                        [
                          0.2222222222222222,
                          "#7201a8"
                        ],
                        [
                          0.3333333333333333,
                          "#9c179e"
                        ],
                        [
                          0.4444444444444444,
                          "#bd3786"
                        ],
                        [
                          0.5555555555555556,
                          "#d8576b"
                        ],
                        [
                          0.6666666666666666,
                          "#ed7953"
                        ],
                        [
                          0.7777777777777778,
                          "#fb9f3a"
                        ],
                        [
                          0.8888888888888888,
                          "#fdca26"
                        ],
                        [
                          1,
                          "#f0f921"
                        ]
                      ],
                      "sequentialminus": [
                        [
                          0,
                          "#0d0887"
                        ],
                        [
                          0.1111111111111111,
                          "#46039f"
                        ],
                        [
                          0.2222222222222222,
                          "#7201a8"
                        ],
                        [
                          0.3333333333333333,
                          "#9c179e"
                        ],
                        [
                          0.4444444444444444,
                          "#bd3786"
                        ],
                        [
                          0.5555555555555556,
                          "#d8576b"
                        ],
                        [
                          0.6666666666666666,
                          "#ed7953"
                        ],
                        [
                          0.7777777777777778,
                          "#fb9f3a"
                        ],
                        [
                          0.8888888888888888,
                          "#fdca26"
                        ],
                        [
                          1,
                          "#f0f921"
                        ]
                      ]
                    },
                    "colorway": [
                      "#636efa",
                      "#EF553B",
                      "#00cc96",
                      "#ab63fa",
                      "#FFA15A",
                      "#19d3f3",
                      "#FF6692",
                      "#B6E880",
                      "#FF97FF",
                      "#FECB52"
                    ],
                    "font": {
                      "color": "#2a3f5f"
                    },
                    "geo": {
                      "bgcolor": "white",
                      "lakecolor": "white",
                      "landcolor": "#E5ECF6",
                      "showlakes": true,
                      "showland": true,
                      "subunitcolor": "white"
                    },
                    "hoverlabel": {
                      "align": "left"
                    },
                    "hovermode": "closest",
                    "mapbox": {
                      "style": "light"
                    },
                    "paper_bgcolor": "white",
                    "plot_bgcolor": "#E5ECF6",
                    "polar": {
                      "angularaxis": {
                        "gridcolor": "white",
                        "linecolor": "white",
                        "ticks": ""
                      },
                      "bgcolor": "#E5ECF6",
                      "radialaxis": {
                        "gridcolor": "white",
                        "linecolor": "white",
                        "ticks": ""
                      }
                    },
                    "scene": {
                      "xaxis": {
                        "backgroundcolor": "#E5ECF6",
                        "gridcolor": "white",
                        "gridwidth": 2,
                        "linecolor": "white",
                        "showbackground": true,
                        "ticks": "",
                        "zerolinecolor": "white"
                      },
                      "yaxis": {
                        "backgroundcolor": "#E5ECF6",
                        "gridcolor": "white",
                        "gridwidth": 2,
                        "linecolor": "white",
                        "showbackground": true,
                        "ticks": "",
                        "zerolinecolor": "white"
                      },
                      "zaxis": {
                        "backgroundcolor": "#E5ECF6",
                        "gridcolor": "white",
                        "gridwidth": 2,
                        "linecolor": "white",
                        "showbackground": true,
                        "ticks": "",
                        "zerolinecolor": "white"
                      }
                    },
                    "shapedefaults": {
                      "line": {
                        "color": "#2a3f5f"
                      }
                    },
                    "ternary": {
                      "aaxis": {
                        "gridcolor": "white",
                        "linecolor": "white",
                        "ticks": ""
                      },
                      "baxis": {
                        "gridcolor": "white",
                        "linecolor": "white",
                        "ticks": ""
                      },
                      "bgcolor": "#E5ECF6",
                      "caxis": {
                        "gridcolor": "white",
                        "linecolor": "white",
                        "ticks": ""
                      }
                    },
                    "title": {
                      "x": 0.05
                    },
                    "xaxis": {
                      "automargin": true,
                      "gridcolor": "white",
                      "linecolor": "white",
                      "ticks": "",
                      "title": {
                        "standoff": 15
                      },
                      "zerolinecolor": "white",
                      "zerolinewidth": 2
                    },
                    "yaxis": {
                      "automargin": true,
                      "gridcolor": "white",
                      "linecolor": "white",
                      "ticks": "",
                      "title": {
                        "standoff": 15
                      },
                      "zerolinecolor": "white",
                      "zerolinewidth": 2
                    }
                  }
                },
                "title": {
                  "text": "Feature Importances Above Threshold"
                },
                "xaxis": {
                  "anchor": "y",
                  "domain": [
                    0,
                    1
                  ],
                  "tickangle": 45,
                  "title": {
                    "text": "features"
                  }
                },
                "yaxis": {
                  "anchor": "x",
                  "domain": [
                    0,
                    1
                  ],
                  "title": {
                    "text": "Importance"
                  }
                }
              }
            }
          },
          "metadata": {},
          "output_type": "display_data"
        }
      ],
      "source": [
        "selected_features = feature_importances[feature_importances['importance'] > threshold]\n",
        "\n",
        "\n",
        "# Plot with Plotly\n",
        "fig = px.bar(selected_features, x='features', y='importance', labels={'importance': 'Importance'}, title='Feature Importances Above Threshold')\n",
        "fig.update_layout(xaxis=dict(tickangle=45))\n",
        "fig.show()"
      ]
    },
    {
      "cell_type": "code",
      "execution_count": 82,
      "metadata": {},
      "outputs": [
        {
          "data": {
            "application/vnd.plotly.v1+json": {
              "config": {
                "plotlyServerURL": "https://plot.ly"
              },
              "data": [
                {
                  "domain": {
                    "x": [
                      0,
                      1
                    ],
                    "y": [
                      0,
                      1
                    ]
                  },
                  "hovertemplate": "features=%{label}<br>importance=%{value}<extra></extra>",
                  "labels": [
                    "day_of_month",
                    "day_of_week",
                    "hour_of_day",
                    "quantity",
                    "temperature",
                    "unit_price"
                  ],
                  "legendgroup": "",
                  "name": "",
                  "showlegend": true,
                  "type": "pie",
                  "values": [
                    0.05042962974967268,
                    0.05305578851776217,
                    0.11239824567507568,
                    0.141949354159901,
                    0.17220289338484743,
                    0.22837201149926167
                  ]
                }
              ],
              "layout": {
                "legend": {
                  "tracegroupgap": 0
                },
                "template": {
                  "data": {
                    "bar": [
                      {
                        "error_x": {
                          "color": "#2a3f5f"
                        },
                        "error_y": {
                          "color": "#2a3f5f"
                        },
                        "marker": {
                          "line": {
                            "color": "#E5ECF6",
                            "width": 0.5
                          },
                          "pattern": {
                            "fillmode": "overlay",
                            "size": 10,
                            "solidity": 0.2
                          }
                        },
                        "type": "bar"
                      }
                    ],
                    "barpolar": [
                      {
                        "marker": {
                          "line": {
                            "color": "#E5ECF6",
                            "width": 0.5
                          },
                          "pattern": {
                            "fillmode": "overlay",
                            "size": 10,
                            "solidity": 0.2
                          }
                        },
                        "type": "barpolar"
                      }
                    ],
                    "carpet": [
                      {
                        "aaxis": {
                          "endlinecolor": "#2a3f5f",
                          "gridcolor": "white",
                          "linecolor": "white",
                          "minorgridcolor": "white",
                          "startlinecolor": "#2a3f5f"
                        },
                        "baxis": {
                          "endlinecolor": "#2a3f5f",
                          "gridcolor": "white",
                          "linecolor": "white",
                          "minorgridcolor": "white",
                          "startlinecolor": "#2a3f5f"
                        },
                        "type": "carpet"
                      }
                    ],
                    "choropleth": [
                      {
                        "colorbar": {
                          "outlinewidth": 0,
                          "ticks": ""
                        },
                        "type": "choropleth"
                      }
                    ],
                    "contour": [
                      {
                        "colorbar": {
                          "outlinewidth": 0,
                          "ticks": ""
                        },
                        "colorscale": [
                          [
                            0,
                            "#0d0887"
                          ],
                          [
                            0.1111111111111111,
                            "#46039f"
                          ],
                          [
                            0.2222222222222222,
                            "#7201a8"
                          ],
                          [
                            0.3333333333333333,
                            "#9c179e"
                          ],
                          [
                            0.4444444444444444,
                            "#bd3786"
                          ],
                          [
                            0.5555555555555556,
                            "#d8576b"
                          ],
                          [
                            0.6666666666666666,
                            "#ed7953"
                          ],
                          [
                            0.7777777777777778,
                            "#fb9f3a"
                          ],
                          [
                            0.8888888888888888,
                            "#fdca26"
                          ],
                          [
                            1,
                            "#f0f921"
                          ]
                        ],
                        "type": "contour"
                      }
                    ],
                    "contourcarpet": [
                      {
                        "colorbar": {
                          "outlinewidth": 0,
                          "ticks": ""
                        },
                        "type": "contourcarpet"
                      }
                    ],
                    "heatmap": [
                      {
                        "colorbar": {
                          "outlinewidth": 0,
                          "ticks": ""
                        },
                        "colorscale": [
                          [
                            0,
                            "#0d0887"
                          ],
                          [
                            0.1111111111111111,
                            "#46039f"
                          ],
                          [
                            0.2222222222222222,
                            "#7201a8"
                          ],
                          [
                            0.3333333333333333,
                            "#9c179e"
                          ],
                          [
                            0.4444444444444444,
                            "#bd3786"
                          ],
                          [
                            0.5555555555555556,
                            "#d8576b"
                          ],
                          [
                            0.6666666666666666,
                            "#ed7953"
                          ],
                          [
                            0.7777777777777778,
                            "#fb9f3a"
                          ],
                          [
                            0.8888888888888888,
                            "#fdca26"
                          ],
                          [
                            1,
                            "#f0f921"
                          ]
                        ],
                        "type": "heatmap"
                      }
                    ],
                    "heatmapgl": [
                      {
                        "colorbar": {
                          "outlinewidth": 0,
                          "ticks": ""
                        },
                        "colorscale": [
                          [
                            0,
                            "#0d0887"
                          ],
                          [
                            0.1111111111111111,
                            "#46039f"
                          ],
                          [
                            0.2222222222222222,
                            "#7201a8"
                          ],
                          [
                            0.3333333333333333,
                            "#9c179e"
                          ],
                          [
                            0.4444444444444444,
                            "#bd3786"
                          ],
                          [
                            0.5555555555555556,
                            "#d8576b"
                          ],
                          [
                            0.6666666666666666,
                            "#ed7953"
                          ],
                          [
                            0.7777777777777778,
                            "#fb9f3a"
                          ],
                          [
                            0.8888888888888888,
                            "#fdca26"
                          ],
                          [
                            1,
                            "#f0f921"
                          ]
                        ],
                        "type": "heatmapgl"
                      }
                    ],
                    "histogram": [
                      {
                        "marker": {
                          "pattern": {
                            "fillmode": "overlay",
                            "size": 10,
                            "solidity": 0.2
                          }
                        },
                        "type": "histogram"
                      }
                    ],
                    "histogram2d": [
                      {
                        "colorbar": {
                          "outlinewidth": 0,
                          "ticks": ""
                        },
                        "colorscale": [
                          [
                            0,
                            "#0d0887"
                          ],
                          [
                            0.1111111111111111,
                            "#46039f"
                          ],
                          [
                            0.2222222222222222,
                            "#7201a8"
                          ],
                          [
                            0.3333333333333333,
                            "#9c179e"
                          ],
                          [
                            0.4444444444444444,
                            "#bd3786"
                          ],
                          [
                            0.5555555555555556,
                            "#d8576b"
                          ],
                          [
                            0.6666666666666666,
                            "#ed7953"
                          ],
                          [
                            0.7777777777777778,
                            "#fb9f3a"
                          ],
                          [
                            0.8888888888888888,
                            "#fdca26"
                          ],
                          [
                            1,
                            "#f0f921"
                          ]
                        ],
                        "type": "histogram2d"
                      }
                    ],
                    "histogram2dcontour": [
                      {
                        "colorbar": {
                          "outlinewidth": 0,
                          "ticks": ""
                        },
                        "colorscale": [
                          [
                            0,
                            "#0d0887"
                          ],
                          [
                            0.1111111111111111,
                            "#46039f"
                          ],
                          [
                            0.2222222222222222,
                            "#7201a8"
                          ],
                          [
                            0.3333333333333333,
                            "#9c179e"
                          ],
                          [
                            0.4444444444444444,
                            "#bd3786"
                          ],
                          [
                            0.5555555555555556,
                            "#d8576b"
                          ],
                          [
                            0.6666666666666666,
                            "#ed7953"
                          ],
                          [
                            0.7777777777777778,
                            "#fb9f3a"
                          ],
                          [
                            0.8888888888888888,
                            "#fdca26"
                          ],
                          [
                            1,
                            "#f0f921"
                          ]
                        ],
                        "type": "histogram2dcontour"
                      }
                    ],
                    "mesh3d": [
                      {
                        "colorbar": {
                          "outlinewidth": 0,
                          "ticks": ""
                        },
                        "type": "mesh3d"
                      }
                    ],
                    "parcoords": [
                      {
                        "line": {
                          "colorbar": {
                            "outlinewidth": 0,
                            "ticks": ""
                          }
                        },
                        "type": "parcoords"
                      }
                    ],
                    "pie": [
                      {
                        "automargin": true,
                        "type": "pie"
                      }
                    ],
                    "scatter": [
                      {
                        "fillpattern": {
                          "fillmode": "overlay",
                          "size": 10,
                          "solidity": 0.2
                        },
                        "type": "scatter"
                      }
                    ],
                    "scatter3d": [
                      {
                        "line": {
                          "colorbar": {
                            "outlinewidth": 0,
                            "ticks": ""
                          }
                        },
                        "marker": {
                          "colorbar": {
                            "outlinewidth": 0,
                            "ticks": ""
                          }
                        },
                        "type": "scatter3d"
                      }
                    ],
                    "scattercarpet": [
                      {
                        "marker": {
                          "colorbar": {
                            "outlinewidth": 0,
                            "ticks": ""
                          }
                        },
                        "type": "scattercarpet"
                      }
                    ],
                    "scattergeo": [
                      {
                        "marker": {
                          "colorbar": {
                            "outlinewidth": 0,
                            "ticks": ""
                          }
                        },
                        "type": "scattergeo"
                      }
                    ],
                    "scattergl": [
                      {
                        "marker": {
                          "colorbar": {
                            "outlinewidth": 0,
                            "ticks": ""
                          }
                        },
                        "type": "scattergl"
                      }
                    ],
                    "scattermapbox": [
                      {
                        "marker": {
                          "colorbar": {
                            "outlinewidth": 0,
                            "ticks": ""
                          }
                        },
                        "type": "scattermapbox"
                      }
                    ],
                    "scatterpolar": [
                      {
                        "marker": {
                          "colorbar": {
                            "outlinewidth": 0,
                            "ticks": ""
                          }
                        },
                        "type": "scatterpolar"
                      }
                    ],
                    "scatterpolargl": [
                      {
                        "marker": {
                          "colorbar": {
                            "outlinewidth": 0,
                            "ticks": ""
                          }
                        },
                        "type": "scatterpolargl"
                      }
                    ],
                    "scatterternary": [
                      {
                        "marker": {
                          "colorbar": {
                            "outlinewidth": 0,
                            "ticks": ""
                          }
                        },
                        "type": "scatterternary"
                      }
                    ],
                    "surface": [
                      {
                        "colorbar": {
                          "outlinewidth": 0,
                          "ticks": ""
                        },
                        "colorscale": [
                          [
                            0,
                            "#0d0887"
                          ],
                          [
                            0.1111111111111111,
                            "#46039f"
                          ],
                          [
                            0.2222222222222222,
                            "#7201a8"
                          ],
                          [
                            0.3333333333333333,
                            "#9c179e"
                          ],
                          [
                            0.4444444444444444,
                            "#bd3786"
                          ],
                          [
                            0.5555555555555556,
                            "#d8576b"
                          ],
                          [
                            0.6666666666666666,
                            "#ed7953"
                          ],
                          [
                            0.7777777777777778,
                            "#fb9f3a"
                          ],
                          [
                            0.8888888888888888,
                            "#fdca26"
                          ],
                          [
                            1,
                            "#f0f921"
                          ]
                        ],
                        "type": "surface"
                      }
                    ],
                    "table": [
                      {
                        "cells": {
                          "fill": {
                            "color": "#EBF0F8"
                          },
                          "line": {
                            "color": "white"
                          }
                        },
                        "header": {
                          "fill": {
                            "color": "#C8D4E3"
                          },
                          "line": {
                            "color": "white"
                          }
                        },
                        "type": "table"
                      }
                    ]
                  },
                  "layout": {
                    "annotationdefaults": {
                      "arrowcolor": "#2a3f5f",
                      "arrowhead": 0,
                      "arrowwidth": 1
                    },
                    "autotypenumbers": "strict",
                    "coloraxis": {
                      "colorbar": {
                        "outlinewidth": 0,
                        "ticks": ""
                      }
                    },
                    "colorscale": {
                      "diverging": [
                        [
                          0,
                          "#8e0152"
                        ],
                        [
                          0.1,
                          "#c51b7d"
                        ],
                        [
                          0.2,
                          "#de77ae"
                        ],
                        [
                          0.3,
                          "#f1b6da"
                        ],
                        [
                          0.4,
                          "#fde0ef"
                        ],
                        [
                          0.5,
                          "#f7f7f7"
                        ],
                        [
                          0.6,
                          "#e6f5d0"
                        ],
                        [
                          0.7,
                          "#b8e186"
                        ],
                        [
                          0.8,
                          "#7fbc41"
                        ],
                        [
                          0.9,
                          "#4d9221"
                        ],
                        [
                          1,
                          "#276419"
                        ]
                      ],
                      "sequential": [
                        [
                          0,
                          "#0d0887"
                        ],
                        [
                          0.1111111111111111,
                          "#46039f"
                        ],
                        [
                          0.2222222222222222,
                          "#7201a8"
                        ],
                        [
                          0.3333333333333333,
                          "#9c179e"
                        ],
                        [
                          0.4444444444444444,
                          "#bd3786"
                        ],
                        [
                          0.5555555555555556,
                          "#d8576b"
                        ],
                        [
                          0.6666666666666666,
                          "#ed7953"
                        ],
                        [
                          0.7777777777777778,
                          "#fb9f3a"
                        ],
                        [
                          0.8888888888888888,
                          "#fdca26"
                        ],
                        [
                          1,
                          "#f0f921"
                        ]
                      ],
                      "sequentialminus": [
                        [
                          0,
                          "#0d0887"
                        ],
                        [
                          0.1111111111111111,
                          "#46039f"
                        ],
                        [
                          0.2222222222222222,
                          "#7201a8"
                        ],
                        [
                          0.3333333333333333,
                          "#9c179e"
                        ],
                        [
                          0.4444444444444444,
                          "#bd3786"
                        ],
                        [
                          0.5555555555555556,
                          "#d8576b"
                        ],
                        [
                          0.6666666666666666,
                          "#ed7953"
                        ],
                        [
                          0.7777777777777778,
                          "#fb9f3a"
                        ],
                        [
                          0.8888888888888888,
                          "#fdca26"
                        ],
                        [
                          1,
                          "#f0f921"
                        ]
                      ]
                    },
                    "colorway": [
                      "#636efa",
                      "#EF553B",
                      "#00cc96",
                      "#ab63fa",
                      "#FFA15A",
                      "#19d3f3",
                      "#FF6692",
                      "#B6E880",
                      "#FF97FF",
                      "#FECB52"
                    ],
                    "font": {
                      "color": "#2a3f5f"
                    },
                    "geo": {
                      "bgcolor": "white",
                      "lakecolor": "white",
                      "landcolor": "#E5ECF6",
                      "showlakes": true,
                      "showland": true,
                      "subunitcolor": "white"
                    },
                    "hoverlabel": {
                      "align": "left"
                    },
                    "hovermode": "closest",
                    "mapbox": {
                      "style": "light"
                    },
                    "paper_bgcolor": "white",
                    "plot_bgcolor": "#E5ECF6",
                    "polar": {
                      "angularaxis": {
                        "gridcolor": "white",
                        "linecolor": "white",
                        "ticks": ""
                      },
                      "bgcolor": "#E5ECF6",
                      "radialaxis": {
                        "gridcolor": "white",
                        "linecolor": "white",
                        "ticks": ""
                      }
                    },
                    "scene": {
                      "xaxis": {
                        "backgroundcolor": "#E5ECF6",
                        "gridcolor": "white",
                        "gridwidth": 2,
                        "linecolor": "white",
                        "showbackground": true,
                        "ticks": "",
                        "zerolinecolor": "white"
                      },
                      "yaxis": {
                        "backgroundcolor": "#E5ECF6",
                        "gridcolor": "white",
                        "gridwidth": 2,
                        "linecolor": "white",
                        "showbackground": true,
                        "ticks": "",
                        "zerolinecolor": "white"
                      },
                      "zaxis": {
                        "backgroundcolor": "#E5ECF6",
                        "gridcolor": "white",
                        "gridwidth": 2,
                        "linecolor": "white",
                        "showbackground": true,
                        "ticks": "",
                        "zerolinecolor": "white"
                      }
                    },
                    "shapedefaults": {
                      "line": {
                        "color": "#2a3f5f"
                      }
                    },
                    "ternary": {
                      "aaxis": {
                        "gridcolor": "white",
                        "linecolor": "white",
                        "ticks": ""
                      },
                      "baxis": {
                        "gridcolor": "white",
                        "linecolor": "white",
                        "ticks": ""
                      },
                      "bgcolor": "#E5ECF6",
                      "caxis": {
                        "gridcolor": "white",
                        "linecolor": "white",
                        "ticks": ""
                      }
                    },
                    "title": {
                      "x": 0.05
                    },
                    "xaxis": {
                      "automargin": true,
                      "gridcolor": "white",
                      "linecolor": "white",
                      "ticks": "",
                      "title": {
                        "standoff": 15
                      },
                      "zerolinecolor": "white",
                      "zerolinewidth": 2
                    },
                    "yaxis": {
                      "automargin": true,
                      "gridcolor": "white",
                      "linecolor": "white",
                      "ticks": "",
                      "title": {
                        "standoff": 15
                      },
                      "zerolinecolor": "white",
                      "zerolinewidth": 2
                    }
                  }
                },
                "title": {
                  "text": "Feature Importances Above Threshold"
                }
              }
            }
          },
          "metadata": {},
          "output_type": "display_data"
        }
      ],
      "source": [
        "fig = px.pie(selected_features, values='importance', names='features', title='Feature Importances Above Threshold')\n",
        "fig.show()"
      ]
    },
    {
      "cell_type": "code",
      "execution_count": null,
      "metadata": {},
      "outputs": [],
      "source": []
    }
  ],
  "metadata": {
    "colab": {
      "collapsed_sections": [],
      "name": "modeling.ipynb",
      "provenance": []
    },
    "kernelspec": {
      "display_name": "base",
      "language": "python",
      "name": "python3"
    },
    "language_info": {
      "codemirror_mode": {
        "name": "ipython",
        "version": 3
      },
      "file_extension": ".py",
      "mimetype": "text/x-python",
      "name": "python",
      "nbconvert_exporter": "python",
      "pygments_lexer": "ipython3",
      "version": "3.9.12"
    },
    "vscode": {
      "interpreter": {
        "hash": "40d3a090f54c6569ab1632332b64b2c03c39dcf918b08424e98f38b5ae0af88f"
      }
    }
  },
  "nbformat": 4,
  "nbformat_minor": 0
}
